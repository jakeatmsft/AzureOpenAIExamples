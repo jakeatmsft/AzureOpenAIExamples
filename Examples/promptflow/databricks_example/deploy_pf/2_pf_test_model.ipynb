{
 "cells": [
  {
   "cell_type": "code",
   "execution_count": 0,
   "metadata": {
    "application/vnd.databricks.v1+cell": {
     "cellMetadata": {
      "byteLimit": 2048000,
      "rowLimit": 10000
     },
     "inputWidgets": {},
     "nuid": "7fc5d128-7534-4b57-b32a-27b1153587cb",
     "showTitle": false,
     "title": ""
    }
   },
   "outputs": [
    {
     "output_type": "stream",
     "name": "stdout",
     "output_type": "stream",
     "text": [
      "\u001B[43mNote: you may need to restart the kernel using dbutils.library.restartPython() to use updated packages.\u001B[0m\nRequirement already satisfied: promptflow in /local_disk0/.ephemeral_nfs/envs/pythonEnv-9cb5995c-736a-4447-ac5b-f37d9b994717/lib/python3.10/site-packages (0.1.0b8)\nRequirement already satisfied: promptflow-tools in /local_disk0/.ephemeral_nfs/envs/pythonEnv-9cb5995c-736a-4447-ac5b-f37d9b994717/lib/python3.10/site-packages (0.1.0b11)\nRequirement already satisfied: keyrings.alt in /local_disk0/.ephemeral_nfs/envs/pythonEnv-9cb5995c-736a-4447-ac5b-f37d9b994717/lib/python3.10/site-packages (5.0.0)\nRequirement already satisfied: colorama<0.5.0,>=0.4.6 in /local_disk0/.ephemeral_nfs/envs/pythonEnv-9cb5995c-736a-4447-ac5b-f37d9b994717/lib/python3.10/site-packages (from promptflow) (0.4.6)\nRequirement already satisfied: psutil in /databricks/python3/lib/python3.10/site-packages (from promptflow) (5.9.0)\nRequirement already satisfied: pyarrow<14.0.0,>=13.0.0 in /local_disk0/.ephemeral_nfs/envs/pythonEnv-9cb5995c-736a-4447-ac5b-f37d9b994717/lib/python3.10/site-packages (from promptflow) (13.0.0)\nRequirement already satisfied: dataset<2.0.0,>=1.6.0 in /local_disk0/.ephemeral_nfs/envs/pythonEnv-9cb5995c-736a-4447-ac5b-f37d9b994717/lib/python3.10/site-packages (from promptflow) (1.6.2)\nRequirement already satisfied: tabulate<1.0.0,>=0.9.0 in /local_disk0/.ephemeral_nfs/envs/pythonEnv-9cb5995c-736a-4447-ac5b-f37d9b994717/lib/python3.10/site-packages (from promptflow) (0.9.0)\nRequirement already satisfied: pillow<11.0.0,>=10.1.0 in /local_disk0/.ephemeral_nfs/envs/pythonEnv-9cb5995c-736a-4447-ac5b-f37d9b994717/lib/python3.10/site-packages (from promptflow) (10.1.0)\nRequirement already satisfied: openai<0.28.0,>=0.27.8 in /local_disk0/.ephemeral_nfs/envs/pythonEnv-9cb5995c-736a-4447-ac5b-f37d9b994717/lib/python3.10/site-packages (from promptflow) (0.27.10)\nRequirement already satisfied: ruamel.yaml<0.18.0,>=0.17.35 in /local_disk0/.ephemeral_nfs/envs/pythonEnv-9cb5995c-736a-4447-ac5b-f37d9b994717/lib/python3.10/site-packages (from promptflow) (0.17.40)\nRequirement already satisfied: pydash<7.0.0,>=6.0.0 in /local_disk0/.ephemeral_nfs/envs/pythonEnv-9cb5995c-736a-4447-ac5b-f37d9b994717/lib/python3.10/site-packages (from promptflow) (6.0.2)\nRequirement already satisfied: python-dotenv<2.0.0,>=1.0.0 in /local_disk0/.ephemeral_nfs/envs/pythonEnv-9cb5995c-736a-4447-ac5b-f37d9b994717/lib/python3.10/site-packages (from promptflow) (1.0.0)\nRequirement already satisfied: keyring<25.0.0,>=24.2.0 in /local_disk0/.ephemeral_nfs/envs/pythonEnv-9cb5995c-736a-4447-ac5b-f37d9b994717/lib/python3.10/site-packages (from promptflow) (24.2.0)\nRequirement already satisfied: marshmallow<4.0.0,>=3.5 in /databricks/python3/lib/python3.10/site-packages (from promptflow) (3.20.1)\nRequirement already satisfied: flask<3.0.0,>=2.2.3 in /databricks/python3/lib/python3.10/site-packages (from promptflow) (2.2.5)\nRequirement already satisfied: gitpython<4.0.0,>=3.1.24 in /databricks/python3/lib/python3.10/site-packages (from promptflow) (3.1.27)\nRequirement already satisfied: cryptography<42.0.0,>=41.0.3 in /local_disk0/.ephemeral_nfs/envs/pythonEnv-9cb5995c-736a-4447-ac5b-f37d9b994717/lib/python3.10/site-packages (from promptflow) (41.0.5)\nRequirement already satisfied: pandas<3.0.0,>=1.5.3 in /databricks/python3/lib/python3.10/site-packages (from promptflow) (1.5.3)\nRequirement already satisfied: strictyaml<2.0.0,>=1.5.0 in /local_disk0/.ephemeral_nfs/envs/pythonEnv-9cb5995c-736a-4447-ac5b-f37d9b994717/lib/python3.10/site-packages (from promptflow) (1.7.3)\nRequirement already satisfied: opencensus-ext-azure<2.0.0 in /local_disk0/.ephemeral_nfs/envs/pythonEnv-9cb5995c-736a-4447-ac5b-f37d9b994717/lib/python3.10/site-packages (from promptflow) (1.1.11)\nRequirement already satisfied: sqlalchemy<2.0.0,>=1.4.48 in /local_disk0/.ephemeral_nfs/envs/pythonEnv-9cb5995c-736a-4447-ac5b-f37d9b994717/lib/python3.10/site-packages (from promptflow) (1.4.50)\nRequirement already satisfied: filelock<4.0.0,>=3.4.0 in /databricks/python3/lib/python3.10/site-packages (from promptflow) (3.9.0)\nRequirement already satisfied: pyyaml<7.0.0,>=5.1.0 in /databricks/python3/lib/python3.10/site-packages (from promptflow) (6.0)\nRequirement already satisfied: waitress<3.0.0,>=2.1.2 in /local_disk0/.ephemeral_nfs/envs/pythonEnv-9cb5995c-736a-4447-ac5b-f37d9b994717/lib/python3.10/site-packages (from promptflow) (2.1.2)\nRequirement already satisfied: tiktoken>=0.4.0 in /databricks/python3/lib/python3.10/site-packages (from promptflow) (0.5.1)\nRequirement already satisfied: google-search-results==2.4.1 in /local_disk0/.ephemeral_nfs/envs/pythonEnv-9cb5995c-736a-4447-ac5b-f37d9b994717/lib/python3.10/site-packages (from promptflow-tools) (2.4.1)\nRequirement already satisfied: requests in /databricks/python3/lib/python3.10/site-packages (from google-search-results==2.4.1->promptflow-tools) (2.28.1)\nRequirement already satisfied: jaraco.classes in /local_disk0/.ephemeral_nfs/envs/pythonEnv-9cb5995c-736a-4447-ac5b-f37d9b994717/lib/python3.10/site-packages (from keyrings.alt) (3.3.0)\nRequirement already satisfied: cffi>=1.12 in /databricks/python3/lib/python3.10/site-packages (from cryptography<42.0.0,>=41.0.3->promptflow) (1.15.1)\nRequirement already satisfied: banal>=1.0.1 in /local_disk0/.ephemeral_nfs/envs/pythonEnv-9cb5995c-736a-4447-ac5b-f37d9b994717/lib/python3.10/site-packages (from dataset<2.0.0,>=1.6.0->promptflow) (1.0.6)\nRequirement already satisfied: alembic>=0.6.2 in /local_disk0/.ephemeral_nfs/envs/pythonEnv-9cb5995c-736a-4447-ac5b-f37d9b994717/lib/python3.10/site-packages (from dataset<2.0.0,>=1.6.0->promptflow) (1.12.1)\nRequirement already satisfied: Jinja2>=3.0 in /databricks/python3/lib/python3.10/site-packages (from flask<3.0.0,>=2.2.3->promptflow) (3.1.2)\nRequirement already satisfied: click>=8.0 in /databricks/python3/lib/python3.10/site-packages (from flask<3.0.0,>=2.2.3->promptflow) (8.0.4)\nRequirement already satisfied: Werkzeug>=2.2.2 in /databricks/python3/lib/python3.10/site-packages (from flask<3.0.0,>=2.2.3->promptflow) (2.2.2)\nRequirement already satisfied: itsdangerous>=2.0 in /databricks/python3/lib/python3.10/site-packages (from flask<3.0.0,>=2.2.3->promptflow) (2.0.1)\nRequirement already satisfied: gitdb<5,>=4.0.1 in /databricks/python3/lib/python3.10/site-packages (from gitpython<4.0.0,>=3.1.24->promptflow) (4.0.11)\nRequirement already satisfied: importlib-metadata>=4.11.4 in /local_disk0/.ephemeral_nfs/envs/pythonEnv-9cb5995c-736a-4447-ac5b-f37d9b994717/lib/python3.10/site-packages (from keyring<25.0.0,>=24.2.0->promptflow) (6.8.0)\nRequirement already satisfied: SecretStorage>=3.2 in /usr/lib/python3/dist-packages (from keyring<25.0.0,>=24.2.0->promptflow) (3.3.1)\nRequirement already satisfied: jeepney>=0.4.2 in /usr/lib/python3/dist-packages (from keyring<25.0.0,>=24.2.0->promptflow) (0.7.1)\nRequirement already satisfied: packaging>=17.0 in /databricks/python3/lib/python3.10/site-packages (from marshmallow<4.0.0,>=3.5->promptflow) (22.0)\nRequirement already satisfied: aiohttp in /databricks/python3/lib/python3.10/site-packages (from openai<0.28.0,>=0.27.8->promptflow) (3.8.6)\nRequirement already satisfied: tqdm in /databricks/python3/lib/python3.10/site-packages (from openai<0.28.0,>=0.27.8->promptflow) (4.64.1)\nRequirement already satisfied: opencensus<1.0.0,>=0.11.3 in /local_disk0/.ephemeral_nfs/envs/pythonEnv-9cb5995c-736a-4447-ac5b-f37d9b994717/lib/python3.10/site-packages (from opencensus-ext-azure<2.0.0->promptflow) (0.11.3)\nRequirement already satisfied: azure-core<2.0.0,>=1.12.0 in /databricks/python3/lib/python3.10/site-packages (from opencensus-ext-azure<2.0.0->promptflow) (1.29.1)\nRequirement already satisfied: azure-identity<2.0.0,>=1.5.0 in /local_disk0/.ephemeral_nfs/envs/pythonEnv-9cb5995c-736a-4447-ac5b-f37d9b994717/lib/python3.10/site-packages (from opencensus-ext-azure<2.0.0->promptflow) (1.15.0)\nRequirement already satisfied: pytz>=2020.1 in /databricks/python3/lib/python3.10/site-packages (from pandas<3.0.0,>=1.5.3->promptflow) (2022.7)\nRequirement already satisfied: python-dateutil>=2.8.1 in /databricks/python3/lib/python3.10/site-packages (from pandas<3.0.0,>=1.5.3->promptflow) (2.8.2)\nRequirement already satisfied: numpy>=1.21.0 in /databricks/python3/lib/python3.10/site-packages (from pandas<3.0.0,>=1.5.3->promptflow) (1.23.5)\nRequirement already satisfied: ruamel.yaml.clib>=0.2.7 in /local_disk0/.ephemeral_nfs/envs/pythonEnv-9cb5995c-736a-4447-ac5b-f37d9b994717/lib/python3.10/site-packages (from ruamel.yaml<0.18.0,>=0.17.35->promptflow) (0.2.8)\nRequirement already satisfied: greenlet!=0.4.17 in /databricks/python3/lib/python3.10/site-packages (from sqlalchemy<2.0.0,>=1.4.48->promptflow) (2.0.1)\nRequirement already satisfied: regex>=2022.1.18 in /databricks/python3/lib/python3.10/site-packages (from tiktoken>=0.4.0->promptflow) (2022.7.9)\nRequirement already satisfied: more-itertools in /usr/lib/python3/dist-packages (from jaraco.classes->keyrings.alt) (8.10.0)\nRequirement already satisfied: typing-extensions>=4 in /databricks/python3/lib/python3.10/site-packages (from alembic>=0.6.2->dataset<2.0.0,>=1.6.0->promptflow) (4.4.0)\nRequirement already satisfied: Mako in /databricks/python3/lib/python3.10/site-packages (from alembic>=0.6.2->dataset<2.0.0,>=1.6.0->promptflow) (1.2.0)\nRequirement already satisfied: six>=1.11.0 in /usr/lib/python3/dist-packages (from azure-core<2.0.0,>=1.12.0->opencensus-ext-azure<2.0.0->promptflow) (1.16.0)\nRequirement already satisfied: msal-extensions<2.0.0,>=0.3.0 in /local_disk0/.ephemeral_nfs/envs/pythonEnv-9cb5995c-736a-4447-ac5b-f37d9b994717/lib/python3.10/site-packages (from azure-identity<2.0.0,>=1.5.0->opencensus-ext-azure<2.0.0->promptflow) (1.0.0)\nRequirement already satisfied: msal<2.0.0,>=1.24.0 in /local_disk0/.ephemeral_nfs/envs/pythonEnv-9cb5995c-736a-4447-ac5b-f37d9b994717/lib/python3.10/site-packages (from azure-identity<2.0.0,>=1.5.0->opencensus-ext-azure<2.0.0->promptflow) (1.25.0)\nRequirement already satisfied: pycparser in /databricks/python3/lib/python3.10/site-packages (from cffi>=1.12->cryptography<42.0.0,>=41.0.3->promptflow) (2.21)\nRequirement already satisfied: smmap<6,>=3.0.1 in /databricks/python3/lib/python3.10/site-packages (from gitdb<5,>=4.0.1->gitpython<4.0.0,>=3.1.24->promptflow) (5.0.0)\nRequirement already satisfied: zipp>=0.5 in /databricks/python3/lib/python3.10/site-packages (from importlib-metadata>=4.11.4->keyring<25.0.0,>=24.2.0->promptflow) (3.11.0)\nRequirement already satisfied: MarkupSafe>=2.0 in /databricks/python3/lib/python3.10/site-packages (from Jinja2>=3.0->flask<3.0.0,>=2.2.3->promptflow) (2.1.1)\nRequirement already satisfied: opencensus-context>=0.1.3 in /local_disk0/.ephemeral_nfs/envs/pythonEnv-9cb5995c-736a-4447-ac5b-f37d9b994717/lib/python3.10/site-packages (from opencensus<1.0.0,>=0.11.3->opencensus-ext-azure<2.0.0->promptflow) (0.1.3)\nRequirement already satisfied: google-api-core<3.0.0,>=1.0.0 in /databricks/python3/lib/python3.10/site-packages (from opencensus<1.0.0,>=0.11.3->opencensus-ext-azure<2.0.0->promptflow) (2.12.0)\nRequirement already satisfied: certifi>=2017.4.17 in /databricks/python3/lib/python3.10/site-packages (from requests->google-search-results==2.4.1->promptflow-tools) (2022.12.7)\nRequirement already satisfied: charset-normalizer<3,>=2 in /databricks/python3/lib/python3.10/site-packages (from requests->google-search-results==2.4.1->promptflow-tools) (2.0.4)\nRequirement already satisfied: idna<4,>=2.5 in /databricks/python3/lib/python3.10/site-packages (from requests->google-search-results==2.4.1->promptflow-tools) (3.4)\nRequirement already satisfied: urllib3<1.27,>=1.21.1 in /databricks/python3/lib/python3.10/site-packages (from requests->google-search-results==2.4.1->promptflow-tools) (1.26.14)\nRequirement already satisfied: multidict<7.0,>=4.5 in /databricks/python3/lib/python3.10/site-packages (from aiohttp->openai<0.28.0,>=0.27.8->promptflow) (6.0.4)\nRequirement already satisfied: frozenlist>=1.1.1 in /databricks/python3/lib/python3.10/site-packages (from aiohttp->openai<0.28.0,>=0.27.8->promptflow) (1.4.0)\nRequirement already satisfied: attrs>=17.3.0 in /databricks/python3/lib/python3.10/site-packages (from aiohttp->openai<0.28.0,>=0.27.8->promptflow) (22.1.0)\nRequirement already satisfied: aiosignal>=1.1.2 in /databricks/python3/lib/python3.10/site-packages (from aiohttp->openai<0.28.0,>=0.27.8->promptflow) (1.3.1)\nRequirement already satisfied: async-timeout<5.0,>=4.0.0a3 in /databricks/python3/lib/python3.10/site-packages (from aiohttp->openai<0.28.0,>=0.27.8->promptflow) (4.0.3)\nRequirement already satisfied: yarl<2.0,>=1.0 in /databricks/python3/lib/python3.10/site-packages (from aiohttp->openai<0.28.0,>=0.27.8->promptflow) (1.9.2)\nRequirement already satisfied: google-auth<3.0.dev0,>=2.14.1 in /databricks/python3/lib/python3.10/site-packages (from google-api-core<3.0.0,>=1.0.0->opencensus<1.0.0,>=0.11.3->opencensus-ext-azure<2.0.0->promptflow) (2.21.0)\nRequirement already satisfied: googleapis-common-protos<2.0.dev0,>=1.56.2 in /databricks/python3/lib/python3.10/site-packages (from google-api-core<3.0.0,>=1.0.0->opencensus<1.0.0,>=0.11.3->opencensus-ext-azure<2.0.0->promptflow) (1.61.0)\nRequirement already satisfied: protobuf!=3.20.0,!=3.20.1,!=4.21.0,!=4.21.1,!=4.21.2,!=4.21.3,!=4.21.4,!=4.21.5,<5.0.0.dev0,>=3.19.5 in /databricks/python3/lib/python3.10/site-packages (from google-api-core<3.0.0,>=1.0.0->opencensus<1.0.0,>=0.11.3->opencensus-ext-azure<2.0.0->promptflow) (4.24.0)\nRequirement already satisfied: PyJWT[crypto]<3,>=1.0.0 in /usr/lib/python3/dist-packages (from msal<2.0.0,>=1.24.0->azure-identity<2.0.0,>=1.5.0->opencensus-ext-azure<2.0.0->promptflow) (2.3.0)\nRequirement already satisfied: portalocker<3,>=1.0 in /local_disk0/.ephemeral_nfs/envs/pythonEnv-9cb5995c-736a-4447-ac5b-f37d9b994717/lib/python3.10/site-packages (from msal-extensions<2.0.0,>=0.3.0->azure-identity<2.0.0,>=1.5.0->opencensus-ext-azure<2.0.0->promptflow) (2.8.2)\nRequirement already satisfied: cachetools<6.0,>=2.0.0 in /databricks/python3/lib/python3.10/site-packages (from google-auth<3.0.dev0,>=2.14.1->google-api-core<3.0.0,>=1.0.0->opencensus<1.0.0,>=0.11.3->opencensus-ext-azure<2.0.0->promptflow) (5.3.2)\nRequirement already satisfied: pyasn1-modules>=0.2.1 in /databricks/python3/lib/python3.10/site-packages (from google-auth<3.0.dev0,>=2.14.1->google-api-core<3.0.0,>=1.0.0->opencensus<1.0.0,>=0.11.3->opencensus-ext-azure<2.0.0->promptflow) (0.2.8)\nRequirement already satisfied: rsa<5,>=3.1.4 in /databricks/python3/lib/python3.10/site-packages (from google-auth<3.0.dev0,>=2.14.1->google-api-core<3.0.0,>=1.0.0->opencensus<1.0.0,>=0.11.3->opencensus-ext-azure<2.0.0->promptflow) (4.9)\nRequirement already satisfied: pyasn1<0.5.0,>=0.4.6 in /databricks/python3/lib/python3.10/site-packages (from pyasn1-modules>=0.2.1->google-auth<3.0.dev0,>=2.14.1->google-api-core<3.0.0,>=1.0.0->opencensus<1.0.0,>=0.11.3->opencensus-ext-azure<2.0.0->promptflow) (0.4.8)\n\u001B[43mNote: you may need to restart the kernel using dbutils.library.restartPython() to use updated packages.\u001B[0m\n"
     ]
    }
   ],
   "source": [
    "### Install pf requirements\n",
    "!pip install promptflow promptflow-tools keyrings.alt"
   ]
  },
  {
   "cell_type": "code",
   "execution_count": 0,
   "metadata": {
    "application/vnd.databricks.v1+cell": {
     "cellMetadata": {
      "byteLimit": 2048000,
      "rowLimit": 10000
     },
     "inputWidgets": {},
     "nuid": "f8799853-01d0-4da1-9f8f-cc3a280fd8f5",
     "showTitle": false,
     "title": ""
    }
   },
   "outputs": [],
   "source": [
    "dbutils.library.restartPython()"
   ]
  },
  {
   "cell_type": "markdown",
   "metadata": {
    "application/vnd.databricks.v1+cell": {
     "cellMetadata": {
      "byteLimit": 2048000,
      "rowLimit": 10000
     },
     "inputWidgets": {},
     "nuid": "578c3fb3-a87a-4f92-828f-3522f7543fec",
     "showTitle": false,
     "title": ""
    }
   },
   "source": [
    "### Check to ensure promptflow is installed: !pf -v should display \"0.1.0b8\""
   ]
  },
  {
   "cell_type": "code",
   "execution_count": 0,
   "metadata": {
    "application/vnd.databricks.v1+cell": {
     "cellMetadata": {
      "byteLimit": 2048000,
      "rowLimit": 10000
     },
     "inputWidgets": {},
     "nuid": "8a18ed6a-2e40-4f90-8745-72d36fdda71c",
     "showTitle": false,
     "title": ""
    }
   },
   "outputs": [
    {
     "output_type": "stream",
     "name": "stdout",
     "output_type": "stream",
     "text": [
      "0.1.0b8\r\n"
     ]
    }
   ],
   "source": [
    "!pf -v"
   ]
  },
  {
   "cell_type": "code",
   "execution_count": 0,
   "metadata": {
    "application/vnd.databricks.v1+cell": {
     "cellMetadata": {
      "byteLimit": 2048000,
      "rowLimit": 10000
     },
     "inputWidgets": {},
     "nuid": "72240a87-9686-45a8-a3f4-8e729a1bc830",
     "showTitle": false,
     "title": ""
    }
   },
   "outputs": [
    {
     "output_type": "display_data",
     "data": {
      "application/vnd.jupyter.widget-view+json": {
       "model_id": "180481cb665e453aa97a136d8cff196d",
       "version_major": 2,
       "version_minor": 0
      },
      "text/plain": [
       "Downloading artifacts:   0%|          | 0/16 [00:00<?, ?it/s]"
      ]
     },
     "metadata": {},
     "output_type": "display_data"
    },
    {
     "output_type": "stream",
     "name": "stderr",
     "output_type": "stream",
     "text": [
      "2023/11/09 05:11:59 INFO mlflow.store.artifact.artifact_repo: The progress bar can be disabled by setting the environment variable MLFLOW_ENABLE_ARTIFACTS_PROGRESS_BAR to false\n"
     ]
    },
    {
     "output_type": "stream",
     "name": "stdout",
     "output_type": "stream",
     "text": [
      "using existing connection\n2023-11-09 05:12:02 +0000    2193 execution.flow     INFO     Start to run 6 nodes with concurrency level 16.\n2023-11-09 05:12:02 +0000    2193 execution.flow     INFO     Executing node llm_python. node run id: d1132b7a-f251-461e-bbab-68fe4cb29624_llm_python_0\n2023-11-09 05:12:04 +0000    2193 execution.flow     INFO     Node llm_python completes.\n2023-11-09 05:12:04 +0000    2193 execution.flow     INFO     Executing node analyze_df. node run id: d1132b7a-f251-461e-bbab-68fe4cb29624_analyze_df_0\n2023-11-09 05:12:04 +0000    2193 execution.flow     INFO     [analyze_df in line 0 (index starts from 0)] stdout> import pandas as pd\ndf = pd.read_csv('Mock_Count_index_Data_20230928G.csv')\n# Assuming your dataframe is named 'df'\ntop_5_geos = df.nlargest(5, 'sales_index')[['geo', 'sales_index']]\nbottom_5_geos = df.nsmallest(5, 'sales_index')[['geo', 'sales_index']]\nans = (top_5_geos, bottom_5_geos)\nprint(ans)\n2023-11-09 05:12:05 +0000    2193 execution.flow     INFO     [analyze_df in line 0 (index starts from 0)] stdout> CompletedProcess(args=['python', '-c', \"import pandas as pd\\ndf = pd.read_csv('Mock_Count_index_Data_20230928G.csv')\\n# Assuming your dataframe is named 'df'\\ntop_5_geos = df.nlargest(5, 'sales_index')[['geo', 'sales_index']]\\nbottom_5_geos = df.nsmallest(5, 'sales_index')[['geo', 'sales_index']]\\nans = (top_5_geos, bottom_5_geos)\\nprint(ans)\"], returncode=0, stdout=b'(   geo  sales_index\\n32  GA   199.235498\\n8   MN   199.168004\\n59  AK   198.894644\\n34  GA   198.266603\\n86  US   197.693333,    geo  sales_index\\n99  US   100.240206\\n96  US   100.940791\\n85  US   102.805206\\n35  GA   102.852482\\n47  CA   105.875755)\\n', stderr=b'')\n2023-11-09 05:12:05 +0000    2193 execution.flow     INFO     Node analyze_df completes.\n2023-11-09 05:12:05 +0000    2193 execution.flow     INFO     Executing node output_format. node run id: d1132b7a-f251-461e-bbab-68fe4cb29624_output_format_0\n2023-11-09 05:12:05 +0000    2193 execution.flow     INFO     Executing node generate_insights. node run id: d1132b7a-f251-461e-bbab-68fe4cb29624_generate_insights_0\n2023-11-09 05:12:05 +0000    2193 execution.flow     INFO     Node generate_insights completes.\n2023-11-09 05:12:07 +0000    2193 execution.flow     INFO     Node output_format completes.\n2023-11-09 05:12:07 +0000    2193 execution.flow     INFO     Executing node insight_result. node run id: d1132b7a-f251-461e-bbab-68fe4cb29624_insight_result_0\n2023-11-09 05:12:07 +0000    2193 execution.flow     INFO     Node insight_result completes.\n2023-11-09 05:12:07 +0000    2193 execution.flow     INFO     Executing node concat_result. node run id: d1132b7a-f251-461e-bbab-68fe4cb29624_concat_result_0\n2023-11-09 05:12:07 +0000    2193 execution.flow     INFO     Node concat_result completes.\n"
     ]
    }
   ],
   "source": [
    "import mlflow\n",
    "import mlflow.pyfunc\n",
    "from mlflow.models import infer_signature\n",
    "\n",
    "model = mlflow.pyfunc.load_model(\"models:/chat_csv-promptflow/1\")\n",
    "question = 'which 5 geos with the highest sales index and 5 with lowest sales index provide sales index vlues?'\n",
    "# Test flow\n",
    "model_input = {\"columnlist\": '''[ uid : identifier, geo : geography, naics_code_3 : industry code,\n",
    "          naics_code_2 : industry code, period : date format YYYYMMDD,\n",
    "          count_index : count_index, sales_index : sales_index, count_mom_diff :\n",
    "          count_mom_diff, count_mom_rank : count_mom_rank, count_yoy_diff :\n",
    "          count_yoy_diff, count_yoy_rank : count_yoy_rank,  sales_mom_diff :\n",
    "          sales_mom_diff, sales_mom_rank : sales_mom_rank, sales_yoy_diff :\n",
    "          sales_yoy_diff, sales_yoy_rank : sales_yoy_rank, count_index_adj :\n",
    "          count_index_adj, sales_index_adj :\n",
    "          sales_index_adj,  count_adj_mom_diff : count_adj_mom_diff,\n",
    "          count_adj_mom_rank : count_adj_mom_rank, count_adj_yoy_diff :\n",
    "          count_adj_yoy_diff, count_adj_yoy_rank : count_adj_yoy_rank,\n",
    "          sales_adj_mom_diff : sales_adj_mom_diff, sales_adj_mom_rank :\n",
    "          sales_adj_mom_rank, sales_adj_yoy_diff : sales_adj_yoy_diff,\n",
    "          sales_adj_yoy_rank : sales_adj_yoy_rank, partition_by : YYYYMM ]''',\n",
    "        'filename': 'Mock_Count_index_Data_20230928G.csv',\n",
    "        'question': question }  # The inputs of the flow.\n",
    "\n",
    "output = model.predict(model_input)"
   ]
  },
  {
   "cell_type": "code",
   "execution_count": 0,
   "metadata": {
    "application/vnd.databricks.v1+cell": {
     "cellMetadata": {
      "byteLimit": 2048000,
      "rowLimit": 10000
     },
     "inputWidgets": {},
     "nuid": "dd36ce75-fbf8-41d0-adc5-9e4cdea41df1",
     "showTitle": false,
     "title": ""
    }
   },
   "outputs": [
    {
     "output_type": "stream",
     "name": "stdout",
     "output_type": "stream",
     "text": [
      "Program:\n```\n# Assuming your dataframe is named 'df'\ntop_5_geos = df.nlargest(5, 'sales_index')[['geo', 'sales_index']]\nbottom_5_geos = df.nsmallest(5, 'sales_index')[['geo', 'sales_index']]\nans = (top_5_geos, bottom_5_geos)\n```\n\nResult:\n```\n| geo | sales_index |\n|-----|-------------|\n| GA  | 199.235498  |\n| MN  | 199.168004  |\n| AK  | 198.894644  |\n| GA  | 198.266603  |\n| US  | 197.693333  |\n\n| geo | sales_index |\n|-----|-------------|\n| US  | 100.240206  |\n| US  | 100.940791  |\n| US  | 102.805206  |\n| GA  | 102.852482  |\n| CA  | 105.875755  |\n```\n\nInsights:\n```\n```\n| geo | sales_index |\n|-----|-------------|\n| GA  | 199.235498  |\n| MN  | 199.168004  |\n| AK  | 198.894644  |\n| GA  | 198.266603  |\n| US  | 197.693333  |\n\n| geo | sales_index |\n|-----|-------------|\n| US  | 100.240206  |\n| US  | 100.940791  |\n| US  | 102.805206  |\n| GA  | 102.852482  |\n| CA  | 105.875755  |\n```\nThe provided data consists of two tables. The first table has two columns: \"geo\" and \"sales_index\". The second table also has two columns: \"geo\" and \"sales_index\". However, the second table has different values for \"sales_index\" compared to the first table.\n```\n"
     ]
    }
   ],
   "source": [
    "print(output['answer'])"
   ]
  }
 ],
 "metadata": {
  "application/vnd.databricks.v1+notebook": {
   "dashboards": [],
   "language": "python",
   "notebookMetadata": {
    "pythonIndentUnit": 4
   },
   "notebookName": "pf_test_model.ipynb",
   "widgets": {}
  }
 },
 "nbformat": 4,
 "nbformat_minor": 0
}
