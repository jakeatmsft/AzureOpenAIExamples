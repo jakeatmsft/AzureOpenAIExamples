{
 "cells": [
  {
   "cell_type": "code",
   "execution_count": 30,
   "id": "90ad8750-955d-40db-8472-eecf4e1aacbc",
   "metadata": {},
   "outputs": [],
   "source": [
    "import csv\n",
    "import requests\n",
    "import xml.etree.ElementTree as ET\n",
    "from xml.dom.minidom import parse, parseString\n"
   ]
  },
  {
   "cell_type": "code",
   "execution_count": 31,
   "id": "96a5bbef-8558-482f-aaf6-0bd6b24f4110",
   "metadata": {},
   "outputs": [],
   "source": [
    "cc_xml = ''\n",
    "with open('./Conversation_SSML.xml', 'r') as cc_file:\n",
    "    cc_xml = cc_file.read()"
   ]
  },
  {
   "cell_type": "code",
   "execution_count": 32,
   "id": "b685398b-3fa2-4eec-a005-c9895518b119",
   "metadata": {},
   "outputs": [],
   "source": [
    "conversation = []\n",
    "i=1\n",
    "\n",
    "tree = parseString(cc_xml)\n",
    "for el in tree.getElementsByTagName('voice'):\n",
    "    conv_part = ''\n",
    "    speaker = (dict(el.attributes.items())['name'])\n",
    "    for node in el.childNodes:\n",
    "        if node.nodeType == node.TEXT_NODE:\n",
    "            conv_part = node.data\n",
    "        elif node.tagName == 'prosody':\n",
    "            conv_part = conv_part + node.firstChild.data\n",
    "        else: \n",
    "            for pro in node.getElementsByTagName('prosody'):\n",
    "                conv_part = conv_part + pro.firstChild.data\n",
    "    part = 'Agent'\n",
    "    if speaker == 'en-US-JennyNeural' : \n",
    "        part = 'Agent'\n",
    "    else:\n",
    "        part = 'Customer'\n",
    "    conversation.append({\"text\":conv_part, 'id':i, 'role':part, 'participantId':'{}'.format(part)})\n",
    "    i = i+1\n",
    "    \n",
    "#print(conversation)\n"
   ]
  },
  {
   "cell_type": "code",
   "execution_count": 33,
   "id": "3775a56b-4d43-484a-9038-517aff7ee6f4",
   "metadata": {},
   "outputs": [],
   "source": [
    "# Format Conversation for Language Service Analysis\n",
    "\n",
    "json_d = { \"displayName\": \"Conversation Task Example\",\n",
    "  \"analysisInput\": {\n",
    "    \"conversations\": [\n",
    "      {\n",
    "        \"conversationItems\": conversation ,\n",
    "        \"modality\": \"text\",\n",
    "        \"id\": \"conversation1\",\n",
    "        \"language\": \"en\"\n",
    "      }\n",
    "    ]\n",
    "  },\n",
    "  \"tasks\": [             \n",
    "       {\n",
    "        \"taskName\": \"analyze 1\",\n",
    "        \"kind\": \"ConversationalSummarizationTask\",\n",
    "        \"parameters\": {\n",
    "           \"summaryAspects\": [\"chaptertitle\",\"issue\", \"resolution\", \"narrative\"]\n",
    "\n",
    "        }\n",
    "    }\n",
    "  ]\n",
    "}"
   ]
  },
  {
   "cell_type": "code",
   "execution_count": 34,
   "id": "36ceb7e2-ec3b-424e-8afb-7c26b4965a4d",
   "metadata": {},
   "outputs": [
    {
     "data": {
      "text/plain": [
       "{'displayName': 'Conversation Task Example',\n",
       " 'analysisInput': {'conversations': [{'conversationItems': [{'text': 'Hello, how may I help you today?',\n",
       "      'id': 1,\n",
       "      'role': 'Agent',\n",
       "      'participantId': 'Agent'},\n",
       "     {'text': \"I really need help with my credit card, it's not working at all\",\n",
       "      'id': 2,\n",
       "      'role': 'Customer',\n",
       "      'participantId': 'Customer'},\n",
       "     {'text': 'May I please have your first and last name?',\n",
       "      'id': 3,\n",
       "      'role': 'Agent',\n",
       "      'participantId': 'Agent'},\n",
       "     {'text': \"sure it's John, J O H N, Doh, D O E\",\n",
       "      'id': 4,\n",
       "      'role': 'Customer',\n",
       "      'participantId': 'Customer'},\n",
       "     {'text': 'Thank you Mr Doh, can you confirm the last four digits of your account number?',\n",
       "      'id': 5,\n",
       "      'role': 'Agent',\n",
       "      'participantId': 'Agent'},\n",
       "     {'text': \"Which number? Is that the card number or the number on my statement, I don't have a statement in front of me.\",\n",
       "      'id': 6,\n",
       "      'role': 'Customer',\n",
       "      'participantId': 'Customer'},\n",
       "     {'text': 'It should be the last four digits printed on your credit card.',\n",
       "      'id': 7,\n",
       "      'role': 'Agent',\n",
       "      'participantId': 'Agent'},\n",
       "     {'text': 'Ok, let me get it, my wallet is in the other room.\\nI have it now, the number is 4 3 2 1',\n",
       "      'id': 8,\n",
       "      'role': 'Customer',\n",
       "      'participantId': 'Customer'},\n",
       "     {'text': 'Thank you again Mr Doh.\\nIt looks like there is suspected fraud on your credit card.Â\\xa0 Can you confirm the last purchase you made?',\n",
       "      'id': 9,\n",
       "      'role': 'Agent',\n",
       "      'participantId': 'Agent'},\n",
       "     {'text': 'I tried to use it to book an Air Bee En Bee for my daughter.',\n",
       "      'id': 10,\n",
       "      'role': 'Customer',\n",
       "      'participantId': 'Customer'},\n",
       "     {'text': 'Can you confirm the charge amount?',\n",
       "      'id': 11,\n",
       "      'role': 'Agent',\n",
       "      'participantId': 'Agent'},\n",
       "     {'text': \"I don't know. it was about two thousand dollars for a stay in December in Florida.\",\n",
       "      'id': 12,\n",
       "      'role': 'Customer',\n",
       "      'participantId': 'Customer'},\n",
       "     {'text': 'Ok I can confirm the amount now, our system detected it as fraud but since you have confirmed it we will mark it as approved.Â\\xa0 Please proceed with your booking.',\n",
       "      'id': 13,\n",
       "      'role': 'Agent',\n",
       "      'participantId': 'Agent'},\n",
       "     {'text': \"I hope I can get the same house. bookings were hard to find in that area.Â\\xa0 I'm going to try now.ok it looks like the booking went through thank you\",\n",
       "      'id': 14,\n",
       "      'role': 'Customer',\n",
       "      'participantId': 'Customer'},\n",
       "     {'text': 'Is there anything else I can help you with?',\n",
       "      'id': 15,\n",
       "      'role': 'Agent',\n",
       "      'participantId': 'Agent'},\n",
       "     {'text': 'Yes, as a matter of fact.Â\\xa0 I want to order another card for my daughter to use.',\n",
       "      'id': 16,\n",
       "      'role': 'Customer',\n",
       "      'participantId': 'Customer'},\n",
       "     {'text': 'Sure, I can help you with that, can I have her first and last name?',\n",
       "      'id': 17,\n",
       "      'role': 'Agent',\n",
       "      'participantId': 'Agent'},\n",
       "     {'text': 'Jane, J A N E, Doh, D O E.',\n",
       "      'id': 18,\n",
       "      'role': 'Customer',\n",
       "      'participantId': 'Customer'},\n",
       "     {'text': 'What address can I mail the card to?',\n",
       "      'id': 19,\n",
       "      'role': 'Agent',\n",
       "      'participantId': 'Agent'},\n",
       "     {'text': 'You can mail it to the default address on Pine Wood Ave.',\n",
       "      'id': 20,\n",
       "      'role': 'Customer',\n",
       "      'participantId': 'Customer'},\n",
       "     {'text': 'Ok you can expect the card in 1 to 2 business days.Is there anything else?',\n",
       "      'id': 21,\n",
       "      'role': 'Agent',\n",
       "      'participantId': 'Agent'},\n",
       "     {'text': 'No thank you for your help.',\n",
       "      'id': 22,\n",
       "      'role': 'Customer',\n",
       "      'participantId': 'Customer'}],\n",
       "    'modality': 'text',\n",
       "    'id': 'conversation1',\n",
       "    'language': 'en'}]},\n",
       " 'tasks': [{'taskName': 'analyze 1',\n",
       "   'kind': 'ConversationalSummarizationTask',\n",
       "   'parameters': {'summaryAspects': ['chaptertitle',\n",
       "     'issue',\n",
       "     'resolution',\n",
       "     'narrative']}}]}"
      ]
     },
     "execution_count": 34,
     "metadata": {},
     "output_type": "execute_result"
    }
   ],
   "source": [
    "json_d"
   ]
  },
  {
   "cell_type": "markdown",
   "id": "3713630b-60de-4782-8398-9419d24e28af",
   "metadata": {},
   "source": [
    "## Open AI Summarization"
   ]
  },
  {
   "cell_type": "code",
   "execution_count": 80,
   "id": "41de6737-ad3c-4551-bca6-b01ce2caeacb",
   "metadata": {},
   "outputs": [],
   "source": [
    "import os\n",
    "import openai\n",
    "from configparser import ConfigParser\n",
    "\n",
    "parser=ConfigParser()\n",
    "_=parser.read('../config.cfg')\n",
    "openai.api_type = \"azure\"\n",
    "openai.api_base = parser.get('openai_api','api_ep')\n",
    "openai.api_version = \"2022-12-01\"\n",
    "openai.api_key = parser.get('openai_api','api_key')\n",
    "model = parser.get('openai_api','api_model')"
   ]
  },
  {
   "cell_type": "code",
   "execution_count": 81,
   "id": "f77cf1f8-9940-4fb8-a309-d014d5a6161f",
   "metadata": {},
   "outputs": [
    {
     "name": "stdout",
     "output_type": "stream",
     "text": [
      "Response:\n",
      " Call Summary Notes:\n",
      "1. Customer contacted agent for help with credit card not working.\n",
      "2. Agent requested customer's first and last name, which was provided.\n",
      "3. Agent requested last four digits of account number, which was provided.\n",
      "4. Agent informed customer of suspected fraud on credit card and asked for last purchase made.\n",
      "5. Customer confirmed last purchase was for an Air Bee En Bee stay in December in Florida.\n",
      "6. Agent confirmed charge amount and marked it as approved.\n",
      "7. Customer thanked agent and proceeded with booking.\n",
      "8. Customer requested another card for daughter, Jane Doh.\n",
      "9. Agent requested address to mail card, which was provided.\n",
      "10. Agent informed customer card would arrive in 1-2 business days.\n",
      "11. Customer thanked agent and ended call.\n"
     ]
    }
   ],
   "source": [
    "prompt = \"Generate detailed call summary notes in list format from the following text\\nText:\\n###\\n{}\\n###\\n- \".format(conversation)\n",
    "\n",
    "response = openai.Completion.create( engine=model,  prompt=prompt, temperature=.2,  max_tokens=400,  top_p=0.5,  frequency_penalty=0,  presence_penalty=0,  stop=None)\n",
    "\n",
    "print('Response:')\n",
    "print(response['choices'][0]['text'])"
   ]
  },
  {
   "cell_type": "code",
   "execution_count": 27,
   "id": "b3dce16a-ee5e-4e26-8d69-a47c0fee1c3e",
   "metadata": {},
   "outputs": [
    {
     "name": "stdout",
     "output_type": "stream",
     "text": [
      "Response:\n",
      "List of call participants:\n",
      "- Agent\n",
      "- Customer\n"
     ]
    }
   ],
   "source": [
    "prompt = \"Extract list of call participants in list format from the following text\\nText:\\n###\\n{}\\n###\\n\".format(conversation)\n",
    "\n",
    "response = openai.Completion.create( engine=model,  prompt=prompt, temperature=.5,  max_tokens=400,  top_p=0.5,  frequency_penalty=0,  presence_penalty=0,  stop=None)\n",
    "\n",
    "print('Response:')\n",
    "print(response['choices'][0]['text'])"
   ]
  },
  {
   "cell_type": "code",
   "execution_count": 29,
   "id": "3cd16c4e-e581-4e53-b929-1af42dad6b43",
   "metadata": {},
   "outputs": [
    {
     "name": "stdout",
     "output_type": "stream",
     "text": [
      "Response:\n",
      "\n",
      "List of call follow up tasks:\n",
      "1. Follow up with customer to confirm the last four digits of their account number\n",
      "2. Follow up with customer to confirm the charge amount of their last purchase\n",
      "3. Follow up with customer to confirm the address to mail the new card to\n",
      "4. Follow up with customer to confirm receipt of the new card\n"
     ]
    }
   ],
   "source": [
    "prompt = \"Generate list of call follow up tasks from following text\\nText:\\n###\\n{}\\n###\\n\".format(conversation)\n",
    "\n",
    "response = openai.Completion.create( engine=model,  prompt=prompt, temperature=.7,  max_tokens=400,  top_p=0.5,  frequency_penalty=0,  presence_penalty=0,  stop=None)\n",
    "\n",
    "print('Response:')\n",
    "print(response['choices'][0]['text'])"
   ]
  },
  {
   "cell_type": "code",
   "execution_count": 82,
   "id": "ce4f14ee-80f1-4606-9eb0-655c79014f88",
   "metadata": {
    "tags": []
   },
   "outputs": [],
   "source": [
    "JSONprompt = '''You must extract the following information from the phone conversation below:\n",
    "\n",
    "\t1. Call reason (key: reason)\n",
    "\t2. Cause of incident (key: cause)\n",
    "\t3. Name of caller (key: caller)\n",
    "\t4. Account number (key: account_id)\n",
    "    5. Follow-up Flag(key: followupind)\n",
    "\t6. A short, yet detailed summary (key: summary)\n",
    "\n",
    "Make sure fields 1 to 4 are answered very short. Field 5 is a boolean flag which indicates whether the caller incident was resolved, 1 if follow up required, 0 if resolved.  Please answer in JSON machine-readable format, using the keys from above. Format the output as JSON object. Pretty print the JSON and make sure that is properly closed at the end.'''"
   ]
  },
  {
   "cell_type": "code",
   "execution_count": 83,
   "id": "257f6f9c-ba48-4fe4-a82e-933c733be600",
   "metadata": {},
   "outputs": [],
   "source": [
    "prompt = '{}Conversation:\\n###\\n{}\\n###'.format(JSONprompt,conversation)"
   ]
  },
  {
   "cell_type": "code",
   "execution_count": 84,
   "id": "999f4adf-d092-4cae-89e3-4fb9b70a1ba6",
   "metadata": {},
   "outputs": [
    {
     "name": "stdout",
     "output_type": "stream",
     "text": [
      "Response:\n",
      "\n",
      "{\n",
      "    \"reason\": \"Credit card not working\",\n",
      "    \"cause\": \"Suspected fraud\",\n",
      "    \"caller\": \"John Doh\",\n",
      "    \"account_id\": \"4321\",\n",
      "    \"followupind\": 0,\n",
      "    \"summary\": \"John Doh called to report that his credit card was not working. Suspected fraud was detected, but was confirmed by the customer. A new card was ordered for his daughter Jane Doh and will be mailed to the default address on Pine Wood Ave.\"\n",
      "}\n"
     ]
    }
   ],
   "source": [
    "response = openai.Completion.create( engine=model,  prompt=prompt, temperature=.2,  max_tokens=400,  top_p=0.5,  frequency_penalty=0,  presence_penalty=0,  stop=None)\n",
    "\n",
    "print('Response:')\n",
    "print(response['choices'][0]['text'])"
   ]
  },
  {
   "cell_type": "code",
   "execution_count": 85,
   "id": "478f26ea-6d35-4094-a0c8-7b78d79a989d",
   "metadata": {},
   "outputs": [
    {
     "data": {
      "text/plain": [
       "{'reason': 'Credit card not working',\n",
       " 'cause': 'Suspected fraud',\n",
       " 'caller': 'John Doh',\n",
       " 'account_id': '4321',\n",
       " 'followupind': 0,\n",
       " 'summary': 'John Doh called to report that his credit card was not working. Suspected fraud was detected, but was confirmed by the customer. A new card was ordered for his daughter Jane Doh and will be mailed to the default address on Pine Wood Ave.'}"
      ]
     },
     "execution_count": 85,
     "metadata": {},
     "output_type": "execute_result"
    }
   ],
   "source": [
    "eval(response['choices'][0]['text'])"
   ]
  },
  {
   "cell_type": "code",
   "execution_count": null,
   "id": "68e7039e-9769-4c25-91cc-07a1f5a5c815",
   "metadata": {},
   "outputs": [],
   "source": []
  }
 ],
 "metadata": {
  "kernelspec": {
   "display_name": "py38",
   "language": "python",
   "name": "py38"
  },
  "language_info": {
   "codemirror_mode": {
    "name": "ipython",
    "version": 3
   },
   "file_extension": ".py",
   "mimetype": "text/x-python",
   "name": "python",
   "nbconvert_exporter": "python",
   "pygments_lexer": "ipython3",
   "version": "3.8.10"
  }
 },
 "nbformat": 4,
 "nbformat_minor": 5
}
