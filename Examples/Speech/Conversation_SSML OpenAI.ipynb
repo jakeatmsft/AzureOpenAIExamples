{
 "cells": [
  {
   "cell_type": "code",
   "execution_count": 1,
   "id": "90ad8750-955d-40db-8472-eecf4e1aacbc",
   "metadata": {},
   "outputs": [],
   "source": [
    "import csv\n",
    "import requests\n",
    "import xml.etree.ElementTree as ET\n",
    "from xml.dom.minidom import parse, parseString\n"
   ]
  },
  {
   "cell_type": "code",
   "execution_count": 2,
   "id": "96a5bbef-8558-482f-aaf6-0bd6b24f4110",
   "metadata": {},
   "outputs": [],
   "source": [
    "cc_xml = ''\n",
    "with open('./Conversation_SSML.xml', 'r') as cc_file:\n",
    "    cc_xml = cc_file.read()"
   ]
  },
  {
   "cell_type": "code",
   "execution_count": 3,
   "id": "b685398b-3fa2-4eec-a005-c9895518b119",
   "metadata": {},
   "outputs": [],
   "source": [
    "conversation = []\n",
    "i=1\n",
    "\n",
    "tree = parseString(cc_xml)\n",
    "for el in tree.getElementsByTagName('voice'):\n",
    "    conv_part = ''\n",
    "    speaker = (dict(el.attributes.items())['name'])\n",
    "    for node in el.childNodes:\n",
    "        if node.nodeType == node.TEXT_NODE:\n",
    "            conv_part = node.data\n",
    "        elif node.tagName == 'prosody':\n",
    "            conv_part = conv_part + node.firstChild.data\n",
    "        else: \n",
    "            for pro in node.getElementsByTagName('prosody'):\n",
    "                conv_part = conv_part + pro.firstChild.data\n",
    "    part = 'Agent'\n",
    "    if speaker == 'en-US-JennyNeural' : \n",
    "        part = 'Agent'\n",
    "    else:\n",
    "        part = 'Customer'\n",
    "    conversation.append({\"text\":conv_part, 'id':i, 'role':part, 'participantId':'{}'.format(part)})\n",
    "    i = i+1\n",
    "    \n",
    "#print(conversation)\n"
   ]
  },
  {
   "cell_type": "code",
   "execution_count": 4,
   "id": "3775a56b-4d43-484a-9038-517aff7ee6f4",
   "metadata": {},
   "outputs": [],
   "source": [
    "# Format Conversation for Language Service Analysis\n",
    "\n",
    "json_d = { \"displayName\": \"Conversation Task Example\",\n",
    "  \"analysisInput\": {\n",
    "    \"conversations\": [\n",
    "      {\n",
    "        \"conversationItems\": conversation ,\n",
    "        \"modality\": \"text\",\n",
    "        \"id\": \"conversation1\",\n",
    "        \"language\": \"en\"\n",
    "      }\n",
    "    ]\n",
    "  },\n",
    "  \"tasks\": [             \n",
    "       {\n",
    "        \"taskName\": \"analyze 1\",\n",
    "        \"kind\": \"ConversationalSummarizationTask\",\n",
    "        \"parameters\": {\n",
    "           \"summaryAspects\": [\"chaptertitle\",\"issue\", \"resolution\", \"narrative\"]\n",
    "\n",
    "        }\n",
    "    }\n",
    "  ]\n",
    "}"
   ]
  },
  {
   "cell_type": "code",
   "execution_count": 5,
   "id": "36ceb7e2-ec3b-424e-8afb-7c26b4965a4d",
   "metadata": {},
   "outputs": [
    {
     "data": {
      "text/plain": [
       "{'displayName': 'Conversation Task Example',\n",
       " 'analysisInput': {'conversations': [{'conversationItems': [{'text': 'Hello, how may I help you today?',\n",
       "      'id': 1,\n",
       "      'role': 'Agent',\n",
       "      'participantId': 'Agent'},\n",
       "     {'text': \"I really need help with my credit card, it's not working at all\",\n",
       "      'id': 2,\n",
       "      'role': 'Customer',\n",
       "      'participantId': 'Customer'},\n",
       "     {'text': 'May I please have your first and last name?',\n",
       "      'id': 3,\n",
       "      'role': 'Agent',\n",
       "      'participantId': 'Agent'},\n",
       "     {'text': \"sure it's John, J O H N, Doh, D O E\",\n",
       "      'id': 4,\n",
       "      'role': 'Customer',\n",
       "      'participantId': 'Customer'},\n",
       "     {'text': 'Thank you Mr Doh, can you confirm the last four digits of your account number?',\n",
       "      'id': 5,\n",
       "      'role': 'Agent',\n",
       "      'participantId': 'Agent'},\n",
       "     {'text': \"Which number? Is that the card number or the number on my statement, I don't have a statement in front of me.\",\n",
       "      'id': 6,\n",
       "      'role': 'Customer',\n",
       "      'participantId': 'Customer'},\n",
       "     {'text': 'It should be the last four digits printed on your credit card.',\n",
       "      'id': 7,\n",
       "      'role': 'Agent',\n",
       "      'participantId': 'Agent'},\n",
       "     {'text': 'Ok, let me get it, my wallet is in the other room.\\nI have it now, the number is 4 3 2 1',\n",
       "      'id': 8,\n",
       "      'role': 'Customer',\n",
       "      'participantId': 'Customer'},\n",
       "     {'text': 'Thank you again Mr Doh.\\nIt looks like there is suspected fraud on your credit card.\\xa0 Can you confirm the last purchase you made?',\n",
       "      'id': 9,\n",
       "      'role': 'Agent',\n",
       "      'participantId': 'Agent'},\n",
       "     {'text': 'I tried to use it to book an Air Bee En Bee for my daughter.',\n",
       "      'id': 10,\n",
       "      'role': 'Customer',\n",
       "      'participantId': 'Customer'},\n",
       "     {'text': 'Can you confirm the charge amount?',\n",
       "      'id': 11,\n",
       "      'role': 'Agent',\n",
       "      'participantId': 'Agent'},\n",
       "     {'text': \"I don't know. it was about two thousand dollars for a stay in December in Florida.\",\n",
       "      'id': 12,\n",
       "      'role': 'Customer',\n",
       "      'participantId': 'Customer'},\n",
       "     {'text': 'Ok I can confirm the amount now, our system detected it as fraud but since you have confirmed it we will mark it as approved.\\xa0 Please proceed with your booking.',\n",
       "      'id': 13,\n",
       "      'role': 'Agent',\n",
       "      'participantId': 'Agent'},\n",
       "     {'text': \"I hope I can get the same house. bookings were hard to find in that area.\\xa0 I'm going to try now.ok it looks like the booking went through thank you\",\n",
       "      'id': 14,\n",
       "      'role': 'Customer',\n",
       "      'participantId': 'Customer'},\n",
       "     {'text': 'Is there anything else I can help you with?',\n",
       "      'id': 15,\n",
       "      'role': 'Agent',\n",
       "      'participantId': 'Agent'},\n",
       "     {'text': 'Yes, as a matter of fact.\\xa0 I want to order another card for my daughter to use.',\n",
       "      'id': 16,\n",
       "      'role': 'Customer',\n",
       "      'participantId': 'Customer'},\n",
       "     {'text': 'Sure, I can help you with that, can I have her first and last name?',\n",
       "      'id': 17,\n",
       "      'role': 'Agent',\n",
       "      'participantId': 'Agent'},\n",
       "     {'text': 'Jane, J A N E, Doh, D O E.',\n",
       "      'id': 18,\n",
       "      'role': 'Customer',\n",
       "      'participantId': 'Customer'},\n",
       "     {'text': 'What address can I mail the card to?',\n",
       "      'id': 19,\n",
       "      'role': 'Agent',\n",
       "      'participantId': 'Agent'},\n",
       "     {'text': 'You can mail it to the default address on Pine Wood Ave.',\n",
       "      'id': 20,\n",
       "      'role': 'Customer',\n",
       "      'participantId': 'Customer'},\n",
       "     {'text': 'Ok you can expect the card in 1 to 2 business days.Is there anything else?',\n",
       "      'id': 21,\n",
       "      'role': 'Agent',\n",
       "      'participantId': 'Agent'},\n",
       "     {'text': 'No thank you for your help.',\n",
       "      'id': 22,\n",
       "      'role': 'Customer',\n",
       "      'participantId': 'Customer'}],\n",
       "    'modality': 'text',\n",
       "    'id': 'conversation1',\n",
       "    'language': 'en'}]},\n",
       " 'tasks': [{'taskName': 'analyze 1',\n",
       "   'kind': 'ConversationalSummarizationTask',\n",
       "   'parameters': {'summaryAspects': ['chaptertitle',\n",
       "     'issue',\n",
       "     'resolution',\n",
       "     'narrative']}}]}"
      ]
     },
     "execution_count": 5,
     "metadata": {},
     "output_type": "execute_result"
    }
   ],
   "source": [
    "json_d"
   ]
  },
  {
   "cell_type": "markdown",
   "id": "3713630b-60de-4782-8398-9419d24e28af",
   "metadata": {},
   "source": [
    "## Open AI Summarization"
   ]
  },
  {
   "cell_type": "code",
   "execution_count": 15,
   "id": "41de6737-ad3c-4551-bca6-b01ce2caeacb",
   "metadata": {},
   "outputs": [],
   "source": [
    "import os\n",
    "import openai\n",
    "from configparser import ConfigParser\n",
    "\n",
    "parser=ConfigParser()\n",
    "_=parser.read('../config.cfg')\n",
    "openai.api_type = \"azure\"\n",
    "openai.api_base = parser.get('openai_api','api_ep')\n",
    "openai.api_version = \"2023-07-01-preview\"\n",
    "openai.api_key = parser.get('openai_api','api_key')\n",
    "model = parser.get('openai_api','api_model')"
   ]
  },
  {
   "cell_type": "code",
   "execution_count": 16,
   "id": "a7c02597",
   "metadata": {},
   "outputs": [],
   "source": [
    "response = openai.ChatCompletion.create(\n",
    "  engine=model,\n",
    "  temperature=0.7,\n",
    "  messages = [{\"role\":\"system\",\"content\":\"You are an AI assistant that generate detailed call summary notes in list format from the user text.\"},{\"role\":\"user\", \"content\":f\"{conversation}\"}],\n",
    "  max_tokens=800,\n",
    "  top_p=0.95,\n",
    "  frequency_penalty=0,\n",
    "  presence_penalty=0,\n",
    "  stop=None)"
   ]
  },
  {
   "cell_type": "code",
   "execution_count": 21,
   "id": "f77cf1f8-9940-4fb8-a309-d014d5a6161f",
   "metadata": {},
   "outputs": [
    {
     "name": "stdout",
     "output_type": "stream",
     "text": [
      "Response:\n",
      "Call Summary:\n",
      "\n",
      "1. Customer reported an issue with their credit card.\n",
      "2. Agent asked for customer's first and last name.\n",
      "3. Customer provided their name as John Doh.\n",
      "4. Agent asked for the last four digits of customer's account number.\n",
      "5. Customer initially asked for clarification, but eventually provided the number as 4321.\n",
      "6. Agent informed customer of suspected fraud on their credit card and asked for confirmation of last purchase made.\n",
      "7. Customer confirmed trying to use the card to book an AirBnB for their daughter.\n",
      "8. Agent asked for confirmation of charge amount, which customer initially didn't know but eventually provided as around $2000.\n",
      "9. Agent confirmed charge and marked it as approved.\n",
      "10. Customer successfully made the booking and thanked the agent.\n",
      "11. Customer requested to order another card for their daughter.\n",
      "12. Agent asked for daughter's first and last name.\n",
      "13. Customer provided daughter's name as Jane Doh.\n",
      "14. Agent asked for mailing address for the new card.\n",
      "15. Customer provided default address on Pine Wood Ave.\n",
      "16. Agent confirmed card would arrive in 1-2 business days and asked if there was anything else.\n",
      "17. Customer had no further requests and thanked the agent for their help.\n"
     ]
    }
   ],
   "source": [
    "print('Response:')\n",
    "print(response[\"choices\"][0][\"message\"][\"content\"])"
   ]
  },
  {
   "cell_type": "code",
   "execution_count": 24,
   "id": "3cd16c4e-e581-4e53-b929-1af42dad6b43",
   "metadata": {},
   "outputs": [
    {
     "name": "stdout",
     "output_type": "stream",
     "text": [
      "Response:\n",
      "The distinct list of call participants in list format is: \n",
      "\n",
      "- Agent\n",
      "- Customer\n"
     ]
    }
   ],
   "source": [
    "response = openai.ChatCompletion.create(\n",
    "  engine=model,\n",
    "  temperature=0.2,\n",
    "  messages = [{\"role\":\"system\",\"content\":\"You are an AI assistant that generates extract distinct list of call participants in list format from the following user text.\"},{\"role\":\"user\", \"content\":f\"{conversation}\"}],\n",
    "  max_tokens=800,\n",
    "  top_p=0.95,\n",
    "  frequency_penalty=0,\n",
    "  presence_penalty=0,\n",
    "  stop=None)\n",
    "\n",
    "print('Response:')\n",
    "print(response[\"choices\"][0][\"message\"][\"content\"])"
   ]
  },
  {
   "cell_type": "code",
   "execution_count": 26,
   "id": "ce4f14ee-80f1-4606-9eb0-655c79014f88",
   "metadata": {
    "tags": []
   },
   "outputs": [],
   "source": [
    "JSONprompt = '''You must extract the following information from the phone conversation below:\n",
    "\t1. Call reason (key: reason)\n",
    "\t2. Cause of incident (key: cause)\n",
    "\t3. Name of caller (key: caller)\n",
    "\t4. Account number (key: account_id)\n",
    "    5. Follow-up Flag(key: followupind)\n",
    "\t6. A short, yet detailed summary (key: summary)\n",
    "\n",
    "Make sure fields 1 to 4 are answered very short. Field 5 is a boolean flag which indicates whether the caller incident was resolved, 1 if follow up required, 0 if resolved.  Please answer in JSON machine-readable format, using the keys from above. Format the output as JSON object. Pretty print the JSON and make sure that is properly closed at the end.'''"
   ]
  },
  {
   "cell_type": "code",
   "execution_count": 35,
   "id": "257f6f9c-ba48-4fe4-a82e-933c733be600",
   "metadata": {},
   "outputs": [],
   "source": [
    "messages = [{\"role\":\"system\",\"content\":f\"You are an AI assistant {JSONprompt} from the following user text.\"},{\"role\":\"user\", \"content\":f\"{conversation}\"}]\n"
   ]
  },
  {
   "cell_type": "code",
   "execution_count": 36,
   "id": "999f4adf-d092-4cae-89e3-4fb9b70a1ba6",
   "metadata": {},
   "outputs": [
    {
     "name": "stdout",
     "output_type": "stream",
     "text": [
      "Response:\n",
      "{\n",
      "    \"reason\": \"Credit card issue\",\n",
      "    \"cause\": \"Suspected fraud on credit card\",\n",
      "    \"caller\": \"John Doh\",\n",
      "    \"account_id\": \"4321\",\n",
      "    \"followupind\": 0,\n",
      "    \"summary\": \"John Doh reported suspected fraud on his credit card. Agent confirmed the last purchase and marked it as approved. John Doh requested a new card for his daughter and provided her name and mailing address. Agent processed the request and informed John Doh that he can expect the card in 1 to 2 business days.\"\n",
      "}\n"
     ]
    }
   ],
   "source": [
    "response = openai.ChatCompletion.create(\n",
    "  engine=model,\n",
    "  temperature=0.2,\n",
    "  messages = messages,\n",
    "  max_tokens=800,\n",
    "  top_p=0.95,\n",
    "  frequency_penalty=0,\n",
    "  presence_penalty=0,\n",
    "  stop=None)\n",
    "\n",
    "print('Response:')\n",
    "print(response[\"choices\"][0][\"message\"][\"content\"])"
   ]
  },
  {
   "cell_type": "code",
   "execution_count": 38,
   "id": "478f26ea-6d35-4094-a0c8-7b78d79a989d",
   "metadata": {},
   "outputs": [
    {
     "data": {
      "text/plain": [
       "{'reason': 'Credit card issue',\n",
       " 'cause': 'Suspected fraud on credit card',\n",
       " 'caller': 'John Doh',\n",
       " 'account_id': '4321',\n",
       " 'followupind': 0,\n",
       " 'summary': 'John Doh reported suspected fraud on his credit card. Agent confirmed the last purchase and marked it as approved. John Doh requested a new card for his daughter and provided her name and mailing address. Agent processed the request and informed John Doh that he can expect the card in 1 to 2 business days.'}"
      ]
     },
     "execution_count": 38,
     "metadata": {},
     "output_type": "execute_result"
    }
   ],
   "source": [
    "eval(response[\"choices\"][0][\"message\"][\"content\"])"
   ]
  },
  {
   "cell_type": "code",
   "execution_count": null,
   "id": "68e7039e-9769-4c25-91cc-07a1f5a5c815",
   "metadata": {},
   "outputs": [],
   "source": []
  }
 ],
 "metadata": {
  "kernelspec": {
   "display_name": "base",
   "language": "python",
   "name": "python3"
  },
  "language_info": {
   "codemirror_mode": {
    "name": "ipython",
    "version": 3
   },
   "file_extension": ".py",
   "mimetype": "text/x-python",
   "name": "python",
   "nbconvert_exporter": "python",
   "pygments_lexer": "ipython3",
   "version": "3.7.6"
  }
 },
 "nbformat": 4,
 "nbformat_minor": 5
}
