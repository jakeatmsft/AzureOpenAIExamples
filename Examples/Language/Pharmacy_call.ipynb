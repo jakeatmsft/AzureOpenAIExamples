{
 "cells": [
  {
   "cell_type": "code",
   "execution_count": 2,
   "id": "90ad8750-955d-40db-8472-eecf4e1aacbc",
   "metadata": {},
   "outputs": [],
   "source": [
    "import json\n",
    "import io\n",
    "from configparser import ConfigParser\n",
    "\n",
    "parser=ConfigParser()\n",
    "_=parser.read('../config.cfg')\n",
    "cc_json = ''\n"
   ]
  },
  {
   "cell_type": "code",
   "execution_count": 3,
   "id": "96a5bbef-8558-482f-aaf6-0bd6b24f4110",
   "metadata": {},
   "outputs": [],
   "source": [
    "with open('./Pharmacy_call.json', 'r') as cc_file:\n",
    "    cc_json = json.loads(cc_file.read())"
   ]
  },
  {
   "cell_type": "code",
   "execution_count": 4,
   "id": "c56a1d6d-81ac-4e34-bc10-9383b8a8ed52",
   "metadata": {},
   "outputs": [],
   "source": [
    "conversation = []\n",
    "i=1\n",
    "\n",
    "for phrase in cc_json['transcription']['recognizedPhrases'] :\n",
    "    if i%2:\n",
    "        conversation.append({\"text\":phrase['nBest'][0]['display'], 'id':i, 'role':'Agent', 'participantId':'Agent_{}'.format(1)})\n",
    "    else:\n",
    "        conversation.append({\"text\":phrase['nBest'][0]['display'], 'id':i, 'role':'Customer', 'participantId':'Customer_{}'.format(2)})\n",
    "    i=i+1\n"
   ]
  },
  {
   "cell_type": "code",
   "execution_count": 5,
   "id": "3775a56b-4d43-484a-9038-517aff7ee6f4",
   "metadata": {},
   "outputs": [],
   "source": [
    "json_d = { \"displayName\": \"Conversation Task Example\",\n",
    "  \"analysisInput\": {\n",
    "    \"conversations\": [\n",
    "      {\n",
    "        \"conversationItems\": conversation ,\n",
    "        \"modality\": \"text\",\n",
    "        \"id\": \"conversation1\",\n",
    "        \"language\": \"en\"\n",
    "      }\n",
    "    ]\n",
    "  },\n",
    "  'tasks': [{'taskName': 'analyze 1',\n",
    "   'kind': 'ConversationalSummarizationTask',\n",
    "   'parameters': {'summaryAspects': ['chaptertitle',\n",
    "     'issue',\n",
    "     'resolution',\n",
    "     'narrative'],}}]}\n",
    "\n"
   ]
  },
  {
   "cell_type": "code",
   "execution_count": 6,
   "id": "90542930-9705-48dc-9bc8-0795cdb288cd",
   "metadata": {
    "tags": []
   },
   "outputs": [
    {
     "name": "stdout",
     "output_type": "stream",
     "text": [
      "{'displayName': 'Conversation Task Example', 'analysisInput': {'conversations': [{'conversationItems': [{'text': 'Hi, thank you for calling Contoso pharmacy. Who am I speaking with today?', 'id': 1, 'role': 'Agent', 'participantId': 'Agent_1'}, {'text': \"Good afternoon. My name is Mary. I'm calling about a refill for my prescribed medications. I have been trying to get ahold of someone for weeks and was told that I would get a call back regarding my situation, but it's been weeks and no one's contacted me, so I thought I'd call.\", 'id': 2, 'role': 'Customer', 'participantId': 'Customer_2'}, {'text': \"I understand your frustration, Mary. Umm, can you tell me what exactly you're trying to accomplish?\", 'id': 3, 'role': 'Agent', 'participantId': 'Agent_1'}, {'text': \"Yes, I'm trying to get a refill of my prescription drugs that the my doctor prescribed to me for cholesterol.\", 'id': 4, 'role': 'Customer', 'participantId': 'Customer_2'}, {'text': 'I see here that you were on a generic form of Lipitor, is that right?', 'id': 5, 'role': 'Agent', 'participantId': 'Agent_1'}, {'text': 'Uh, yes, I was taking the generic form of Lipitor.', 'id': 6, 'role': 'Customer', 'participantId': 'Customer_2'}, {'text': 'OK, uh, so I see that your doctor stopped prescribing these drugs in 2021, actually.', 'id': 7, 'role': 'Agent', 'participantId': 'Agent_1'}, {'text': \"Oh really? That doesn't sound right. I don't remember him cancelling my prescription.\", 'id': 8, 'role': 'Customer', 'participantId': 'Customer_2'}, {'text': \"OK, uh, yeah, I'd be happy to check that for you. Uh, because sometimes there's a gap in the system and it just doesn't get reported. So let me take a look here.\", 'id': 9, 'role': 'Agent', 'participantId': 'Agent_1'}, {'text': 'Just a moment.', 'id': 10, 'role': 'Customer', 'participantId': 'Customer_2'}, {'text': \"So I'm seeing here that your doctor had these drugs prescribed to you from 2012 through 2021.\", 'id': 11, 'role': 'Agent', 'participantId': 'Agent_1'}, {'text': \"Ohh huh, I mean, I'm definitely supposed to be taking something else. Uh, would you check please?\", 'id': 12, 'role': 'Customer', 'participantId': 'Customer_2'}, {'text': \"OK. Uh, yeah. According to the latest records, uh, provided by doctor's office, you're now on a different drug, metformin. Would you like us to go ahead and fill that prescription for you for pick up a bit of form in 500 milligrams?\", 'id': 13, 'role': 'Agent', 'participantId': 'Agent_1'}, {'text': \"Yeah, yeah. Thank you so much. I'm almost out, so that'd be perfect.\", 'id': 14, 'role': 'Customer', 'participantId': 'Customer_2'}, {'text': \"Uh, you're very welcome, Mary. Please let us know if there's anything else we can do for you today.\", 'id': 15, 'role': 'Agent', 'participantId': 'Agent_1'}, {'text': 'OK. Thank you.', 'id': 16, 'role': 'Customer', 'participantId': 'Customer_2'}], 'modality': 'text', 'id': 'conversation1', 'language': 'en'}]}, 'tasks': [{'taskName': 'analyze 1', 'kind': 'ConversationalSummarizationTask', 'parameters': {'summaryAspects': ['chaptertitle', 'issue', 'resolution', 'narrative']}}]}\n"
     ]
    }
   ],
   "source": [
    "print(json_d)"
   ]
  },
  {
   "cell_type": "code",
   "execution_count": 6,
   "id": "49d199a0-7422-47e6-ad9e-19e881a935f0",
   "metadata": {},
   "outputs": [
    {
     "name": "stdout",
     "output_type": "stream",
     "text": [
      "<Response [202]>\n"
     ]
    }
   ],
   "source": [
    "import requests\n",
    "from requests.structures import CaseInsensitiveDict\n",
    "\n",
    "parser=ConfigParser()\n",
    "_=parser.read('../config.cfg')\n",
    "cog_svc_ep = parser.get('openai_api','cog_svc_ep')\n",
    "\n",
    "url = \"{}/language/analyze-conversations/jobs?api-version=2022-10-01-preview\".format(cog_svc_ep)\n",
    "\n",
    "headers = CaseInsensitiveDict()\n",
    "headers[\"Content-Type\"] = \"application/json\"\n",
    "headers[\"Ocp-Apim-Subscription-Key\"] = parser.get('openai_api','cog_svc_key')\n",
    "\n",
    "data = json_d\n",
    "\n",
    "resp = requests.post(url, headers=headers, json=data)\n",
    "\n",
    "print(resp)\n"
   ]
  },
  {
   "cell_type": "code",
   "execution_count": 7,
   "id": "7adbc949-ed7e-40ad-8a81-59bc5c92d017",
   "metadata": {},
   "outputs": [],
   "source": [
    "url = resp.headers['operation-location']"
   ]
  },
  {
   "cell_type": "code",
   "execution_count": 9,
   "id": "66d75849-cb88-46db-96fd-a76706689ba4",
   "metadata": {},
   "outputs": [],
   "source": [
    "headers = CaseInsensitiveDict()\n",
    "headers[\"Content-Type\"] = \"application/json\"\n",
    "headers[\"Ocp-Apim-Subscription-Key\"] = parser.get('openai_api','cog_svc_key')\n",
    "\n",
    "data = json_d\n",
    "\n",
    "resp = requests.get(url, headers=headers)\n",
    "\n",
    "out = resp.json()\n",
    "#print(out)"
   ]
  },
  {
   "cell_type": "code",
   "execution_count": 10,
   "id": "41de6737-ad3c-4551-bca6-b01ce2caeacb",
   "metadata": {},
   "outputs": [
    {
     "name": "stdout",
     "output_type": "stream",
     "text": [
      "chapterTitle = Prescription Drugs\n",
      "issue = Customer wants to get a refill for their prescription. | Customer is not sure how to get a refill.\n",
      "resolution = Asked customer what exactly customer is trying to accomplish. | Explained to the customer that the doctor stopped prescribe the drug. | Helped customer to fill the prescription. | Informed customer that the prescription is now for a different drug.\n",
      "narrative = Agent_1 is trying to get ahold of Mary about a refill for her prescription drugs. Agent_1 is checking the records and finds that she is now on a different drug, metformin.\n"
     ]
    }
   ],
   "source": [
    "for task in out['tasks']['items'][0]['results']['conversations'][0]['summaries']:\n",
    "    print(\"{} = {}\".format(task['aspect'],task['text']))\n"
   ]
  },
  {
   "cell_type": "code",
   "execution_count": 11,
   "id": "17117303-f2b0-4509-9834-ff877261c388",
   "metadata": {
    "tags": []
   },
   "outputs": [],
   "source": [
    "import os\n",
    "import openai\n",
    "from configparser import ConfigParser\n",
    "\n",
    "parser=ConfigParser()\n",
    "_=parser.read('../config.cfg')\n",
    "openai.api_type = \"azure\"\n",
    "openai.api_base = parser.get('openai_api','api_ep')\n",
    "openai.api_version = \"2022-06-01-preview\"\n",
    "openai.api_key = parser.get('openai_api','api_key')\n",
    "model =  parser.get('openai_api','api_model')"
   ]
  },
  {
   "cell_type": "code",
   "execution_count": 13,
   "id": "187fed87-1262-4a71-8958-36957f559914",
   "metadata": {},
   "outputs": [],
   "source": [
    "#print(\"Provide detailed call summary notes of the following text:\\n'''{}'''\\n{}\".format(conversation,'Result:'))"
   ]
  },
  {
   "cell_type": "code",
   "execution_count": 16,
   "id": "56d7686c-47da-4feb-b680-0dbe5fce4946",
   "metadata": {},
   "outputs": [
    {
     "name": "stdout",
     "output_type": "stream",
     "text": [
      "Response:\n",
      "-The customer, Mary, is trying to refill a prescription for cholesterol medication that she has been trying to get ahold of someone for weeks for. \n",
      "-The agent looks up Mary's information and sees that her doctor stopped prescribing the medication in 2021. \n",
      "-The agent tells Mary that her doctor had the drugs prescribed to her from 2012 through 2021 and that she is now on a different drug, metformin. \n",
      "-The agent offers to fill the prescription for Mary for pick up. \n",
      "-Mary thanks the agent and the call ends.\n"
     ]
    }
   ],
   "source": [
    "prompt = \"Generate detailed call summary notes of the following text:\\n'''{}'''\\n{}\".format(conversation,'Result:\\n-')\n",
    "\n",
    "response = openai.Completion.create( engine=model,  prompt=prompt, temperature=.2,  max_tokens=400,  top_p=0.5,  frequency_penalty=0,  presence_penalty=0,  stop=None)\n",
    "\n",
    "print('Response:')\n",
    "print('-'+response['choices'][0]['text'])"
   ]
  },
  {
   "cell_type": "code",
   "execution_count": 15,
   "id": "4dd6acaf-b6cc-4839-a8f2-722f419ab659",
   "metadata": {},
   "outputs": [
    {
     "name": "stdout",
     "output_type": "stream",
     "text": [
      "Response:\n",
      "- Lipitor (atorvastatin)\n",
      "- Metformin\n"
     ]
    }
   ],
   "source": [
    "prompt = \"Provide list of medications, dose, and form discussed in the following text:\\n'''{}'''\\n{}\".format(conversation,'Result:\\n-')\n",
    "\n",
    "response = openai.Completion.create( engine=model,  prompt=prompt, temperature=.5,  max_tokens=400,  top_p=0.5,  frequency_penalty=0,  presence_penalty=0,  stop=None)\n",
    "\n",
    "print('Response:')\n",
    "print('-'+response['choices'][0]['text'])"
   ]
  },
  {
   "cell_type": "code",
   "execution_count": null,
   "id": "a6b7a551-8426-40eb-8f43-d628e6f68c90",
   "metadata": {},
   "outputs": [],
   "source": []
  }
 ],
 "metadata": {
  "kernelspec": {
   "display_name": "py38",
   "language": "python",
   "name": "py38"
  },
  "language_info": {
   "codemirror_mode": {
    "name": "ipython",
    "version": 3
   },
   "file_extension": ".py",
   "mimetype": "text/x-python",
   "name": "python",
   "nbconvert_exporter": "python",
   "pygments_lexer": "ipython3",
   "version": "3.8.10"
  }
 },
 "nbformat": 4,
 "nbformat_minor": 5
}
