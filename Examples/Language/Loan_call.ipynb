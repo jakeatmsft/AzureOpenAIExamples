{
 "cells": [
  {
   "cell_type": "code",
   "execution_count": 3,
   "id": "90ad8750-955d-40db-8472-eecf4e1aacbc",
   "metadata": {},
   "outputs": [],
   "source": [
    "import json\n",
    "import io\n",
    "from configparser import ConfigParser"
   ]
  },
  {
   "cell_type": "code",
   "execution_count": 4,
   "id": "96a5bbef-8558-482f-aaf6-0bd6b24f4110",
   "metadata": {},
   "outputs": [],
   "source": [
    "cc_json = ''\n",
    "\n",
    "with open('./Loan_call.json', 'r') as cc_file:\n",
    "    cc_json = json.loads(cc_file.read())"
   ]
  },
  {
   "cell_type": "code",
   "execution_count": 5,
   "id": "c56a1d6d-81ac-4e34-bc10-9383b8a8ed52",
   "metadata": {},
   "outputs": [],
   "source": [
    "conversation = []\n",
    "i=1\n",
    "\n",
    "for phrase in cc_json['transcription']['recognizedPhrases'] :\n",
    "    if i%2:\n",
    "        conversation.append({\"text\":phrase['nBest'][0]['display'], 'id':i, 'role':'Agent', 'participantId':'Agent_{}'.format(1)})\n",
    "    else:\n",
    "        conversation.append({\"text\":phrase['nBest'][0]['display'], 'id':i, 'role':'Customer', 'participantId':'Customer_{}'.format(2)})\n",
    "    i=i+1\n"
   ]
  },
  {
   "cell_type": "code",
   "execution_count": 6,
   "id": "3775a56b-4d43-484a-9038-517aff7ee6f4",
   "metadata": {},
   "outputs": [],
   "source": [
    "json_d = { \"displayName\": \"Conversation Task Example\",\n",
    "  \"analysisInput\": {\n",
    "    \"conversations\": [\n",
    "      {\n",
    "        \"conversationItems\": conversation ,\n",
    "        \"modality\": \"text\",\n",
    "        \"id\": \"conversation1\",\n",
    "        \"language\": \"en\"\n",
    "      }\n",
    "    ]\n",
    "  },\n",
    "\"tasks\": [   {\n",
    "        \"taskName\": \"analyze_pi_1\",\n",
    "        \"kind\": \"ConversationalPIITask\"\n",
    "    },          \n",
    "       {\n",
    "        \"taskName\": \"analyze 1\",\n",
    "        \"kind\": \"ConversationalSummarizationTask\",\n",
    "        \"parameters\": {\n",
    "           \"summaryAspects\": [\"chaptertitle\",\"issue\", \"resolution\", \"narrative\"]\n",
    "\n",
    "        }\n",
    "    }\n",
    "  ,             \n",
    "    \n",
    "  ]          \n",
    "}\n"
   ]
  },
  {
   "cell_type": "code",
   "execution_count": 21,
   "id": "90542930-9705-48dc-9bc8-0795cdb288cd",
   "metadata": {},
   "outputs": [
    {
     "data": {
      "text/plain": [
       "{'displayName': 'Conversation Task Example',\n",
       " 'analysisInput': {'conversations': [{'conversationItems': [{'text': 'Good afternoon. This is Sam. Thank you for calling Contessa. How may I help?',\n",
       "      'id': 1,\n",
       "      'role': 'Agent',\n",
       "      'participantId': 'Agent_1'},\n",
       "     {'text': \"Hi there, my name is Mary. I'm currently living in Los Angeles, but I'm planning to move to Las Vegas and I would like to apply for a loan.\",\n",
       "      'id': 2,\n",
       "      'role': 'Customer',\n",
       "      'participantId': 'Customer_2'},\n",
       "     {'text': \"OK, I see you're living in California. Let me make sure I understand you correctly. Uh, you'd like to apply for a loan, even though you'll be moving soon, is that right?\",\n",
       "      'id': 3,\n",
       "      'role': 'Agent',\n",
       "      'participantId': 'Agent_1'},\n",
       "     {'text': \"Yes, exactly. So I'm planning to relocate soon, but I would like to apply for the loan first so that I can purchase a new home once I move there.\",\n",
       "      'id': 4,\n",
       "      'role': 'Customer',\n",
       "      'participantId': 'Customer_2'},\n",
       "     {'text': 'And are you planning to sell your current home?',\n",
       "      'id': 5,\n",
       "      'role': 'Agent',\n",
       "      'participantId': 'Agent_1'},\n",
       "     {'text': \"Yes, I will be listing it on the market soon and hopefully it'll sell quickly. That's why I'm applying for a loan now so that I can purchase a new house in Nevada and close on it quickly as well once my current home sells.\",\n",
       "      'id': 6,\n",
       "      'role': 'Customer',\n",
       "      'participantId': 'Customer_2'},\n",
       "     {'text': 'I see. Um, would you mind holding for a moment while I take your information down?',\n",
       "      'id': 7,\n",
       "      'role': 'Agent',\n",
       "      'participantId': 'Agent_1'},\n",
       "     {'text': 'Yeah, no problem. Thank you for your help.',\n",
       "      'id': 8,\n",
       "      'role': 'Customer',\n",
       "      'participantId': 'Customer_2'},\n",
       "     {'text': 'One moment.',\n",
       "      'id': 9,\n",
       "      'role': 'Agent',\n",
       "      'participantId': 'Agent_1'},\n",
       "     {'text': \"Alright, thank you for your patience, ma'am. Uh, may I have your first and last name please?\",\n",
       "      'id': 10,\n",
       "      'role': 'Customer',\n",
       "      'participantId': 'Customer_2'},\n",
       "     {'text': 'Yes, my name is Mary Smith.',\n",
       "      'id': 11,\n",
       "      'role': 'Agent',\n",
       "      'participantId': 'Agent_1'},\n",
       "     {'text': 'Thank you, Miss Smith. May I have your current address please?',\n",
       "      'id': 12,\n",
       "      'role': 'Customer',\n",
       "      'participantId': 'Customer_2'},\n",
       "     {'text': 'Yes, so my address is 123 Main St in Los Angeles, CA and the ZIP code is 90923.',\n",
       "      'id': 13,\n",
       "      'role': 'Agent',\n",
       "      'participantId': 'Agent_1'},\n",
       "     {'text': 'Sorry, that was a 90. What?',\n",
       "      'id': 14,\n",
       "      'role': 'Customer',\n",
       "      'participantId': 'Customer_2'},\n",
       "     {'text': '90923.', 'id': 15, 'role': 'Agent', 'participantId': 'Agent_1'},\n",
       "     {'text': '90923 on Main Street. Got it. Thank you. Uh, may I have your phone number as well, please?',\n",
       "      'id': 16,\n",
       "      'role': 'Customer',\n",
       "      'participantId': 'Customer_2'},\n",
       "     {'text': 'Yes, my phone number is 504.',\n",
       "      'id': 17,\n",
       "      'role': 'Agent',\n",
       "      'participantId': 'Agent_1'},\n",
       "     {'text': '5292351 and then?',\n",
       "      'id': 18,\n",
       "      'role': 'Customer',\n",
       "      'participantId': 'Customer_2'},\n",
       "     {'text': '51.', 'id': 19, 'role': 'Agent', 'participantId': 'Agent_1'},\n",
       "     {'text': 'Got it. Um and uh, do you have an e-mail address? Um, we I can associate with this application?',\n",
       "      'id': 20,\n",
       "      'role': 'Customer',\n",
       "      'participantId': 'Customer_2'},\n",
       "     {'text': 'Uh, yes. So my e-mail address is mary.a.sm78@gmail.com.',\n",
       "      'id': 21,\n",
       "      'role': 'Agent',\n",
       "      'participantId': 'Agent_1'},\n",
       "     {'text': 'Mary dot a. Was that a SN as in November or M as in Mike?',\n",
       "      'id': 22,\n",
       "      'role': 'Customer',\n",
       "      'participantId': 'Customer_2'},\n",
       "     {'text': 'Uh, M as in Mike.',\n",
       "      'id': 23,\n",
       "      'role': 'Agent',\n",
       "      'participantId': 'Agent_1'},\n",
       "     {'text': 'Like 78? Uh, got it. Right. Thank you, Miss Smith. Um, do you currently have any other loans?',\n",
       "      'id': 24,\n",
       "      'role': 'Customer',\n",
       "      'participantId': 'Customer_2'},\n",
       "     {'text': 'Uh, yes. So I currently have two other loans through CONTOSO. Uh, so my first one is my car loan and then my other is my student loan. Uh. They total about 1400 per month combined and my interest rate is 8%.',\n",
       "      'id': 25,\n",
       "      'role': 'Agent',\n",
       "      'participantId': 'Agent_1'},\n",
       "     {'text': \"I see. And you're currently paying those loans off monthly, is that right?\",\n",
       "      'id': 26,\n",
       "      'role': 'Customer',\n",
       "      'participantId': 'Customer_2'},\n",
       "     {'text': 'Yes, of course I do.',\n",
       "      'id': 27,\n",
       "      'role': 'Agent',\n",
       "      'participantId': 'Agent_1'},\n",
       "     {'text': \"OK, thank you. Umm, here's what I suggest we do. Uh, let me place you on a brief hold again so I can talk with one of my loan officers and get this started for you immediately. And in the meantime, uh would be great if you could take a few minutes and complete the remainder of the secure application online at www.contosoloans.com.\",\n",
       "      'id': 28,\n",
       "      'role': 'Customer',\n",
       "      'participantId': 'Customer_2'},\n",
       "     {'text': 'Yeah, that sounds good. I can go ahead and get started. Thank you for your help.',\n",
       "      'id': 29,\n",
       "      'role': 'Agent',\n",
       "      'participantId': 'Agent_1'},\n",
       "     {'text': 'Thank you.',\n",
       "      'id': 30,\n",
       "      'role': 'Customer',\n",
       "      'participantId': 'Customer_2'}],\n",
       "    'modality': 'text',\n",
       "    'id': 'conversation1',\n",
       "    'language': 'en'}]},\n",
       " 'tasks': [{'taskName': 'analyze_pi_1', 'kind': 'ConversationalPIITask'},\n",
       "  {'taskName': 'analyze 1',\n",
       "   'kind': 'ConversationalSummarizationTask',\n",
       "   'parameters': {'summaryAspects': ['chaptertitle',\n",
       "     'issue',\n",
       "     'resolution',\n",
       "     'narrative']}}]}"
      ]
     },
     "execution_count": 21,
     "metadata": {},
     "output_type": "execute_result"
    }
   ],
   "source": [
    "json_d"
   ]
  },
  {
   "cell_type": "code",
   "execution_count": 8,
   "id": "49d199a0-7422-47e6-ad9e-19e881a935f0",
   "metadata": {},
   "outputs": [
    {
     "name": "stdout",
     "output_type": "stream",
     "text": [
      "<Response [202]>\n"
     ]
    }
   ],
   "source": [
    "import requests\n",
    "from requests.structures import CaseInsensitiveDict\n",
    "\n",
    "parser=ConfigParser()\n",
    "_=parser.read('../config.cfg')\n",
    "cog_svc_ep = parser.get('openai_api','cog_svc_ep')\n",
    "\n",
    "url = \"{}/language/analyze-conversations/jobs?api-version=2022-10-01-preview\".format(cog_svc_ep)\n",
    "\n",
    "headers = CaseInsensitiveDict()\n",
    "headers[\"Content-Type\"] = \"application/json\"\n",
    "headers[\"Ocp-Apim-Subscription-Key\"] = parser.get('openai_api','cog_svc_key')\n",
    "\n",
    "data = json_d\n",
    "\n",
    "resp = requests.post(url, headers=headers, json=data)\n",
    "\n",
    "print(resp)\n"
   ]
  },
  {
   "cell_type": "code",
   "execution_count": 9,
   "id": "7adbc949-ed7e-40ad-8a81-59bc5c92d017",
   "metadata": {},
   "outputs": [],
   "source": [
    "url = resp.headers['operation-location']"
   ]
  },
  {
   "cell_type": "code",
   "execution_count": 13,
   "id": "66d75849-cb88-46db-96fd-a76706689ba4",
   "metadata": {},
   "outputs": [
    {
     "name": "stdout",
     "output_type": "stream",
     "text": [
      "{\"completed\": 2, \"failed\": 0, \"inProgress\": 0, \"total\": 2, \"items\": [{\"kind\": \"conversationalPIIResults\", \"taskName\": \"analyze_pi_1\", \"lastUpdateDateTime\": \"2022-12-02T18:24:07.4081444Z\", \"status\": \"s\n"
     ]
    }
   ],
   "source": [
    "headers = CaseInsensitiveDict()\n",
    "headers[\"Content-Type\"] = \"application/json\"\n",
    "headers[\"Ocp-Apim-Subscription-Key\"] = parser.get('openai_api','cog_svc_key')\n",
    "\n",
    "data = json_d\n",
    "\n",
    "resp = requests.get(url, headers=headers)\n",
    "\n",
    "out = resp.json()\n",
    "print(json.dumps(out['tasks'])[:200])\n",
    "#print(out)\n",
    "#print(json.dumps(out, indent=2))"
   ]
  },
  {
   "cell_type": "markdown",
   "id": "4b7058b8-feba-41dd-b5c4-07717a80fdbb",
   "metadata": {
    "tags": []
   },
   "source": [
    "# Identifying PII"
   ]
  },
  {
   "cell_type": "code",
   "execution_count": 14,
   "id": "9cb7e139-03b4-440c-acec-0d4061e17106",
   "metadata": {},
   "outputs": [
    {
     "name": "stdout",
     "output_type": "stream",
     "text": [
      "Good afternoon. This is ***. Thank you for calling ********. How may I help?\n",
      "Hi there, my name is ****. I'm currently living in Los Angeles, but I'm planning to move to Las Vegas and I would like to apply for a loan.\n",
      "Yes, my name is **********.\n",
      "Thank you, Miss *****. May I have your current address please?\n",
      "Yes, so my address is *********************************************************\n",
      "********************. ****?\n",
      "*****.\n",
      "********************. Got it. Thank you. Uh, may I have your phone number as well, please?\n",
      "Yes, my phone number is *04.\n",
      "****************?\n",
      "**.\n",
      "Uh, yes. So my e-mail address is *********************.\n",
      "**********. ********************************************?\n",
      "****************.\n",
      "*******? Uh, got it. Right. Thank you, Miss *****. Um, do you currently have any other loans?\n",
      "OK, thank you. Umm, here's what I suggest we do. Uh, let me place you on a brief hold again so I can talk with one of my loan officers and get this started for you immediately. And in the meantime, uh would be great if you could take a few minutes and complete the remainder of the secure application online at ********************.\n",
      "[[{'text': 'Sam', 'category': 'Name', 'offset': 24, 'length': 3, 'confidenceScore': 0.95}, {'text': 'Contessa', 'category': 'Name', 'offset': 51, 'length': 8, 'confidenceScore': 0.89}], [{'text': 'Mary', 'category': 'Name', 'offset': 21, 'length': 4, 'confidenceScore': 0.96}], [{'text': 'Mary Smith', 'category': 'Name', 'offset': 16, 'length': 10, 'confidenceScore': 0.98}], [{'text': 'Smith', 'category': 'Name', 'offset': 16, 'length': 5, 'confidenceScore': 0.95}], [{'text': '123 Main St in Los Angeles, CA and the ZIP code is 90923.', 'category': 'Address', 'offset': 22, 'length': 57, 'confidenceScore': 0.82}], [{'text': 'Sorry, that was a 90', 'category': 'Address', 'offset': 0, 'length': 20, 'confidenceScore': 0.82}, {'text': 'What', 'category': 'Address', 'offset': 22, 'length': 4, 'confidenceScore': 0.93}], [{'text': '90923', 'category': 'Address', 'offset': 0, 'length': 5, 'confidenceScore': 0.99}], [{'text': '90923 on Main Street', 'category': 'Address', 'offset': 0, 'length': 20, 'confidenceScore': 0.99}], [{'text': '5', 'category': 'Phone', 'offset': 24, 'length': 1, 'confidenceScore': 0.98}], [{'text': '5292351 and then', 'category': 'Phone', 'offset': 0, 'length': 16, 'confidenceScore': 0.97}], [{'text': '51', 'category': 'Phone', 'offset': 0, 'length': 2, 'confidenceScore': 0.98}], [{'text': 'mary.a.sm78@gmail.com', 'category': 'Email', 'offset': 33, 'length': 21, 'confidenceScore': 0.99}], [{'text': 'Mary dot a', 'category': 'Email', 'offset': 0, 'length': 10, 'confidenceScore': 0.98}, {'text': 'Was that a SN as in November or M as in Mike', 'category': 'Email', 'offset': 12, 'length': 44, 'confidenceScore': 0.97}], [{'text': 'Uh, M as in Mike', 'category': 'Email', 'offset': 0, 'length': 16, 'confidenceScore': 0.98}], [{'text': 'Like 78', 'category': 'Email', 'offset': 0, 'length': 7, 'confidenceScore': 0.98}, {'text': 'Smith', 'category': 'Name', 'offset': 44, 'length': 5, 'confidenceScore': 0.93}], [{'text': 'www.contosoloans.com', 'category': 'Email', 'offset': 311, 'length': 20, 'confidenceScore': 0.69}]]\n"
     ]
    }
   ],
   "source": [
    "pii = []\n",
    "for c in out['tasks']['items'][0]['results']['conversations'][0]['conversationItems']:\n",
    "    if(len(c['entities'])>0) :\n",
    "        print(c['redactedContent']['text'])\n",
    "        pii.append(c['entities'])        \n",
    "print(pii)\n",
    "\n"
   ]
  },
  {
   "cell_type": "markdown",
   "id": "61e596fe-3093-4968-991c-e105a84305e7",
   "metadata": {},
   "source": [
    "# Validate PII with OpenAI"
   ]
  },
  {
   "cell_type": "code",
   "execution_count": 15,
   "id": "5b173a9a-78e7-498d-a580-bcf115556bef",
   "metadata": {},
   "outputs": [],
   "source": [
    "import os\n",
    "import openai\n",
    "from configparser import ConfigParser\n",
    "\n",
    "parser=ConfigParser()\n",
    "_=parser.read('../config.cfg')\n",
    "openai.api_type = \"azure\"\n",
    "openai.api_base = parser.get('openai_api','api_ep')\n",
    "openai.api_version = \"2022-06-01-preview\"\n",
    "openai.api_key = parser.get('openai_api','api_key')\n",
    "model =  parser.get('openai_api','api_model')"
   ]
  },
  {
   "cell_type": "code",
   "execution_count": 16,
   "id": "46d29c31-7190-4b18-8e79-5e28f31e6169",
   "metadata": {},
   "outputs": [
    {
     "name": "stdout",
     "output_type": "stream",
     "text": [
      "Name - Sam: True\n",
      "Name - Contessa: True\n",
      "Name - Mary: True\n",
      "Name - Mary Smith: True\n",
      "Name - Smith: True\n",
      "Address - 123 Main St in Los Angeles, CA and the ZIP code is 90923.: True\n",
      "Address - Sorry, that was a 90: False\n",
      "Address - What: False\n",
      "Address - 90923: False\n",
      "Address - 90923 on Main Street: False\n",
      "Phone - 5: False\n",
      "Phone - 5292351 and then: False\n",
      "Phone - 51: False\n",
      "Email - mary.a.sm78@gmail.com: True\n",
      "Email - Mary dot a: False\n",
      "Email - Was that a SN as in November or M as in Mike: False\n",
      "Email - Uh, M as in Mike: False\n",
      "Email - Like 78: False\n",
      "Name - Smith: True\n",
      "Email - www.contosoloans.com: False\n"
     ]
    }
   ],
   "source": [
    "for entities in pii:\n",
    "    for e in entities:\n",
    "        #print(e)\n",
    "        prompt = \"Validate following text is type of {} with True or False:\\n'''{}'''\\n\".format(e['category'], e['text'])\n",
    "        response = openai.Completion.create( engine=model,  prompt=prompt, temperature=.1,  max_tokens=400,  top_p=0.5,  frequency_penalty=0,  presence_penalty=0,  stop=None)\n",
    "        #print('Response:')\n",
    "        print(\"{} - {}: {}\".format(e['category'],e['text'],response['choices'][0]['text'].strip()))"
   ]
  },
  {
   "cell_type": "markdown",
   "id": "7029f1bd-c648-4258-88a7-32e5a8d37485",
   "metadata": {},
   "source": [
    "# Abstractive Summary"
   ]
  },
  {
   "cell_type": "code",
   "execution_count": 16,
   "id": "e9552a37-a9c5-4116-aca9-633ac1dd0289",
   "metadata": {},
   "outputs": [
    {
     "name": "stdout",
     "output_type": "stream",
     "text": [
      "chapterTitle = Loan Application for Relocation\n",
      "issue = Customer wants to apply for a loan. | Customer is planning to move to Las Vegas.\n",
      "resolution = Verified the address and phone number. | Verified the e-mail address. | Verified the car loan. | Verified the student loan.\n",
      "narrative = Agent_1 helps Mary Smith to apply for a loan.\n"
     ]
    }
   ],
   "source": [
    "for task in out['tasks']['items'][1]['results']['conversations'][0]['summaries']:\n",
    "    print(\"{} = {}\".format(task['aspect'],task['text']))\n"
   ]
  },
  {
   "cell_type": "code",
   "execution_count": 17,
   "id": "41de6737-ad3c-4551-bca6-b01ce2caeacb",
   "metadata": {
    "tags": []
   },
   "outputs": [],
   "source": [
    "import os\n",
    "import openai\n",
    "from configparser import ConfigParser\n",
    "\n",
    "parser=ConfigParser()\n",
    "_=parser.read('../config.cfg')\n",
    "openai.api_type = \"azure\"\n",
    "openai.api_base = parser.get('openai_api','api_ep')\n",
    "openai.api_version = \"2022-06-01-preview\"\n",
    "openai.api_key = parser.get('openai_api','api_key')\n",
    "model =  parser.get('openai_api','api_model')"
   ]
  },
  {
   "cell_type": "code",
   "execution_count": 22,
   "id": "682c6a38-3f1d-42c6-8fbe-944ba59926de",
   "metadata": {},
   "outputs": [
    {
     "name": "stdout",
     "output_type": "stream",
     "text": [
      "Generate detailed call summary notes of the following text:\n",
      "'''[{'text': 'Good afternoon. This is Sam. Thank you for calling Contessa. How may I help?', 'id': 1, 'role': 'Agent', 'participantId': 'Agent_1'}, {'text': \"Hi there, my name is Mary. I'm currently living in Los Angeles, but I'm planning to move to Las Vegas and I would like to apply for a loan.\", 'id': 2, 'role': 'Customer', 'participantId': 'Customer_2'}, {'text': \"OK, I see you're living in California. Let me make sure I understand you correctly. Uh, you'd like to apply for a loan, even though you'll be moving soon, is that right?\", 'id': 3, 'role': 'Agent', 'participantId': 'Agent_1'}, {'text': \"Yes, exactly. So I'm planning to relocate soon, but I would like to apply for the loan first so that I can purchase a new home once I move there.\", 'id': 4, 'role': 'Customer', 'participantId': 'Customer_2'}, {'text': 'And are you planning to sell your current home?', 'id': 5, 'role': 'Agent', 'participantId': 'Agent_1'}, {'text': \"Yes, I will be listing it on the market soon and hopefully it'll sell quickly. That's why I'm applying for a loan now so that I can purchase a new house in Nevada and close on it quickly as well once my current home sells.\", 'id': 6, 'role': 'Customer', 'participantId': 'Customer_2'}, {'text': 'I see. Um, would you mind holding for a moment while I take your information down?', 'id': 7, 'role': 'Agent', 'participantId': 'Agent_1'}, {'text': 'Yeah, no problem. Thank you for your help.', 'id': 8, 'role': 'Customer', 'participantId': 'Customer_2'}, {'text': 'One moment.', 'id': 9, 'role': 'Agent', 'participantId': 'Agent_1'}, {'text': \"Alright, thank you for your patience, ma'am. Uh, may I have your first and last name please?\", 'id': 10, 'role': 'Customer', 'participantId': 'Customer_2'}, {'text': 'Yes, my name is Mary Smith.', 'id': 11, 'role': 'Agent', 'participantId': 'Agent_1'}, {'text': 'Thank you, Miss Smith. May I have your current address please?', 'id': 12, 'role': 'Customer', 'participantId': 'Customer_2'}, {'text': 'Yes, so my address is 123 Main St in Los Angeles, CA and the ZIP code is 90923.', 'id': 13, 'role': 'Agent', 'participantId': 'Agent_1'}, {'text': 'Sorry, that was a 90. What?', 'id': 14, 'role': 'Customer', 'participantId': 'Customer_2'}, {'text': '90923.', 'id': 15, 'role': 'Agent', 'participantId': 'Agent_1'}, {'text': '90923 on Main Street. Got it. Thank you. Uh, may I have your phone number as well, please?', 'id': 16, 'role': 'Customer', 'participantId': 'Customer_2'}, {'text': 'Yes, my phone number is 504.', 'id': 17, 'role': 'Agent', 'participantId': 'Agent_1'}, {'text': '5292351 and then?', 'id': 18, 'role': 'Customer', 'participantId': 'Customer_2'}, {'text': '51.', 'id': 19, 'role': 'Agent', 'participantId': 'Agent_1'}, {'text': 'Got it. Um and uh, do you have an e-mail address? Um, we I can associate with this application?', 'id': 20, 'role': 'Customer', 'participantId': 'Customer_2'}, {'text': 'Uh, yes. So my e-mail address is mary.a.sm78@gmail.com.', 'id': 21, 'role': 'Agent', 'participantId': 'Agent_1'}, {'text': 'Mary dot a. Was that a SN as in November or M as in Mike?', 'id': 22, 'role': 'Customer', 'participantId': 'Customer_2'}, {'text': 'Uh, M as in Mike.', 'id': 23, 'role': 'Agent', 'participantId': 'Agent_1'}, {'text': 'Like 78? Uh, got it. Right. Thank you, Miss Smith. Um, do you currently have any other loans?', 'id': 24, 'role': 'Customer', 'participantId': 'Customer_2'}, {'text': 'Uh, yes. So I currently have two other loans through CONTOSO. Uh, so my first one is my car loan and then my other is my student loan. Uh. They total about 1400 per month combined and my interest rate is 8%.', 'id': 25, 'role': 'Agent', 'participantId': 'Agent_1'}, {'text': \"I see. And you're currently paying those loans off monthly, is that right?\", 'id': 26, 'role': 'Customer', 'participantId': 'Customer_2'}, {'text': 'Yes, of course I do.', 'id': 27, 'role': 'Agent', 'participantId': 'Agent_1'}, {'text': \"OK, thank you. Umm, here's what I suggest we do. Uh, let me place you on a brief hold again so I can talk with one of my loan officers and get this started for you immediately. And in the meantime, uh would be great if you could take a few minutes and complete the remainder of the secure application online at www.contosoloans.com.\", 'id': 28, 'role': 'Customer', 'participantId': 'Customer_2'}, {'text': 'Yeah, that sounds good. I can go ahead and get started. Thank you for your help.', 'id': 29, 'role': 'Agent', 'participantId': 'Agent_1'}, {'text': 'Thank you.', 'id': 30, 'role': 'Customer', 'participantId': 'Customer_2'}]'''\n",
      "Result:\n",
      "-\n"
     ]
    }
   ],
   "source": [
    "print(\"Generate detailed call summary notes of the following text:\\n'''{}'''\\n{}\".format(conversation,'Result:\\n-'))"
   ]
  },
  {
   "cell_type": "code",
   "execution_count": 19,
   "id": "ef1e26d5-fcf4-4e44-9200-13e1ff0f936b",
   "metadata": {
    "tags": []
   },
   "outputs": [
    {
     "name": "stdout",
     "output_type": "stream",
     "text": [
      "Response:\n",
      "The customer, Mary, is looking to apply for a loan in order to purchase a new home in Las Vegas\n",
      "-Mary is currently living in Los Angeles but is planning to move to Las Vegas soon\n",
      "-Mary is hoping to sell her current home quickly so that she can purchase a new home in Nevada and close on it quickly\n",
      "-The agent takes down Mary's information including her name, address, phone number, and email address\n",
      "-The agent also asks Mary if she has any other loans and Mary says she has two other loans through CONTOSO\n",
      "-The agent suggests that Mary complete the remainder of the secure application online while the agent talks with one of the loan officers\n"
     ]
    }
   ],
   "source": [
    "prompt = \"Generate detailed call summary notes of the following text:\\n'''{}'''\\n{}\".format(conversation,'Result:\\n-')\n",
    "response = openai.Completion.create( engine=model,  prompt=prompt, temperature=.1,  max_tokens=400,  top_p=0.5,  frequency_penalty=0,  presence_penalty=0,  stop=None)\n",
    "\n",
    "print('Response:')\n",
    "print(response['choices'][0]['text'])"
   ]
  },
  {
   "cell_type": "code",
   "execution_count": 20,
   "id": "0b63094c-e57a-402a-8552-a2eb258c4c01",
   "metadata": {},
   "outputs": [
    {
     "name": "stdout",
     "output_type": "stream",
     "text": [
      "Response:\n",
      "\n",
      "-Place customer on hold to consult with loan officer\n",
      "-Get started on the loan application process\n",
      "-Get more information from the customer\n",
      "-Complete the loan application process\n"
     ]
    }
   ],
   "source": [
    "prompt = \"Generate list of follow up tasks from the following text\\nText:###{}###\\n\".format(conversation)\n",
    "\n",
    "response = openai.Completion.create( engine=model,  prompt=prompt, temperature=.5,  max_tokens=400,  top_p=0.5,  frequency_penalty=0,  presence_penalty=0,  stop=None)\n",
    "\n",
    "print('Response:')\n",
    "print(response['choices'][0]['text'])"
   ]
  },
  {
   "cell_type": "code",
   "execution_count": null,
   "id": "1e60d072-28f3-4c13-8fbf-1769e05288ef",
   "metadata": {},
   "outputs": [],
   "source": []
  }
 ],
 "metadata": {
  "kernelspec": {
   "display_name": "py38",
   "language": "python",
   "name": "py38"
  },
  "language_info": {
   "codemirror_mode": {
    "name": "ipython",
    "version": 3
   },
   "file_extension": ".py",
   "mimetype": "text/x-python",
   "name": "python",
   "nbconvert_exporter": "python",
   "pygments_lexer": "ipython3",
   "version": "3.8.10"
  }
 },
 "nbformat": 4,
 "nbformat_minor": 5
}
