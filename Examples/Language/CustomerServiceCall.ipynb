{
 "cells": [
  {
   "cell_type": "code",
   "execution_count": 21,
   "id": "06a1245e-56d3-4071-a48d-9bd8ed2d5fd1",
   "metadata": {},
   "outputs": [],
   "source": [
    "import json\n",
    "import io\n"
   ]
  },
  {
   "cell_type": "code",
   "execution_count": 22,
   "id": "995a1296-4dd1-488d-affc-cb625ff4c42b",
   "metadata": {},
   "outputs": [],
   "source": [
    "json_d = { \"displayName\": \"Conversation Task Example\",\n",
    "  \"analysisInput\": {\n",
    "    \"conversations\": [\n",
    "      {\n",
    "        \"conversationItems\": [\n",
    "          {\n",
    "            \"text\": \"Hello, you’re chatting with Rene. How may I help you?\",\n",
    "            \"id\": \"1\",\n",
    "            \"role\": \"Agent\",\n",
    "            \"participantId\": \"Agent_1\"\n",
    "          },\n",
    "          {\n",
    "            \"text\": \"Hi, I tried to set up wifi connection for Smart Brew 300 espresso machine, but it didn’t work.\",\n",
    "            \"id\": \"2\",\n",
    "            \"role\": \"Customer\",\n",
    "            \"participantId\": \"Customer_1\"\n",
    "          },\n",
    "          {\n",
    "            \"text\": \"I’m sorry to hear that. Let’s see what we can do to fix this issue. Could you please try the following steps for me? First, could you push the wifi connection button, hold for 3 seconds, then let me know if the power light is slowly blinking on and off every second?\",\n",
    "            \"id\": \"3\",\n",
    "            \"role\": \"Agent\",\n",
    "            \"participantId\": \"Agent_1\"\n",
    "          },\n",
    "          {\n",
    "            \"text\": \"Yes, I pushed the wifi connection button, and now the power light is slowly blinking.\",\n",
    "            \"id\": \"4\",\n",
    "            \"role\": \"Customer\",\n",
    "            \"participantId\": \"Customer_1\"\n",
    "          },\n",
    "          {\n",
    "            \"text\": \"Great. Thank you! Now, please check in your Contoso Coffee app. Does it prompt to ask you to connect with the machine? \",\n",
    "           \"id\": \"5\",\n",
    "            \"role\": \"Agent\",\n",
    "            \"participantId\": \"Agent_1\"\n",
    "          },\n",
    "          {\n",
    "            \"text\": \"No. Nothing happened.\",\n",
    "            \"id\": \"6\",\n",
    "            \"role\": \"Customer\",\n",
    "            \"participantId\": \"Customer_1\"\n",
    "          },\n",
    "          {\n",
    "            \"text\": \"I’m very sorry to hear that. Let me see if there’s another way to fix the issue. Please hold on for a minute.\",\n",
    "            \"id\": \"7\",\n",
    "            \"role\": \"Agent\",\n",
    "            \"participantId\": \"Agent_1\"\n",
    "          }\n",
    "        ],\n",
    "        \"modality\": \"text\",\n",
    "        \"id\": \"conversation1\",\n",
    "        \"language\": \"en\"\n",
    "      }\n",
    "    ]\n",
    "  },\n",
    "  'tasks': [{'taskName': 'analyze 1',\n",
    "   'kind': 'ConversationalSummarizationTask',\n",
    "   'parameters': {'summaryAspects': ['chaptertitle',\n",
    "     'issue',\n",
    "     'resolution',\n",
    "     'narrative']}}]}\n",
    "\n"
   ]
  },
  {
   "cell_type": "code",
   "execution_count": 23,
   "id": "2a20b55f-d514-4726-914a-9eb72845283f",
   "metadata": {},
   "outputs": [
    {
     "name": "stdout",
     "output_type": "stream",
     "text": [
      "<Response [202]>\n"
     ]
    }
   ],
   "source": [
    "import requests\n",
    "from requests.structures import CaseInsensitiveDict\n",
    "from configparser import ConfigParser\n",
    "\n",
    "\n",
    "parser=ConfigParser()\n",
    "_=parser.read('../config.cfg')\n",
    "cog_svc_ep = parser.get('openai_api','cog_svc_ep')\n",
    "\n",
    "\n",
    "url = \"{}/language/analyze-conversations/jobs?api-version=2022-10-01-preview\".format(cog_svc_ep)\n",
    "\n",
    "headers = CaseInsensitiveDict()\n",
    "headers[\"Content-Type\"] = \"application/json\"\n",
    "headers[\"Ocp-Apim-Subscription-Key\"] = parser.get('openai_api','cog_svc_key')\n",
    "\n",
    "data = json_d\n",
    "\n",
    "resp = requests.post(url, headers=headers, json=data)\n",
    "\n",
    "print(resp)\n"
   ]
  },
  {
   "cell_type": "code",
   "execution_count": 24,
   "id": "917915dd-fdbb-4094-ade8-e2b09d99978b",
   "metadata": {},
   "outputs": [],
   "source": [
    "url = resp.headers['operation-location']"
   ]
  },
  {
   "cell_type": "code",
   "execution_count": 25,
   "id": "0d2a0415-b643-496a-bad2-021e6664fd9a",
   "metadata": {},
   "outputs": [
    {
     "name": "stdout",
     "output_type": "stream",
     "text": [
      "<Response [200]>\n"
     ]
    }
   ],
   "source": [
    "headers = CaseInsensitiveDict()\n",
    "headers[\"Content-Type\"] = \"application/json\"\n",
    "headers[\"Ocp-Apim-Subscription-Key\"] = parser.get('openai_api','cog_svc_key')\n",
    "\n",
    "data = json_d\n",
    "\n",
    "resp = requests.get(url, headers=headers)\n",
    "\n",
    "print(resp)"
   ]
  },
  {
   "cell_type": "code",
   "execution_count": 26,
   "id": "53aafb2d-f165-4182-bf40-7f75d0bdf599",
   "metadata": {},
   "outputs": [],
   "source": [
    "## Wait for Asynchronous call to complete"
   ]
  },
  {
   "cell_type": "code",
   "execution_count": 27,
   "id": "54e7b9e5-7868-49f2-b7fc-651869a2217a",
   "metadata": {},
   "outputs": [
    {
     "name": "stdout",
     "output_type": "stream",
     "text": [
      "chapterTitle = Setting up WiFi Connection for Smart Brew 300 Espresso Machine\n",
      "issue = Customer wants to connect their Smart Brew 300 to their Wi-Fi. | The Wi-Fi connection didn't work.\n",
      "resolution = Recommended customer to check the wifi connection. | Recommended customer to check the contoso coffee app. | Recommended customer to hold on for a minute.\n",
      "narrative = Agent_1 helps customer to set up wifi connection for Smart Brew 300 espresso machine.\n"
     ]
    }
   ],
   "source": [
    "out= resp.json()\n",
    "\n",
    "for task in out['tasks']['items'][0]['results']['conversations'][0]['summaries']:\n",
    "    print(\"{} = {}\".format(task['aspect'],task['text']))"
   ]
  },
  {
   "cell_type": "code",
   "execution_count": 28,
   "id": "791f0482-a245-45a8-b62c-4ac493c78cb0",
   "metadata": {},
   "outputs": [],
   "source": [
    "import os\n",
    "import openai\n",
    "from configparser import ConfigParser\n",
    "\n",
    "parser=ConfigParser()\n",
    "_=parser.read('../config.cfg')\n",
    "openai.api_type = \"azure\"\n",
    "openai.api_base = parser.get('openai_api','api_ep')\n",
    "openai.api_version = \"2022-06-01-preview\"\n",
    "openai.api_key = parser.get('openai_api','api_key')\n",
    "model =  parser.get('openai_api','api_model')"
   ]
  },
  {
   "cell_type": "code",
   "execution_count": 18,
   "id": "df705331-a18f-484a-947e-6dfe374ab0a8",
   "metadata": {},
   "outputs": [],
   "source": [
    "conversation = json_d['analysisInput']['conversations'][0]"
   ]
  },
  {
   "cell_type": "code",
   "execution_count": 29,
   "id": "09b7214f-824a-4723-b1fe-1e167fa3d391",
   "metadata": {},
   "outputs": [
    {
     "name": "stdout",
     "output_type": "stream",
     "text": [
      "Response:\n",
      "\n",
      "-Customer is having difficulty connecting their Smart Brew 300 espresso machine to wifi\n",
      "-Agent troubleshoots with customer, asking them to push the wifi connection button and hold for 3 seconds, then checking the power light\n",
      "-Customer does as asked, and reports that the power light is now slowly blinking\n",
      "-Agent asks customer to check the Contoso Coffee app, to see if it prompts to connect with the machine\n",
      "-Customer reports that nothing happened\n",
      "-Agent troubleshoots further, asking customer to hold on for a minute\n"
     ]
    }
   ],
   "source": [
    "prompt = \"Generate detailed call summary notes from the following text\\nText:###{}###\\n\".format(conversation)\n",
    "\n",
    "response = openai.Completion.create( engine=model,  prompt=prompt, temperature=.5,  max_tokens=400,  top_p=0.5,  frequency_penalty=0,  presence_penalty=0,  stop=None)\n",
    "\n",
    "print('Response:')\n",
    "print(response['choices'][0]['text'])"
   ]
  },
  {
   "cell_type": "code",
   "execution_count": 30,
   "id": "3edb54fe-32cb-4eed-8452-93d6e5c66e0f",
   "metadata": {},
   "outputs": [
    {
     "name": "stdout",
     "output_type": "stream",
     "text": [
      "Response:\n",
      "\n",
      "-Try restarting the machine\n",
      "-If that doesn't work, try unplugging and replugging in the machine\n",
      "-If the problem persists, contact customer support\n"
     ]
    }
   ],
   "source": [
    "prompt = \"Generate list of follow up tasks from the following text\\nText:###{}###\\n\".format(conversation)\n",
    "\n",
    "response = openai.Completion.create( engine=model,  prompt=prompt, temperature=.5,  max_tokens=400,  top_p=0.5,  frequency_penalty=0,  presence_penalty=0,  stop=None)\n",
    "\n",
    "print('Response:')\n",
    "print(response['choices'][0]['text'])"
   ]
  },
  {
   "cell_type": "code",
   "execution_count": null,
   "id": "96ea189e-acd9-4a08-bd01-693f571e6823",
   "metadata": {},
   "outputs": [],
   "source": []
  }
 ],
 "metadata": {
  "kernelspec": {
   "display_name": "py38",
   "language": "python",
   "name": "py38"
  },
  "language_info": {
   "codemirror_mode": {
    "name": "ipython",
    "version": 3
   },
   "file_extension": ".py",
   "mimetype": "text/x-python",
   "name": "python",
   "nbconvert_exporter": "python",
   "pygments_lexer": "ipython3",
   "version": "3.8.10"
  }
 },
 "nbformat": 4,
 "nbformat_minor": 5
}
