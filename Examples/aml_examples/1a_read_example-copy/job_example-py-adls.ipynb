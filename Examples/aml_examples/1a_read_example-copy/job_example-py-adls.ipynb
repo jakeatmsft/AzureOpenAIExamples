{
  "cells": [
    {
      "cell_type": "code",
      "source": [
        "from azure.ai.ml import MLClient\n",
        "from azure.identity import DefaultAzureCredential\n",
        "from azure.ai.ml import command\n",
        "\n",
        "from azure.ai.ml import command, Input, Output\n",
        "from azure.ai.ml.entities import Data\n",
        "from azure.ai.ml.constants import AssetTypes\n",
        "from azure.ai.ml import UserIdentityConfiguration\n",
        "\n",
        "\n",
        "credential = DefaultAzureCredential()\n",
        "# Check if given credential can get token successfully.\n",
        "credential.get_token(\"https://management.azure.com/.default\")\n",
        "\n",
        "# get a handle to the workspace\n",
        "ml_client = MLClient.from_config(credential=credential)\n"
      ],
      "outputs": [
        {
          "output_type": "stream",
          "name": "stderr",
          "text": "Found the config file in: /config.json\n"
        }
      ],
      "execution_count": 4,
      "metadata": {
        "gather": {
          "logged": 1709750739131
        }
      }
    },
    {
      "cell_type": "code",
      "source": [
        "from azure.ai.ml import MLClient, command, Input\n",
        "from azure.ai.ml.constants import AssetTypes, InputOutputModes\n",
        "from azure.identity import DefaultAzureCredential\n",
        "from azure.ai.ml import UserIdentityConfiguration, ManagedIdentityConfiguration\n",
        "\n",
        "\n",
        "ml_client = MLClient.from_config(credential=DefaultAzureCredential())\n",
        "\n",
        "data_asset = ml_client.data.get(\"ADLS_folder\", version=\"1\")\n",
        "\n",
        "# to successfully create a job, customize the parameters below based on your workspace resources\n",
        "job = command(\n",
        "        code=\"./adls_src\",  # local path where the code is stored\n",
        "        command=\"python read_folder.py --training_data ${{inputs.data}}\",\n",
        "        #command='ls \"${{inputs.data}}\"',\n",
        "        inputs={\n",
        "            \"data\": Input(path=data_asset.id,\n",
        "                type=AssetTypes.URI_FOLDER,\n",
        "                mode=InputOutputModes.RO_MOUNT\n",
        "            )\n",
        "        },\n",
        "        environment=\"azureml:AzureML-sklearn-1.0-ubuntu20.04-py38-cpu@latest\",\n",
        "        compute=\"dscompute\",\n",
        "        identity=ManagedIdentityConfiguration(),\n",
        "      )\n",
        "returned_job = ml_client.jobs.create_or_update(job=job, experiment_name=\"adls_read_mi_cred\")"
      ],
      "outputs": [
        {
          "output_type": "stream",
          "name": "stderr",
          "text": "Found the config file in: /config.json\n\u001b[32mUploading adls_src (0.0 MBs): 100%|██████████| 3569/3569 [00:00<00:00, 34244.03it/s]\n\u001b[39m\n\n"
        }
      ],
      "execution_count": 5,
      "metadata": {
        "jupyter": {
          "source_hidden": false,
          "outputs_hidden": false
        },
        "nteract": {
          "transient": {
            "deleting": false
          }
        },
        "gather": {
          "logged": 1709751067594
        }
      }
    },
    {
      "cell_type": "code",
      "source": [
        "from azure.ai.ml import MLClient, command, Input\n",
        "from azure.ai.ml.constants import AssetTypes, InputOutputModes\n",
        "from azure.identity import DefaultAzureCredential\n",
        "from azure.ai.ml import UserIdentityConfiguration, ManagedIdentityConfiguration\n",
        "\n",
        "\n",
        "ml_client = MLClient.from_config(credential=DefaultAzureCredential())\n",
        "\n",
        "#data_asset = ml_client.datastores.get(\"adlsgen2\").\n",
        "\n",
        "data_asset = ml_client.data.get(\"root_folder\", version=\"1\")\n",
        "\n",
        "# to successfully create a job, customize the parameters below based on your workspace resources\n",
        "job = command(\n",
        "        code=\"./adls_src\",  # local path where the code is stored\n",
        "        command=\"python read_folder.py --training_data ${{inputs.data}}\",\n",
        "        #command='ls \"${{inputs.data}}\"',\n",
        "        inputs={\n",
        "            \"data\": Input(path=data_asset.id,\n",
        "                type=AssetTypes.URI_FOLDER,\n",
        "                mode=InputOutputModes.RO_MOUNT\n",
        "            )\n",
        "        },\n",
        "        environment=\"azureml:AzureML-sklearn-1.0-ubuntu20.04-py38-cpu@latest\",\n",
        "        compute=\"dscompute\",\n",
        "        identity=UserIdentityConfiguration(),\n",
        "      )\n",
        "returned_job = ml_client.jobs.create_or_update(job=job, experiment_name=\"adls_read_user_cred\")"
      ],
      "outputs": [
        {
          "output_type": "stream",
          "name": "stderr",
          "text": "Found the config file in: /config.json\n"
        }
      ],
      "execution_count": 9,
      "metadata": {
        "jupyter": {
          "source_hidden": false,
          "outputs_hidden": false
        },
        "nteract": {
          "transient": {
            "deleting": false
          }
        },
        "gather": {
          "logged": 1709752017539
        }
      }
    },
    {
      "cell_type": "code",
      "source": [
        "returned_job"
      ],
      "outputs": [
        {
          "output_type": "execute_result",
          "execution_count": 10,
          "data": {
            "text/plain": "Command({'parameters': {}, 'init': False, 'name': 'tidy_town_48mg3flkpb', 'type': 'command', 'status': 'Starting', 'log_files': None, 'description': None, 'tags': {}, 'properties': {'_azureml.ComputeTargetType': 'amlctrain', '_azureml.ClusterName': 'dscompute', 'ContentSnapshotId': '39d85f74-1e86-4a92-9cfd-879e6ef39e08'}, 'print_as_yaml': True, 'id': '/subscriptions/6025ba02-1dfd-407f-b358-88f811c7c7aa/resourceGroups/sc1-ml1/providers/Microsoft.MachineLearningServices/workspaces/sc1ml1/jobs/tidy_town_48mg3flkpb', 'Resource__source_path': None, 'base_path': '/mnt/batch/tasks/shared/LS_root/mounts/clusters/jacwang3/code/Users/jacwang/azureml-examples/sdk/python/jobs/pipelines/1a_read_example-copy', 'creation_context': <azure.ai.ml.entities._system_data.SystemData object at 0x7f1e70559c00>, 'serialize': <msrest.serialization.Serializer object at 0x7f1e7055bdc0>, 'allowed_keys': {}, 'key_restriction': False, 'logger': <Logger attr_dict (WARNING)>, 'display_name': 'tidy_town_48mg3flkpb', 'experiment_name': 'adls_read_user_cred', 'compute': 'dscompute', 'services': {'Tracking': {'endpoint': 'azureml://southcentralus.api.azureml.ms/mlflow/v1.0/subscriptions/6025ba02-1dfd-407f-b358-88f811c7c7aa/resourceGroups/sc1-ml1/providers/Microsoft.MachineLearningServices/workspaces/sc1ml1?', 'type': 'Tracking'}, 'Studio': {'endpoint': 'https://ml.azure.com/runs/tidy_town_48mg3flkpb?wsid=/subscriptions/6025ba02-1dfd-407f-b358-88f811c7c7aa/resourcegroups/sc1-ml1/workspaces/sc1ml1&tid=16b3c013-d300-468d-ac64-7eda0820b6d3', 'type': 'Studio'}}, 'comment': None, 'job_inputs': {'data': {'type': 'uri_folder', 'path': 'root_folder:1', 'mode': 'ro_mount'}}, 'job_outputs': {'default': {'type': 'uri_folder', 'path': 'azureml://datastores/workspaceartifactstore/ExperimentRun/dcid.tidy_town_48mg3flkpb', 'mode': 'rw_mount'}}, 'inputs': {'data': <azure.ai.ml.entities._job.pipeline._io.base.NodeInput object at 0x7f1e7055a290>}, 'outputs': {'default': <azure.ai.ml.entities._job.pipeline._io.base.NodeOutput object at 0x7f1e7c2cd7e0>}, 'component': CommandComponent({'intellectual_property': None, 'auto_increment_version': True, 'source': 'REMOTE.WORKSPACE.JOB', 'is_anonymous': False, 'auto_delete_setting': None, 'name': 'tidy_town_48mg3flkpb', 'description': None, 'tags': {}, 'properties': {}, 'print_as_yaml': True, 'id': None, 'Resource__source_path': None, 'base_path': PosixPath('.'), 'creation_context': <azure.ai.ml.entities._system_data.SystemData object at 0x7f1e70559c00>, 'serialize': <msrest.serialization.Serializer object at 0x7f1e70559d20>, 'command': 'python read_folder.py --training_data ${{inputs.data}}', 'code': '/subscriptions/6025ba02-1dfd-407f-b358-88f811c7c7aa/resourceGroups/sc1-ml1/providers/Microsoft.MachineLearningServices/workspaces/sc1ml1/codes/4faea760-386e-4f24-b994-f94580926c7b/versions/1', 'environment_variables': {}, 'environment': 'azureml:AzureML-sklearn-1.0-ubuntu20.04-py38-cpu@latest', 'distribution': None, 'resources': None, 'queue_settings': None, 'version': None, 'latest_version': None, 'schema': None, 'type': 'command', 'display_name': 'tidy_town_48mg3flkpb', 'is_deterministic': True, 'inputs': {'data': {'type': 'uri_folder', 'path': '/subscriptions/6025ba02-1dfd-407f-b358-88f811c7c7aa/resourceGroups/sc1-ml1/providers/Microsoft.MachineLearningServices/workspaces/sc1ml1/data/root_folder/versions/1', 'mode': 'ro_mount'}}, 'outputs': {'default': {'type': 'uri_folder', 'path': 'azureml://datastores/workspaceartifactstore/ExperimentRun/dcid.tidy_town_48mg3flkpb', 'mode': 'rw_mount'}}, 'yaml_str': None, 'other_parameter': {'status': 'Starting', 'parameters': {}}, 'additional_includes': [], 'CommandComponent__additional_includes_obj': None}), 'referenced_control_flow_node_instance_id': None, 'kwargs': {'services': {'Tracking': {'endpoint': 'azureml://southcentralus.api.azureml.ms/mlflow/v1.0/subscriptions/6025ba02-1dfd-407f-b358-88f811c7c7aa/resourceGroups/sc1-ml1/providers/Microsoft.MachineLearningServices/workspaces/sc1ml1?', 'type': 'Tracking'}, 'Studio': {'endpoint': 'https://ml.azure.com/runs/tidy_town_48mg3flkpb?wsid=/subscriptions/6025ba02-1dfd-407f-b358-88f811c7c7aa/resourcegroups/sc1-ml1/workspaces/sc1ml1&tid=16b3c013-d300-468d-ac64-7eda0820b6d3', 'type': 'Studio'}}, 'status': 'Starting', 'creation_context': <azure.ai.ml.entities._system_data.SystemData object at 0x7f1e70559c00>}, 'instance_id': '6fb6861f-f176-4273-bba5-18a5f52548a8', 'source': 'BUILDER', 'validate_required_input_not_provided': True, 'limits': None, 'identity': {'type': 'user_identity'}, 'distribution': None, 'environment_variables': {}, 'environment': 'azureml:AzureML-sklearn-1.0-ubuntu20.04-py38-cpu@latest', 'resources': {'instance_count': 1, 'shm_size': '2g'}, 'queue_settings': None, 'swept': False})",
            "text/html": "<table style=\"width:100%\"><tr><th>Experiment</th><th>Name</th><th>Type</th><th>Status</th><th>Details Page</th></tr><tr><td>adls_read_user_cred</td><td>tidy_town_48mg3flkpb</td><td>command</td><td>Starting</td><td><a href=\"https://ml.azure.com/runs/tidy_town_48mg3flkpb?wsid=/subscriptions/6025ba02-1dfd-407f-b358-88f811c7c7aa/resourcegroups/sc1-ml1/workspaces/sc1ml1&amp;tid=16b3c013-d300-468d-ac64-7eda0820b6d3\" target=\"_blank\" rel=\"noopener\">Link to Azure Machine Learning studio</a></td></tr></table>"
          },
          "metadata": {}
        }
      ],
      "execution_count": 10,
      "metadata": {
        "jupyter": {
          "source_hidden": false,
          "outputs_hidden": false
        },
        "nteract": {
          "transient": {
            "deleting": false
          }
        },
        "gather": {
          "logged": 1709752023291
        }
      }
    },
    {
      "cell_type": "code",
      "source": [],
      "outputs": [],
      "execution_count": null,
      "metadata": {
        "jupyter": {
          "source_hidden": false,
          "outputs_hidden": false
        },
        "nteract": {
          "transient": {
            "deleting": false
          }
        }
      }
    }
  ],
  "metadata": {
    "kernelspec": {
      "name": "python310-sdkv2",
      "language": "python",
      "display_name": "Python 3.10 - SDK v2"
    },
    "language_info": {
      "name": "python",
      "version": "3.10.11",
      "mimetype": "text/x-python",
      "codemirror_mode": {
        "name": "ipython",
        "version": 3
      },
      "pygments_lexer": "ipython3",
      "nbconvert_exporter": "python",
      "file_extension": ".py"
    },
    "microsoft": {
      "ms_spell_check": {
        "ms_spell_check_language": "en"
      },
      "host": {
        "AzureML": {
          "notebookHasBeenCompleted": true
        }
      }
    },
    "kernel_info": {
      "name": "python310-sdkv2"
    },
    "nteract": {
      "version": "nteract-front-end@1.0.0"
    }
  },
  "nbformat": 4,
  "nbformat_minor": 2
}