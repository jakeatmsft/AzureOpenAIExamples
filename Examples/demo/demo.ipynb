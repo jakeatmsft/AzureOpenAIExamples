{
 "cells": [
  {
   "cell_type": "code",
   "execution_count": 33,
   "id": "f9ad1c54-e984-405f-97fc-3ead79ef609e",
   "metadata": {
    "tags": []
   },
   "outputs": [],
   "source": [
    "import os\n",
    "import openai\n",
    "from configparser import ConfigParser\n",
    "\n",
    "parser=ConfigParser()\n",
    "_=parser.read('../config.cfg')\n",
    "openai.api_type = \"azure\"\n",
    "openai.api_base = parser.get('openai_api','api_ep')\n",
    "openai.api_version = \"2022-06-01-preview\"\n",
    "openai.api_key = parser.get('openai_api','api_key')\n",
    "model = parser.get('openai_api','api_model')"
   ]
  },
  {
   "cell_type": "markdown",
   "id": "2db64e65-98f0-4bd5-aa09-89740ef1fe99",
   "metadata": {},
   "source": [
    "### Travel Use Case"
   ]
  },
  {
   "cell_type": "code",
   "execution_count": 34,
   "id": "349cc1f7-006a-4fc7-a5e9-e14c5d17979b",
   "metadata": {
    "tags": []
   },
   "outputs": [
    {
     "name": "stdout",
     "output_type": "stream",
     "text": [
      "Create list of 10 locations to visit with no internet, white sand beaches, no cars and is an island and accessible only by canoe:\n",
      "\n",
      "\n"
     ]
    }
   ],
   "source": [
    "prompt=\"Create list of 10 locations to visit with no internet, white sand beaches, no cars and is an island and accessible only by canoe:\\n\\n\"\n",
    "print(prompt)"
   ]
  },
  {
   "cell_type": "code",
   "execution_count": 35,
   "id": "25a06ac6-d870-4942-b3ea-60a3677adbd4",
   "metadata": {},
   "outputs": [
    {
     "name": "stdout",
     "output_type": "stream",
     "text": [
      "Response:\n",
      "\n",
      "\n",
      "1. The Maldives\n",
      "2. The Bahamas\n",
      "3. Fiji\n",
      "4. Bora Bora\n",
      "5. The Seychelles\n",
      "6. Palawan, Philippines\n",
      "7. The British Virgin Islands\n",
      "8. The Cook Islands\n",
      "9. Maldives\n",
      "10. Easter Island\n"
     ]
    }
   ],
   "source": [
    "response = openai.Completion.create(  engine=model,  prompt=prompt, temperature=.5,  max_tokens=100,  top_p=0.5,  frequency_penalty=0,  presence_penalty=0,  stop=None)\n",
    "\n",
    "print('Response:')\n",
    "print(response['choices'][0]['text'])\n"
   ]
  },
  {
   "cell_type": "markdown",
   "id": "dbabd58c-67b0-4739-9bd9-ac1d8251d151",
   "metadata": {},
   "source": [
    "### Table Use Case"
   ]
  },
  {
   "cell_type": "code",
   "execution_count": 36,
   "id": "842f6723-e49c-41ea-a5d9-9af59b21e220",
   "metadata": {},
   "outputs": [
    {
     "name": "stdout",
     "output_type": "stream",
     "text": [
      "Stock Performance Table:\n",
      "Date,Symbol,Adj Close,Close,High,Low,Open,Volume\n",
      "2009-12-31,MMM,,,,,,\n",
      "2010-01-04,MMM,59.318885803222656,83.0199966430664,83.44999694824219,82.66999816894531,83.08999633789062,3043700.0\n",
      "2010-01-05,MMM,58.94734191894531,82.5,83.2300033569336,81.69999694824219,82.80000305175781,2847000.0\n",
      "2010-01-06,MMM,59.783294677734375,83.66999816894531,84.5999984741211,83.51000213623047,83.87999725341797,5268500.0\n",
      "2010-01-07,MMM,59.826175689697266,83.7300033569336,83.76000213623047,82.12000274658203,83.31999969482422,4470100.0\n",
      "2010-01-08,MMM,60.24774932861328,84.31999969482422,84.31999969482422,83.30000305175781,83.69000244140625,3405800.0\n",
      "2010-01-11,MMM,60.004825592041016,83.9800033569336,84.5999984741211,83.41000366210938,84.37999725341797,2927100.0\n",
      "2010-01-12,MMM,60.05484390258789,84.05000305175781,84.18000030517578,83.30000305175781,83.58000183105469,3031800.0\n",
      "2010-01-13,MMM,59.861942291259766,83.77999877929688,84.11000061035156,83.19999694824219,84.11000061035156,3102000.0\n",
      "2010-01-14,MMM,59.661865234375,83.5,83.93000030517578,83.41999816894531,83.73999786376953,2634100.0\n",
      "2010-01-15,MMM,59.56898880004883,83.37000274658203,84.08999633789062,82.87000274658203,83.5199966430664,3955000.0\n",
      "2010-01-19,MMM,60.819358825683594,85.12000274658203,85.16999816894531,83.5,83.81999969482422,4500400.0\n",
      "2010-01-20,MMM,60.5335578918457,84.72000122070312,85.12999725341797,83.58999633789062,84.83000183105469,3671200.0\n",
      "2010-01-21,MMM,59.090240478515625,82.69999694824219,84.5999984741211,82.56999969482422,84.5999984741211,4783200.0\n",
      "2010-01-22,MMM,58.218544006347656,81.4800033569336,82.83000183105469,81.30000305175781,82.4000015258789,4809000.0\n",
      "2010-01-25,MMM,58.4686164855957,81.83000183105469,82.88999938964844,81.4800033569336,82.33000183105469,3386600.0\n",
      "2010-01-26,MMM,58.32571792602539,81.62999725341797,82.7300033569336,81.04000091552734,81.45999908447266,3138000.0\n",
      "2010-01-27,MMM,58.80441665649414,82.30000305175781,82.83999633789062,81.01000213623047,81.33000183105469,5066900.0\n",
      "2010-01-28,MMM,57.69694519042969,80.75,82.63999938964844,79.11000061035156,82.62000274658203,6820700.0\n",
      "2010-01-29,MMM,57.51118087768555,80.48999786376953,81.87999725341797,80.18000030517578,81.3499984741211,4347000.0\n",
      "2010-02-01,MMM,57.47545623779297,80.44000244140625,80.88999938964844,79.94000244140625,80.83999633789062,3632700.0\n",
      "2010-02-02,MMM,57.46830368041992,80.43000030517578,80.94000244140625,79.69999694824219,80.69999694824219,4690000.0\n",
      "2010-02-03,MMM,58.23284912109375,81.5,81.68000030517578,79.83000183105469,79.83000183105469,3401300.0\n",
      "2010-02-04,MMM,56.59660720825195,79.20999908447266,81.12999725341797,78.83000183105469,81.12999725341797,5312600.0\n",
      "2010-02-05,MMM,56.11787796020508,78.54000091552734,79.5,77.26000213623047,79.16000366210938,5408000.0\n",
      "2010-02-08,MMM,55.39621353149414,77.52999877929688,78.4800033569336,77.25,78.4800033569336,4407300.0\n",
      "2010-02-09,MMM,56.246490478515625,78.72000122070312,79.41000366210938,77.9000015258789,78.27999877929688,4252500.0\n",
      "2010-02-10,MMM,56.175025939941406,78.62000274658203,79.29000091552734,78.0,78.80000305175781,2445200.0\n",
      "2010-02-11,MMM,57.35396194458008,80.2699966430664,80.38999938964844,78.83999633789062,79.22000122070312,5524500.0\n",
      "2010-02-12,MMM,56.575157165527344,79.18000030517578,79.2300033569336,78.06999969482422,79.13999938964844,5443000.0\n",
      "2010-02-16,MMM,57.496891021728516,80.47000122070312,80.63999938964844,79.33999633789062,80.08000183105469,3619100.0\n",
      "2010-02-17,MMM,57.63711929321289,80.13999938964844,80.69000244140625,79.73999786376953,80.41999816894531,3095200\n",
      "\n"
     ]
    }
   ],
   "source": [
    "stock_prompt=\"Stock Performance Table:\\nDate,Symbol,Adj Close,Close,High,Low,Open,Volume\\n2009-12-31,MMM,,,,,,\\n2010-01-04,MMM,59.318885803222656,83.0199966430664,83.44999694824219,82.66999816894531,83.08999633789062,3043700.0\\n2010-01-05,MMM,58.94734191894531,82.5,83.2300033569336,81.69999694824219,82.80000305175781,2847000.0\\n2010-01-06,MMM,59.783294677734375,83.66999816894531,84.5999984741211,83.51000213623047,83.87999725341797,5268500.0\\n2010-01-07,MMM,59.826175689697266,83.7300033569336,83.76000213623047,82.12000274658203,83.31999969482422,4470100.0\\n2010-01-08,MMM,60.24774932861328,84.31999969482422,84.31999969482422,83.30000305175781,83.69000244140625,3405800.0\\n2010-01-11,MMM,60.004825592041016,83.9800033569336,84.5999984741211,83.41000366210938,84.37999725341797,2927100.0\\n2010-01-12,MMM,60.05484390258789,84.05000305175781,84.18000030517578,83.30000305175781,83.58000183105469,3031800.0\\n2010-01-13,MMM,59.861942291259766,83.77999877929688,84.11000061035156,83.19999694824219,84.11000061035156,3102000.0\\n2010-01-14,MMM,59.661865234375,83.5,83.93000030517578,83.41999816894531,83.73999786376953,2634100.0\\n2010-01-15,MMM,59.56898880004883,83.37000274658203,84.08999633789062,82.87000274658203,83.5199966430664,3955000.0\\n2010-01-19,MMM,60.819358825683594,85.12000274658203,85.16999816894531,83.5,83.81999969482422,4500400.0\\n2010-01-20,MMM,60.5335578918457,84.72000122070312,85.12999725341797,83.58999633789062,84.83000183105469,3671200.0\\n2010-01-21,MMM,59.090240478515625,82.69999694824219,84.5999984741211,82.56999969482422,84.5999984741211,4783200.0\\n2010-01-22,MMM,58.218544006347656,81.4800033569336,82.83000183105469,81.30000305175781,82.4000015258789,4809000.0\\n2010-01-25,MMM,58.4686164855957,81.83000183105469,82.88999938964844,81.4800033569336,82.33000183105469,3386600.0\\n2010-01-26,MMM,58.32571792602539,81.62999725341797,82.7300033569336,81.04000091552734,81.45999908447266,3138000.0\\n2010-01-27,MMM,58.80441665649414,82.30000305175781,82.83999633789062,81.01000213623047,81.33000183105469,5066900.0\\n2010-01-28,MMM,57.69694519042969,80.75,82.63999938964844,79.11000061035156,82.62000274658203,6820700.0\\n2010-01-29,MMM,57.51118087768555,80.48999786376953,81.87999725341797,80.18000030517578,81.3499984741211,4347000.0\\n2010-02-01,MMM,57.47545623779297,80.44000244140625,80.88999938964844,79.94000244140625,80.83999633789062,3632700.0\\n2010-02-02,MMM,57.46830368041992,80.43000030517578,80.94000244140625,79.69999694824219,80.69999694824219,4690000.0\\n2010-02-03,MMM,58.23284912109375,81.5,81.68000030517578,79.83000183105469,79.83000183105469,3401300.0\\n2010-02-04,MMM,56.59660720825195,79.20999908447266,81.12999725341797,78.83000183105469,81.12999725341797,5312600.0\\n2010-02-05,MMM,56.11787796020508,78.54000091552734,79.5,77.26000213623047,79.16000366210938,5408000.0\\n2010-02-08,MMM,55.39621353149414,77.52999877929688,78.4800033569336,77.25,78.4800033569336,4407300.0\\n2010-02-09,MMM,56.246490478515625,78.72000122070312,79.41000366210938,77.9000015258789,78.27999877929688,4252500.0\\n2010-02-10,MMM,56.175025939941406,78.62000274658203,79.29000091552734,78.0,78.80000305175781,2445200.0\\n2010-02-11,MMM,57.35396194458008,80.2699966430664,80.38999938964844,78.83999633789062,79.22000122070312,5524500.0\\n2010-02-12,MMM,56.575157165527344,79.18000030517578,79.2300033569336,78.06999969482422,79.13999938964844,5443000.0\\n2010-02-16,MMM,57.496891021728516,80.47000122070312,80.63999938964844,79.33999633789062,80.08000183105469,3619100.0\\n2010-02-17,MMM,57.63711929321289,80.13999938964844,80.69000244140625,79.73999786376953,80.41999816894531,3095200\\n\"\n",
    "\n",
    "print(stock_prompt)"
   ]
  },
  {
   "cell_type": "code",
   "execution_count": 37,
   "id": "c681c408-f0cf-49a0-bb4f-a19464fc5c22",
   "metadata": {},
   "outputs": [
    {
     "name": "stdout",
     "output_type": "stream",
     "text": [
      "Response:\n",
      "\n",
      "\n",
      "MMM closed at 84.72000122070312 on 2010-01-20.\n"
     ]
    }
   ],
   "source": [
    "prompt = \"{}\\n{}\".format(stock_prompt,'What did MMM close on 2010-01-20?')\n",
    "\n",
    "response = openai.Completion.create( engine=model,  prompt=prompt, temperature=1,  max_tokens=100,  top_p=0.5,  frequency_penalty=0,  presence_penalty=0,  stop=None)\n",
    "\n",
    "print('Response:')\n",
    "print(response['choices'][0]['text'])\n"
   ]
  },
  {
   "cell_type": "code",
   "execution_count": 38,
   "id": "3d5fef28-366b-4135-90b7-498983c72b4b",
   "metadata": {},
   "outputs": [
    {
     "name": "stdout",
     "output_type": "stream",
     "text": [
      "Response:\n",
      "\n",
      "\n",
      "The average adj price of MMM in January 2010 was 59.826175689697266.\n"
     ]
    }
   ],
   "source": [
    "prompt = \"{}\\n{}\".format(stock_prompt,'What was the average adj price of MMM in January 2010?')\n",
    "\n",
    "response = openai.Completion.create( engine=model, prompt=prompt, temperature=.5,  max_tokens=100,  top_p=0.5,  frequency_penalty=0,  presence_penalty=0,  stop=None)\n",
    "\n",
    "print('Response:')\n",
    "print(response['choices'][0]['text'])\n"
   ]
  },
  {
   "cell_type": "code",
   "execution_count": 39,
   "id": "b3eab545-2da0-4267-847c-59cf8d6977e2",
   "metadata": {},
   "outputs": [
    {
     "name": "stdout",
     "output_type": "stream",
     "text": [
      "import pandas\n",
      "// The following input csv has the following columns: Date,Symbol,Adj Close,Close,High,Low,Open,Volume\n",
      "// write a python script to:\n",
      "// 1. load the variable stock_prompt csv into a dataframe \n",
      "// 2. compute the 4 day moving average for columns [Adj Close,Close,High,Low,Open,Volume] across all dates\n",
      "\n",
      "\n"
     ]
    }
   ],
   "source": [
    "code_prompt=\"import pandas\\n// The following input csv has the following columns: Date,Symbol,Adj Close,Close,High,Low,Open,Volume\\n// write a python script to:\\n// 1. load the variable stock_prompt csv into a dataframe \\n// 2. compute the 4 day moving average for columns [Adj Close,Close,High,Low,Open,Volume] across all dates\\n\\n\"\n",
    "print(code_prompt)"
   ]
  },
  {
   "cell_type": "code",
   "execution_count": 40,
   "id": "c78f6fe0-810b-48ad-854c-ddaa2cc30d42",
   "metadata": {},
   "outputs": [
    {
     "name": "stdout",
     "output_type": "stream",
     "text": [
      "\n",
      "\n",
      "import pandas as pd\n",
      "\n",
      "stock_prompt = pd.read_csv('stock_prompt.csv')\n",
      "\n",
      "stock_prompt['Adj Close 4 Day MA'] = stock_prompt['Adj Close'].rolling(window=4).mean()\n",
      "stock_prompt['Close 4 Day MA'] = stock_prompt['Close'].rolling(window=4).mean()\n",
      "stock_prompt['High 4 Day MA'] = stock_prompt['High'].rolling(window=4).mean()\n",
      "stock_prompt['Low 4 Day MA'] = stock_prompt['Low'].rolling(window=4).mean()\n",
      "stock_prompt['Open 4 Day MA'] = stock_prompt['Open'].rolling(window=4).mean()\n",
      "stock_prompt['Volume 4 Day MA'] = stock_prompt['Volume'].rolling(window=4).mean()\n",
      "\n",
      "print(stock_prompt)\n"
     ]
    }
   ],
   "source": [
    "response = openai.Completion.create(\n",
    "  engine=model,  prompt = code_prompt,  temperature=0,  max_tokens=300,  top_p=1,  frequency_penalty=0,  presence_penalty=0,  stop=[\"#\",\";\"]\n",
    ")\n",
    "\n",
    "print(response['choices'][0]['text'])"
   ]
  },
  {
   "cell_type": "code",
   "execution_count": 41,
   "id": "8620462a-bb55-4b13-9349-2e281b84a7e9",
   "metadata": {},
   "outputs": [
    {
     "name": "stdout",
     "output_type": "stream",
     "text": [
      "          Date Symbol  Adj Close      Close       High        Low       Open  \\\n",
      "0   2009-12-31    MMM        NaN        NaN        NaN        NaN        NaN   \n",
      "1   2010-01-04    MMM  59.318886  83.019997  83.449997  82.669998  83.089996   \n",
      "2   2010-01-05    MMM  58.947342  82.500000  83.230003  81.699997  82.800003   \n",
      "3   2010-01-06    MMM  59.783295  83.669998  84.599998  83.510002  83.879997   \n",
      "4   2010-01-07    MMM  59.826176  83.730003  83.760002  82.120003  83.320000   \n",
      "5   2010-01-08    MMM  60.247749  84.320000  84.320000  83.300003  83.690002   \n",
      "6   2010-01-11    MMM  60.004826  83.980003  84.599998  83.410004  84.379997   \n",
      "7   2010-01-12    MMM  60.054844  84.050003  84.180000  83.300003  83.580002   \n",
      "8   2010-01-13    MMM  59.861942  83.779999  84.110001  83.199997  84.110001   \n",
      "9   2010-01-14    MMM  59.661865  83.500000  83.930000  83.419998  83.739998   \n",
      "10  2010-01-15    MMM  59.568989  83.370003  84.089996  82.870003  83.519997   \n",
      "11  2010-01-19    MMM  60.819359  85.120003  85.169998  83.500000  83.820000   \n",
      "12  2010-01-20    MMM  60.533558  84.720001  85.129997  83.589996  84.830002   \n",
      "13  2010-01-21    MMM  59.090240  82.699997  84.599998  82.570000  84.599998   \n",
      "14  2010-01-22    MMM  58.218544  81.480003  82.830002  81.300003  82.400002   \n",
      "15  2010-01-25    MMM  58.468616  81.830002  82.889999  81.480003  82.330002   \n",
      "16  2010-01-26    MMM  58.325718  81.629997  82.730003  81.040001  81.459999   \n",
      "17  2010-01-27    MMM  58.804417  82.300003  82.839996  81.010002  81.330002   \n",
      "18  2010-01-28    MMM  57.696945  80.750000  82.639999  79.110001  82.620003   \n",
      "19  2010-01-29    MMM  57.511181  80.489998  81.879997  80.180000  81.349998   \n",
      "20  2010-02-01    MMM  57.475456  80.440002  80.889999  79.940002  80.839996   \n",
      "21  2010-02-02    MMM  57.468304  80.430000  80.940002  79.699997  80.699997   \n",
      "22  2010-02-03    MMM  58.232849  81.500000  81.680000  79.830002  79.830002   \n",
      "23  2010-02-04    MMM  56.596607  79.209999  81.129997  78.830002  81.129997   \n",
      "24  2010-02-05    MMM  56.117878  78.540001  79.500000  77.260002  79.160004   \n",
      "25  2010-02-08    MMM  55.396214  77.529999  78.480003  77.250000  78.480003   \n",
      "26  2010-02-09    MMM  56.246490  78.720001  79.410004  77.900002  78.279999   \n",
      "27  2010-02-10    MMM  56.175026  78.620003  79.290001  78.000000  78.800003   \n",
      "28  2010-02-11    MMM  57.353962  80.269997  80.389999  78.839996  79.220001   \n",
      "29  2010-02-12    MMM  56.575157  79.180000  79.230003  78.070000  79.139999   \n",
      "30  2010-02-16    MMM  57.496891  80.470001  80.639999  79.339996  80.080002   \n",
      "31  2010-02-17    MMM  57.637119  80.139999  80.690002  79.739998  80.419998   \n",
      "\n",
      "       Volume  Adj Close 4 Day MA  Close 4 Day MA  High 4 Day MA  \\\n",
      "0         NaN                 NaN             NaN            NaN   \n",
      "1   3043700.0                 NaN             NaN            NaN   \n",
      "2   2847000.0                 NaN             NaN            NaN   \n",
      "3   5268500.0                 NaN             NaN            NaN   \n",
      "4   4470100.0           59.468925       83.230000      83.760000   \n",
      "5   3405800.0           59.701140       83.555000      83.977501   \n",
      "6   2927100.0           59.965511       83.925001      84.320000   \n",
      "7   3031800.0           60.033399       84.020002      84.215000   \n",
      "8   3102000.0           60.042340       84.032501      84.302500   \n",
      "9   2634100.0           59.895869       83.827501      84.205000   \n",
      "10  3955000.0           59.786910       83.675001      84.077499   \n",
      "11  4500400.0           59.978039       83.942501      84.324999   \n",
      "12  3671200.0           60.145943       84.177502      84.579998   \n",
      "13  4783200.0           60.003036       83.977501      84.747498   \n",
      "14  4809000.0           59.665425       83.505001      84.432499   \n",
      "15  3386600.0           59.077740       82.682501      83.862499   \n",
      "16  3138000.0           58.525780       81.910000      83.262501   \n",
      "17  5066900.0           58.454324       81.810001      82.822500   \n",
      "18  6820700.0           58.323924       81.627501      82.775000   \n",
      "19  4347000.0           58.084565       81.292500      82.522499   \n",
      "20  3632700.0           57.872000       80.995001      82.062498   \n",
      "21  4690000.0           57.537971       80.527500      81.587500   \n",
      "22  3401300.0           57.671947       80.715000      81.347500   \n",
      "23  5312600.0           57.443304       80.395000      81.160000   \n",
      "24  5408000.0           57.103909       79.920000      80.812500   \n",
      "25  4407300.0           56.585887       79.195000      80.197500   \n",
      "26  4252500.0           56.089297       78.500000      79.630001   \n",
      "27  2445200.0           55.983902       78.352501      79.170002   \n",
      "28  5524500.0           56.292923       78.785000      79.392502   \n",
      "29  5443000.0           56.587659       79.197500      79.580002   \n",
      "30  3619100.0           56.900259       79.635000      79.887501   \n",
      "31  3095200.0           57.265782       80.014999      80.237501   \n",
      "\n",
      "    Low 4 Day MA  Open 4 Day MA  Volume 4 Day MA  \n",
      "0            NaN            NaN              NaN  \n",
      "1            NaN            NaN              NaN  \n",
      "2            NaN            NaN              NaN  \n",
      "3            NaN            NaN              NaN  \n",
      "4      82.500000      83.272499        3907325.0  \n",
      "5      82.657501      83.422501        3997850.0  \n",
      "6      83.085003      83.817499        4017875.0  \n",
      "7      83.032503      83.742500        3458700.0  \n",
      "8      83.302502      83.940001        3116675.0  \n",
      "9      83.332500      83.952499        2923750.0  \n",
      "10     83.197500      83.737499        3180725.0  \n",
      "11     83.247499      83.797499        3547875.0  \n",
      "12     83.344999      83.977499        3690175.0  \n",
      "13     83.132500      84.192499        4227450.0  \n",
      "14     82.740000      83.912500        4440950.0  \n",
      "15     82.235001      83.540001        4162500.0  \n",
      "16     81.597502      82.697500        4029200.0  \n",
      "17     81.207502      81.880001        4100125.0  \n",
      "18     80.660002      81.935001        4603050.0  \n",
      "19     80.335001      81.690001        4843150.0  \n",
      "20     80.060001      81.535000        4966825.0  \n",
      "21     79.732500      81.377499        4872600.0  \n",
      "22     79.912500      80.679998        4017750.0  \n",
      "23     79.575001      80.624998        4259150.0  \n",
      "24     78.905001      80.205000        4702975.0  \n",
      "25     78.292501      79.650002        4632300.0  \n",
      "26     77.810001      79.262501        4845100.0  \n",
      "27     77.602501      78.680002        4128250.0  \n",
      "28     77.997499      78.695002        4157375.0  \n",
      "29     78.202499      78.860001        4416300.0  \n",
      "30     78.562498      79.310001        4257950.0  \n",
      "31     78.997498      79.715000        4420450.0  \n"
     ]
    }
   ],
   "source": [
    "### Code From Previous Cell ###\n",
    "\n",
    "import pandas as pd\n",
    "\n",
    "stock_prompt = pd.read_csv('stock_prompt.csv')\n",
    "\n",
    "stock_prompt['Adj Close 4 Day MA'] = stock_prompt['Adj Close'].rolling(window=4).mean()\n",
    "stock_prompt['Close 4 Day MA'] = stock_prompt['Close'].rolling(window=4).mean()\n",
    "stock_prompt['High 4 Day MA'] = stock_prompt['High'].rolling(window=4).mean()\n",
    "stock_prompt['Low 4 Day MA'] = stock_prompt['Low'].rolling(window=4).mean()\n",
    "stock_prompt['Open 4 Day MA'] = stock_prompt['Open'].rolling(window=4).mean()\n",
    "stock_prompt['Volume 4 Day MA'] = stock_prompt['Volume'].rolling(window=4).mean()\n",
    "\n",
    "print(stock_prompt)\n"
   ]
  },
  {
   "cell_type": "markdown",
   "id": "5a9ed3f0-ead8-41df-9529-3411fdbdcf83",
   "metadata": {},
   "source": [
    "### Contract Use Case"
   ]
  },
  {
   "cell_type": "code",
   "execution_count": 44,
   "id": "7b74e668-25be-44d6-9389-bb3aa29cc5f7",
   "metadata": {},
   "outputs": [],
   "source": [
    "contract_prompt = 'Definitions: I agree to, acknowledge, and represent the following: • \"Lender\" includes the Lender’s agents, service providers, and any of their successors and assigns. • \"Other Loan Participants\" includes (i) any actual or potential owners of a loan resulting from this application (the “Loan”), (ii) acquirers of any beneficial or other interest in the Loan, (iii) any mortgage insurer, (iv) any guarantor, (v) any servicer of the Loan, and (vi) any of these parties service providers, successors or assigns. (1) The Complete Information for this Application • The information I have provided in this application is true, accurate, and complete as of the date I signed this application. • If the information I submitted changes or I have new information before closing of the Loan, I must change and supplement this application, including providing any updated/supplemented real estate sales contract. • For purchase transactions: The terms and conditions of any real estate sales contract signed by me in connection with this application are true, accurate, and complete to the best of my knowledge and belief. I have not entered into any other agreement, written or oral, in connection with this real estate transaction. • The Lender and Other Loan Participants may rely on the information contained in the application before and after closing of the Loan. • Any intentional or negligent misrepresentation of information may result in the imposition of: (a) civil liability on me, including monetary damages, if a person suffers any loss because the person relied on any misrepresentation that I have made on this application, and/or (b) criminal penalties on me including, but not limited to, fine or imprisonment or both under the provisions of Federal law (18 U.S.C. §§ 1001 et seq.). (2) The Property’s Security The Loan I have applied for in this application will be secured by a mortgage or deed of trust which provides the Lender a security interest in the property described in this application. (3) The Property’s Appraisal, Value, and Condition • Any appraisal or value of the property obtained by the Lender is for use by the Lender and Other Loan Participants. • The Lender and Other Loan Participants have not made any representation or warranty, express or implied, to me about the property, its condition, or its value. (4) Electronic Records and Signatures • The Lender and Other Loan Participants may keep any paper record and/or electronic record of this application, whether or not the Loan is approved. • If this application is created as (or converted into) an “electronic application”, I consent to the use of “electronic records” and “electronic signatures” as the terms are defined in and governed by applicable Federal and/or state electronic transactions laws. • I intend to sign and have signed this application either using my: (a) electronic signature; or (b) a written signature and agree that if a paper version of this application is converted into an electronic application, the application will be an electronic record, and the representation of my written signature on this application will be my binding electronic signature. • I agree that the application, if delivered or transmitted to the Lender or Other Loan Participants as an electronic record with my electronic signature, will be as effective and enforceable as a paper application signed by me in writing. (5) Delinquency • The Lender and Other Loan Participants may report information about my account to credit bureaus. Late payments, missed payments, or other defaults on my account may be reflected in my credit report and will likely affect my credit score. • If I have trouble making my payments I understand that I may contact a HUD-approved housing counseling organization for advice about actions I can take to meet my mortgage obligations. (6) Authorization for Use and Sharing of Information By signing below, in addition to the representations and agreements made above, I expressly authorize the Lender and Other Loan Participants to obtain, use, and share with each other (i) the loan application and related loan information and documentation, (ii) a consumer credit report on me, and (iii) my tax return information, as necessary to perform the actions listed below, for so long as they have an interest in my loan or its servicing: (a) process and underwrite my loan; (b) verify any data contained in my consumer credit report, my loan application and other information supporting my loan application; (c) inform credit and investment decisions by the Lender and Other Loan Participants; (d) perform audit, quality control, and legal compliance analysis and reviews; (e) perform analysis and modeling for risk assessments; (f) monitor the account for this loan for potential delinquencies and determine any assistance that may be available to me; and (g) other actions permissible under applicable law.'\n",
    "#print(contract_prompt)"
   ]
  },
  {
   "cell_type": "code",
   "execution_count": 45,
   "id": "6057ee32-c034-4042-b7b5-b4280183e1ee",
   "metadata": {},
   "outputs": [
    {
     "name": "stdout",
     "output_type": "stream",
     "text": [
      "Response:\n",
      "\n",
      "\n",
      "If you miss a payment, the lender may report this to the credit bureaus, which could negatively impact your credit score. The lender may also charge a late fee. If you have trouble making your payments, you may contact a HUD-approved housing counseling organization for advice about actions you can take to meet your mortgage obligations.\n"
     ]
    }
   ],
   "source": [
    "prompt = \"{}\\n{}\".format(contract_prompt,'What happens if I miss a payment?')\n",
    "\n",
    "response = openai.Completion.create( engine=model,  prompt=prompt,  temperature=.75,  max_tokens=200,  top_p=0.5,  frequency_penalty=0,  presence_penalty=0,  stop=None)\n",
    "\n",
    "print('Response:')\n",
    "print(response['choices'][0]['text'])\n"
   ]
  },
  {
   "cell_type": "code",
   "execution_count": 46,
   "id": "59c3ebf3-c80f-48c9-a364-3760b0ef3865",
   "metadata": {},
   "outputs": [
    {
     "name": "stdout",
     "output_type": "stream",
     "text": [
      "Response:\n",
      "\n",
      "\n",
      "The lender can use your information to process and underwrite your loan, verify data in your credit report, inform credit and investment decisions, perform audits and reviews, and monitor your account for potential delinquencies.\n"
     ]
    }
   ],
   "source": [
    "prompt = \"{}\\n{}\".format(contract_prompt,'What can the lender do with my information?')\n",
    "response = openai.Completion.create( engine=model,  prompt=prompt,  temperature=.75,  max_tokens=200,  top_p=0.5,  frequency_penalty=0,  presence_penalty=0,  stop=None)\n",
    "\n",
    "print('Response:')\n",
    "print(response['choices'][0]['text'])"
   ]
  },
  {
   "cell_type": "markdown",
   "id": "5a0c6b1e-52f0-441b-b721-a77feab9e86f",
   "metadata": {},
   "source": [
    "### Call Use Case"
   ]
  },
  {
   "cell_type": "code",
   "execution_count": 47,
   "id": "6df3a367-6a6b-4abe-8fce-a2124e55ebbf",
   "metadata": {},
   "outputs": [
    {
     "name": "stdout",
     "output_type": "stream",
     "text": [
      "Transcript:Hi, how's it going? Yes, I've been looking at My Portfolio and. Yeah, the performance has been underperforming. It's just been bad. It's been underperforming all the major indexes. And I just want to know what you have me into. Yes, this is John Doe, yes ending in 7243. Ok yea can we keep going? Well, what's the outlook for the next five years? Because, um, I'm, you know? Looking to get this turned around. I know we're in a recession, but. I barely holding cash right now. Well, I mean, what about low risk will we have for that? You know, to be honest, I'd, I'd I'd be into looking at, um, bonds or or. I mean, my target date funds are killing me right now. I don't know what's gonna happen there. OK. Yeah, what can we do? I mean, I. I think I need some cash soon. Um plan to make a big purchase where, where can we realize the losses? Alright, Yep, just sell it. Yeah, just find me somewhere. I need about 200 grand. I I just need to make it happen. Alright, thanks. Bye.\n"
     ]
    }
   ],
   "source": [
    "call_prompt= \"Transcript:Hi, how's it going? Yes, I've been looking at My Portfolio and. Yeah, the performance has been underperforming. It's just been bad. It's been underperforming all the major indexes. And I just want to know what you have me into. Yes, this is John Doe, yes ending in 7243. Ok yea can we keep going? Well, what's the outlook for the next five years? Because, um, I'm, you know? Looking to get this turned around. I know we're in a recession, but. I barely holding cash right now. Well, I mean, what about low risk will we have for that? You know, to be honest, I'd, I'd I'd be into looking at, um, bonds or or. I mean, my target date funds are killing me right now. I don't know what's gonna happen there. OK. Yeah, what can we do? I mean, I. I think I need some cash soon. Um plan to make a big purchase where, where can we realize the losses? Alright, Yep, just sell it. Yeah, just find me somewhere. I need about 200 grand. I I just need to make it happen. Alright, thanks. Bye.\"\n",
    "print(call_prompt)"
   ]
  },
  {
   "cell_type": "code",
   "execution_count": 48,
   "id": "adb77820-4586-402d-a434-13c556eeeec5",
   "metadata": {},
   "outputs": [
    {
     "name": "stdout",
     "output_type": "stream",
     "text": [
      "Response:\n",
      "\n",
      "- Client is John Doe, ending in 7243\n",
      "- Client is concerned about the performance of their portfolio, which has underperformed the market\n",
      "- Client would like to know the outlook for the next five years and what, if any, low-risk options are available\n",
      "- Client plans to make a large purchase and needs to raise cash soon\n",
      "- Client is advised to sell some investments to raise the cash needed\n"
     ]
    }
   ],
   "source": [
    "prompt = \"Generate detailed call summary notes from text\\nText:\\n###{}###\\n\".format(call_prompt)\n",
    "response = openai.Completion.create( engine=model,  prompt=prompt,  temperature=.75,  max_tokens=200,  top_p=0.5,  frequency_penalty=0,  presence_penalty=0,  stop=None)\n",
    "\n",
    "print('Response:')\n",
    "print(response['choices'][0]['text'])"
   ]
  },
  {
   "cell_type": "code",
   "execution_count": 49,
   "id": "0a9eaeca-1f48-4310-af68-e063f1016719",
   "metadata": {},
   "outputs": [
    {
     "name": "stdout",
     "output_type": "stream",
     "text": [
      "Response:\n",
      "\n",
      "-The person's portfolio is underperforming\n",
      "-The person is looking for a 5 year outlook\n",
      "-The person is asking about low risk options\n",
      "-The person is asking about selling their portfolio\n"
     ]
    }
   ],
   "source": [
    "prompt = \"Generate list of topics discussed from text\\nText:\\n###{}###\\n\".format(call_prompt)\n",
    "response = openai.Completion.create( engine=model,  prompt=prompt,  temperature=.5,  max_tokens=200,  top_p=0.5,  frequency_penalty=0,  presence_penalty=0,  stop=None)\n",
    "\n",
    "print('Response:')\n",
    "print(response['choices'][0]['text'])"
   ]
  },
  {
   "cell_type": "code",
   "execution_count": 31,
   "id": "d3e92ce0-c7fe-465f-945e-56fbb48d8260",
   "metadata": {},
   "outputs": [
    {
     "name": "stdout",
     "output_type": "stream",
     "text": [
      "Response:\n",
      "\n",
      "-Investigate why portfolio is underperforming\n",
      "-Determine if client should sell assets to raise cash\n",
      "-Recommend low risk investments for client\n",
      "-Monitor client's portfolio and make adjustments as needed\n"
     ]
    }
   ],
   "source": [
    "prompt = \"Generate list of follow-up tasks from text\\nText:\\n###{}###\\n\".format(call_prompt)\n",
    "response = openai.Completion.create( engine=model,  prompt=prompt,  temperature=.5,  max_tokens=200,  top_p=0.5,  frequency_penalty=0,  presence_penalty=0,  stop=None)\n",
    "\n",
    "print('Response:')\n",
    "print(response['choices'][0]['text'])"
   ]
  },
  {
   "cell_type": "code",
   "execution_count": 58,
   "id": "b6797a03-3493-42b2-a082-42c3f9d83aa7",
   "metadata": {},
   "outputs": [
    {
     "name": "stdout",
     "output_type": "stream",
     "text": [
      "Response:\n",
      "\n",
      "The caller was verified by the agent by asking for their name, John Doe, and their account number, ending in 7243.\n"
     ]
    }
   ],
   "source": [
    "prompt = \"List how caller was verified by agent from text\\nText:\\n###{}###\\n\".format(call_prompt)\n",
    "response = openai.Completion.create( engine=model,  prompt=prompt,  temperature=.5,  max_tokens=200,  top_p=0.5,  frequency_penalty=0,  presence_penalty=0,  stop=None)\n",
    "\n",
    "print('Response:')\n",
    "print(response['choices'][0]['text'])"
   ]
  },
  {
   "cell_type": "markdown",
   "id": "228aface-60e4-40b1-91ff-673af67270b0",
   "metadata": {},
   "source": [
    "### Disgruntled Call Use Case"
   ]
  },
  {
   "cell_type": "code",
   "execution_count": 59,
   "id": "df5543d4-1f2f-4fd2-9f85-c7bc48d21c0f",
   "metadata": {},
   "outputs": [
    {
     "name": "stdout",
     "output_type": "stream",
     "text": [
      "Transcript: Finally I got I get through to somebody on the other end. I've been going through your automated call tree here for about 5 minutes and punching buttons and I finally get through to the human being. It's about time you guys are wasting my time. No, I you know, I am so ****** *** at at your company. I bought my device I plugged it in and smoke started coming out of it and I tried to call you to get a refund or a replacement and it takes me nearly 10 minutes just to get through to a human being. This is absolutely brutal. Can't believe you guys are still in business. Yeah, it's the model, uh, model 128. Yep, uh, my office is covered in soot and the dogs running around chasing its tail and that was pretty, pretty bad. I need the device because I train for a triathlon. Ohh. Ohh, you might triathlon as well. Ohh really. Well, how far do you run? And what about the swimming? All good and we're kind of a bike, do you have? Road bike. Ohh OK. Yeah, now I've been training for about. About two months now. Yeah. Male OK, yeah, it's the dog. Seems to have settled down and I can probably wipe up the smoothie. OK. Well, what are my options? OK, you think they you think the better? The Model 993 is better. Alright. Well, sure, if you want to send me out one of those and uh. Ah, and I guess I'll just. Throw the other one out. Well, I guess this stuff happens, yeah? Or you're gonna you're gonna FedEx it to me. Tomorrow? Well, that's so that's pretty good. Well, no, I appreciate it and I'm sorry I was yelling at you. I guess it's not your fault. Yep. No that's a good day. I appreciate it. You've uh you've helped me out here and I'm I'm pretty thankful. So yeah thank you for your your time and thanks for helping me out here and. I appreciate you getting getting this thing sorted out pretty fast. Yep. Well, thanks. Yeah. And good luck with your next race as well. Yep. Thank you so much. \n"
     ]
    }
   ],
   "source": [
    "call2_prompt=\"Transcript: Finally I got I get through to somebody on the other end. I've been going through your automated call tree here for about 5 minutes and punching buttons and I finally get through to the human being. It's about time you guys are wasting my time. No, I you know, I am so ****** *** at at your company. I bought my device I plugged it in and smoke started coming out of it and I tried to call you to get a refund or a replacement and it takes me nearly 10 minutes just to get through to a human being. This is absolutely brutal. Can't believe you guys are still in business. Yeah, it's the model, uh, model 128. Yep, uh, my office is covered in soot and the dogs running around chasing its tail and that was pretty, pretty bad. I need the device because I train for a triathlon. Ohh. Ohh, you might triathlon as well. Ohh really. Well, how far do you run? And what about the swimming? All good and we're kind of a bike, do you have? Road bike. Ohh OK. Yeah, now I've been training for about. About two months now. Yeah. Male OK, yeah, it's the dog. Seems to have settled down and I can probably wipe up the smoothie. OK. Well, what are my options? OK, you think they you think the better? The Model 993 is better. Alright. Well, sure, if you want to send me out one of those and uh. Ah, and I guess I'll just. Throw the other one out. Well, I guess this stuff happens, yeah? Or you're gonna you're gonna FedEx it to me. Tomorrow? Well, that's so that's pretty good. Well, no, I appreciate it and I'm sorry I was yelling at you. I guess it's not your fault. Yep. No that's a good day. I appreciate it. You've uh you've helped me out here and I'm I'm pretty thankful. So yeah thank you for your your time and thanks for helping me out here and. I appreciate you getting getting this thing sorted out pretty fast. Yep. Well, thanks. Yeah. And good luck with your next race as well. Yep. Thank you so much. \"\n",
    "print(call2_prompt)"
   ]
  },
  {
   "cell_type": "code",
   "execution_count": 60,
   "id": "496bbcfd-13cd-417c-a98a-d735e47c9170",
   "metadata": {},
   "outputs": [
    {
     "name": "stdout",
     "output_type": "stream",
     "text": [
      "Response:\n",
      "\n",
      "-Customer is angry because they had to wait a long time to talk to a human being\n",
      "-They explain that they bought a device that started smoking and they need a refund or replacement\n",
      "-The customer is happy with the resolution and thanks the representative\n"
     ]
    }
   ],
   "source": [
    "prompt = \"Generate detailed call summary notes from text\\nText:\\n###{}###\\n\".format(call2_prompt)\n",
    "response = openai.Completion.create( engine=model,  prompt=prompt,  temperature=.5,  max_tokens=200,  top_p=0.5,  frequency_penalty=0,  presence_penalty=0,  stop=None)\n",
    "\n",
    "print('Response:')\n",
    "print(response['choices'][0]['text'])"
   ]
  },
  {
   "cell_type": "code",
   "execution_count": 64,
   "id": "74b7d340-2105-4c15-8220-6656d40e5ad0",
   "metadata": {},
   "outputs": [
    {
     "name": "stdout",
     "output_type": "stream",
     "text": [
      "Response:\n",
      "\n",
      "The mitigations agent was able to diffuse the situation and provide good customer service. The customer was happy with the outcome.\n"
     ]
    }
   ],
   "source": [
    "prompt = \"List mitigations agent used in call from text\\nText:\\n###{}###\\n\".format(call2_prompt)\n",
    "response = openai.Completion.create( engine=model,  prompt=prompt,  temperature=.5,  max_tokens=200,  top_p=0.5,  frequency_penalty=0,  presence_penalty=0,  stop=None)\n",
    "\n",
    "print('Response:')\n",
    "print(response['choices'][0]['text'])"
   ]
  },
  {
   "cell_type": "code",
   "execution_count": null,
   "id": "f69896f9-27d8-4476-b599-8c9bae0d2a1c",
   "metadata": {},
   "outputs": [],
   "source": []
  }
 ],
 "metadata": {
  "kernelspec": {
   "display_name": "py38",
   "language": "python",
   "name": "py38"
  },
  "language_info": {
   "codemirror_mode": {
    "name": "ipython",
    "version": 3
   },
   "file_extension": ".py",
   "mimetype": "text/x-python",
   "name": "python",
   "nbconvert_exporter": "python",
   "pygments_lexer": "ipython3",
   "version": "3.8.10"
  }
 },
 "nbformat": 4,
 "nbformat_minor": 5
}
