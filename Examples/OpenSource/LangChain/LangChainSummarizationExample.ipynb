{
 "cells": [
  {
   "cell_type": "code",
   "execution_count": 2,
   "id": "6bcafd95-00c2-4b7f-b1b4-614a23c1f255",
   "metadata": {
    "tags": []
   },
   "outputs": [],
   "source": [
    "from langchain import OpenAI, PromptTemplate, LLMChain\n",
    "from langchain.text_splitter import CharacterTextSplitter\n",
    "from langchain.chains.mapreduce import MapReduceChain\n",
    "from langchain.prompts import PromptTemplate\n",
    "from CustomAPIMAzureOpenAI import CustomAPIMAzureOpenAI\n",
    "import os, openai\n",
    "\n",
    "os.environ[\"OPENAI_API_KEY\"]  = \"na\"\n",
    "os.environ[\"OPENAI_API_TYPE\"] = openai.api_type = \"azure\"\n",
    "os.environ[\"OPENAI_API_VERSION\"] = openai.api_version = \"2022-12-01\"\n",
    "os.environ[\"OPENAI_API_BASE\"] = openai.api_base = \"https://[APIMEndpoint].azure-api.net/\"\n",
    "deployment_name = \"deployment_name\"\n",
    "model_name = \"model_name\"\n",
    "\n",
    "llm = CustomAPIMAzureOpenAI(deployment_name=deployment_name, model_name=model_name)\n",
    "llm.subscription_key = 'SUBSCRIPTIONKEY'\n",
    "\n",
    "text_splitter = CharacterTextSplitter()"
   ]
  },
  {
   "cell_type": "code",
   "execution_count": 4,
   "id": "32dbb04f-9dab-420a-979e-ca4defb2092a",
   "metadata": {
    "tags": []
   },
   "outputs": [
    {
     "name": "stderr",
     "output_type": "stream",
     "text": [
      "Created a chunk of size 8297, which is longer than the specified 4000\n",
      "Created a chunk of size 8410, which is longer than the specified 4000\n",
      "Created a chunk of size 8271, which is longer than the specified 4000\n",
      "Created a chunk of size 8217, which is longer than the specified 4000\n",
      "Created a chunk of size 6170, which is longer than the specified 4000\n"
     ]
    }
   ],
   "source": [
    "with open('./stateoftheunion_20230207.txt') as f:\n",
    "    state_of_the_union = f.read()\n",
    "texts = text_splitter.split_text(state_of_the_union)"
   ]
  },
  {
   "cell_type": "code",
   "execution_count": 5,
   "id": "644dda7e-650c-4cbb-9d29-609aeccbb46a",
   "metadata": {
    "tags": []
   },
   "outputs": [],
   "source": [
    "from langchain.docstore.document import Document\n",
    "\n",
    "docs = [Document(page_content=t) for t in texts[:3]]"
   ]
  },
  {
   "cell_type": "code",
   "execution_count": 6,
   "id": "977e6220-9398-4aae-a3a2-202172b84aee",
   "metadata": {
    "tags": []
   },
   "outputs": [],
   "source": [
    "from langchain.chains.summarize import load_summarize_chain\n"
   ]
  },
  {
   "cell_type": "code",
   "execution_count": 7,
   "id": "b1d82b77-6323-4ebe-88e9-1ca23b653916",
   "metadata": {
    "tags": []
   },
   "outputs": [
    {
     "data": {
      "text/plain": [
       "'\\n\\nIn his State of the Union address, President Biden highlighted the progress made over the past two years, including the creation of 12 million jobs, the passing of over 300 bipartisan laws, and the investment in infrastructure and semiconductor manufacturing. He also discussed his plans to continue reducing healthcare costs and prescription drug prices, as well as to make sure no one is left behind in the rebuilding of the economy.'"
      ]
     },
     "execution_count": 7,
     "metadata": {},
     "output_type": "execute_result"
    }
   ],
   "source": [
    "chain = load_summarize_chain(llm, chain_type=\"stuff\")\n",
    "chain.run(docs)"
   ]
  },
  {
   "cell_type": "code",
   "execution_count": null,
   "id": "c851d245-cc1c-467f-80c0-bb5b53d81f31",
   "metadata": {},
   "outputs": [],
   "source": []
  }
 ],
 "metadata": {
  "kernelspec": {
   "display_name": "gradio",
   "language": "python",
   "name": "gradio"
  },
  "language_info": {
   "codemirror_mode": {
    "name": "ipython",
    "version": 3
   },
   "file_extension": ".py",
   "mimetype": "text/x-python",
   "name": "python",
   "nbconvert_exporter": "python",
   "pygments_lexer": "ipython3",
   "version": "3.10.9"
  }
 },
 "nbformat": 4,
 "nbformat_minor": 5
}
