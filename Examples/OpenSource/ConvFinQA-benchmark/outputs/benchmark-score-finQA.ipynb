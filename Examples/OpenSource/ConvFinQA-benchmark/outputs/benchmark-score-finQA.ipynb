{
 "cells": [
  {
   "cell_type": "code",
   "execution_count": 7,
   "id": "28045ae4-aa02-4abd-9c0c-9f41125057cd",
   "metadata": {
    "tags": []
   },
   "outputs": [],
   "source": [
    "import json\n",
    "import argparse\n",
    "import glob\n",
    "import sys\n",
    "sys.path.append(\"../\")\n",
    "from tool import finqa_equal\n",
    "from typing import Dict, Any\n"
   ]
  },
  {
   "cell_type": "code",
   "execution_count": 8,
   "id": "87a90891-1207-445d-bb5c-d8675e69fe7a",
   "metadata": {
    "tags": []
   },
   "outputs": [],
   "source": [
    "name = 'finqa_gpt-35-turbo_04_10_14_54.jsonl'"
   ]
  },
  {
   "cell_type": "code",
   "execution_count": 9,
   "id": "943897c8-dfc6-4106-8c04-163b3f99e7b2",
   "metadata": {
    "tags": []
   },
   "outputs": [
    {
     "name": "stdout",
     "output_type": "stream",
     "text": [
      "file name:  finqa_gpt-35-turbo_04_10_14_54.jsonl\n",
      "num of examples:  1147\n",
      "num of missing returns 0\n",
      "accuracy:  0.6120313862249346\n"
     ]
    }
   ],
   "source": [
    "exception = []\n",
    "correct, wrong, missing = 0, 0, 0\n",
    "with open(name) as f:\n",
    "    for i, line in enumerate(f):\n",
    "        data = json.loads(line)\n",
    "        if 'demonstration' in data or 'prompt' in data:\n",
    "            continue\n",
    "        else:\n",
    "            # Select the prediction field.\n",
    "            if 'executed' in data:\n",
    "                prediction = data['executed']\n",
    "            else:\n",
    "                prediction = data['prediction']\n",
    "                if False:\n",
    "                    # For multi-choise question, pick A option\n",
    "                    if prediction == 'None':\n",
    "                        prediction = 'A'\n",
    "            # Calculate the evaluation score\n",
    "            pred = finqa_equal(prediction, data['answer'], True, True)\n",
    "            if prediction is None:\n",
    "                missing += 1\n",
    "            elif pred:\n",
    "                correct += 1\n",
    "            else:\n",
    "                exception.append(data)\n",
    "                wrong += 1\n",
    "\n",
    "print('file name: ', name)\n",
    "print('num of examples: ', correct + wrong + missing)\n",
    "print('num of missing returns', missing)\n",
    "print('accuracy: ', correct / (correct + wrong + missing))"
   ]
  },
  {
   "cell_type": "code",
   "execution_count": 10,
   "id": "ba566a05-6518-4346-b13e-af60d010e7af",
   "metadata": {
    "tags": []
   },
   "outputs": [],
   "source": [
    "import pandas as pd"
   ]
  },
  {
   "cell_type": "code",
   "execution_count": 11,
   "id": "635ddac5-3a70-4415-b444-fc24cc5c6f77",
   "metadata": {
    "tags": []
   },
   "outputs": [],
   "source": [
    "incorrect = pd.DataFrame(exception)"
   ]
  },
  {
   "cell_type": "code",
   "execution_count": 12,
   "id": "b850775f-d13d-456c-ad17-a76bcd7edcdd",
   "metadata": {
    "tags": []
   },
   "outputs": [],
   "source": [
    "finqa_prompt = [{'role': 'system',\n",
    "  'content': 'You are an AI assistant that helps people find information.'},\n",
    " {'role': 'user',\n",
    "  'content': '''Read the following text and table, and then write code to answer a question:\n",
    "( in millions ) | dec 282013 | dec 292012\n",
    "available-for-sale investments | $ 18086 | $ 14001\n",
    "cash | 854 | 593\n",
    "equity method investments | 1038 | 992\n",
    "loans receivable | 1072 | 979\n",
    "non-marketable cost method investments | 1270 | 1202\n",
    "reverse repurchase agreements | 800 | 2850\n",
    "trading assets | 8441 | 5685\n",
    "total cash and investments | $ 31561 | $ 26302\n",
    "Question: what percentage of total cash and investments as of dec . 29 2012 was comprised of available-for-sale investments?'''},\n",
    " {'role': 'assistant',\n",
    "  'content': '''#Python\n",
    "available_for_sale_investments_dec_29_2012 = 14001\n",
    "total_cash_and_investments_dec_29_2012 = 26302\n",
    "percent_available_for_sale_investments_dec_29_2012 = available_for_sale_investments_dec_29_2012 / total_cash_and_investments_dec_29_2012\n",
    "ans = percent_available_for_sale_investments_dec_29_2012'''},\n",
    "\n",
    "{'role': 'user',\n",
    "  'content': '''Read the following text and table, and then write code to answer a question:\n",
    "the chart shows that the firm posted market risk 2013related gains on 248 out of 261 days in this period , with 12 days exceeding $ 210 million .\n",
    "december 31 ( in millions ) | 1 basis point increase in jpmorgan chase 2019s credit spread\n",
    "2010 | $ 35\n",
    "2009 | $ 39\n",
    "Question: on what percent of trading days were there market gains above $ 210 million?'''},\n",
    "{'role': 'assistant',\n",
    "  'content': '''#Python\n",
    "days_with_market_gains_above_210_million = 12\n",
    "total_trading_days = 261\n",
    "percent_days_with_market_gains_above_210_million = days_with_market_gains_above_210_million / total_trading_days\n",
    "ans = percent_days_with_market_gains_above_210_million'''},\n",
    "\n",
    "{'role': 'user',\n",
    "  'content': '''Read the following text and table, and then write code to answer a question:\n",
    "american tower corporation and subsidiaries notes to consolidated financial statements ( 3 ) consists of customer-related intangibles of approximately $ 75.0 million and network location intangibles of approximately $ 72.7 million . the customer-related intangibles and network location intangibles are being amortized on a straight-line basis over periods of up to 20 years .\n",
    "- | preliminary purchase price allocation\n",
    "current assets | $ 8763\n",
    "non-current assets | 2332\n",
    "property and equipment | 26711\n",
    "intangible assets ( 1 ) | 21079\n",
    "other non-current liabilities | -1349 ( 1349 )\n",
    "fair value of net assets acquired | $ 57536\n",
    "goodwill ( 2 ) | 5998\n",
    "Question: for acquired customer-related and network location intangibles , what is the expected annual amortization expenses , in millions?'''},\n",
    "{'role': 'assistant',\n",
    "  'content': '''#Python\n",
    "customer_related_intangibles = 75\n",
    "network_location_intangibles = 72.7\n",
    "straight_line_basis = 20\n",
    "amortization_expenses = ( customer_related_intangibles + network_location_intangibles ) / straight_line_basis\n",
    "ans = amortization_expenses'''},\n",
    "\n",
    "{'role': 'user',\n",
    "  'content': '''Read the following text and table, and then write code to answer a question:\n",
    "the aggregate commitment under the liquidity asset purchase agreements was approximately $ 23.59 billion and $ 28.37 billion at december 31 , 2008 and 2007 , respectively .\n",
    "( dollars in billions ) | 2008 amount | 2008 percent of total conduit assets | 2008 amount | percent of total conduit assets\n",
    "united states | $ 11.09 | 46% ( 46 % ) | $ 12.14 | 42% ( 42 % )\n",
    "australia | 4.30 | 17 | 6.10 | 21\n",
    "great britain | 1.97 | 8 | 2.93 | 10\n",
    "spain | 1.71 | 7 | 1.90 | 7\n",
    "italy | 1.66 | 7 | 1.86 | 7\n",
    "portugal | 0.62 | 3 | 0.70 | 2\n",
    "germany | 0.57 | 3 | 0.70 | 2\n",
    "netherlands | 0.40 | 2 | 0.55 | 2\n",
    "belgium | 0.29 | 1 | 0.31 | 1\n",
    "greece | 0.27 | 1 | 0.31 | 1\n",
    "other | 1.01 | 5 | 1.26 | 5\n",
    "total conduit assets | $ 23.89 | 100% ( 100 % ) | $ 28.76 | 100% ( 100 % )\n",
    "Question: what is percentage change in total conduit asset from 2007 to 2008?'''},\n",
    "{'role': 'assistant',\n",
    "  'content': '''#Python\n",
    "total_conduit_assets_2007 = 28.76\n",
    "total_conduit_assets_2008 = 23.89\n",
    "net_change_in_total_conduit_assets = total_conduit_assets_2008 - total_conduit_assets_2007\n",
    "percent_change_in_total_conduit_assets = net_change_in_total_conduit_assets / total_conduit_assets_2007\n",
    "ans = percent_change_in_total_conduit_assets'''},]"
   ]
  },
  {
   "cell_type": "code",
   "execution_count": 13,
   "id": "435dd3e4-c5bc-4bce-ae24-943adabd4916",
   "metadata": {
    "tags": []
   },
   "outputs": [],
   "source": [
    "def create_reader_request_processed(example: Dict[str, Any]):\n",
    "    prompt = 'Read the following text and table, and then write code to answer a question:\\n'\n",
    "    if example['text']:\n",
    "        prompt += example['text'] + '\\n'\n",
    "    prompt += example['table'].strip() + '\\n'\n",
    "    prompt += 'Question: {}\\n'.format(example['question'])\n",
    "    return prompt"
   ]
  },
  {
   "cell_type": "code",
   "execution_count": 14,
   "id": "34274318-4007-4ecd-a785-2cce3873f479",
   "metadata": {
    "tags": []
   },
   "outputs": [],
   "source": [
    "full_prompt = prompt_4shot + \"\\n\\n\"+ create_reader_request_processed(incorrect.iloc[1,])"
   ]
  },
  {
   "cell_type": "code",
   "execution_count": 15,
   "id": "19c5f344-e6a4-41c6-af5f-ae006aaab4ce",
   "metadata": {
    "tags": []
   },
   "outputs": [],
   "source": [
    "incorrect['prompt'] = incorrect.apply(lambda x:  prompt_4shot + \"\\n\\n\"+ create_reader_request_processed(x), axis=1)\n"
   ]
  },
  {
   "cell_type": "code",
   "execution_count": 16,
   "id": "6ce7115f-769a-4870-99c4-c71636e1da88",
   "metadata": {
    "tags": []
   },
   "outputs": [
    {
     "data": {
      "text/plain": [
       "Index(['question', 'answer', 'text', 'table', 'id', 'program', 'generated',\n",
       "       'executed', 'prompt'],\n",
       "      dtype='object')"
      ]
     },
     "execution_count": 16,
     "metadata": {},
     "output_type": "execute_result"
    }
   ],
   "source": [
    "incorrect.columns"
   ]
  },
  {
   "cell_type": "code",
   "execution_count": 17,
   "id": "2ef950b8-365d-445f-bec3-280ea94b89eb",
   "metadata": {
    "tags": []
   },
   "outputs": [
    {
     "data": {
      "text/html": [
       "<div>\n",
       "<style scoped>\n",
       "    .dataframe tbody tr th:only-of-type {\n",
       "        vertical-align: middle;\n",
       "    }\n",
       "\n",
       "    .dataframe tbody tr th {\n",
       "        vertical-align: top;\n",
       "    }\n",
       "\n",
       "    .dataframe thead th {\n",
       "        text-align: right;\n",
       "    }\n",
       "</style>\n",
       "<table border=\"1\" class=\"dataframe\">\n",
       "  <thead>\n",
       "    <tr style=\"text-align: right;\">\n",
       "      <th></th>\n",
       "      <th>question</th>\n",
       "      <th>answer</th>\n",
       "      <th>text</th>\n",
       "      <th>table</th>\n",
       "      <th>id</th>\n",
       "      <th>program</th>\n",
       "      <th>generated</th>\n",
       "      <th>executed</th>\n",
       "      <th>prompt</th>\n",
       "    </tr>\n",
       "  </thead>\n",
       "  <tbody>\n",
       "    <tr>\n",
       "      <th>0</th>\n",
       "      <td>what is the percentage change in cash flow hed...</td>\n",
       "      <td>0.09864</td>\n",
       "      <td>undesignated hedges was $ 41.2 million and $ 4...</td>\n",
       "      <td>statement of income classification | statement...</td>\n",
       "      <td>ADI/2011/page_61.pdf-2</td>\n",
       "      <td>x0 = 153.7 - 139.9; ans = x0 / 139.9</td>\n",
       "      <td>[There is no information provided in the text ...</td>\n",
       "      <td>There is no information provided in the text a...</td>\n",
       "      <td>Read the following text and table, and then an...</td>\n",
       "    </tr>\n",
       "    <tr>\n",
       "      <th>1</th>\n",
       "      <td>what was the percentage change in total rental...</td>\n",
       "      <td>0.06757</td>\n",
       "      <td>total debt total debt at july 1 , 2006 was $ 1...</td>\n",
       "      <td>- | amount\\n2007 | $ 56499000\\n2008 | 46899000...</td>\n",
       "      <td>SYY/2006/page_71.pdf-1</td>\n",
       "      <td>x0 = 92710000 - 86842000; ans = x0 / 86842000</td>\n",
       "      <td>[#Python\\nrental_expense_operating_leases_july...</td>\n",
       "      <td>0.159462</td>\n",
       "      <td>Read the following text and table, and then an...</td>\n",
       "    </tr>\n",
       "    <tr>\n",
       "      <th>2</th>\n",
       "      <td>did altria outperform the s&amp;p 500?</td>\n",
       "      <td>yes</td>\n",
       "      <td>2011 2012 2013 2014 2015 2016 comparison of fi...</td>\n",
       "      <td>date | altria group inc . | altria group inc ....</td>\n",
       "      <td>MO/2016/page_19.pdf-1</td>\n",
       "      <td>ans = 286.61 &gt; 198.09</td>\n",
       "      <td>[#Python\\naltria_group_inc_return_2011 = 100\\n...</td>\n",
       "      <td>1.0</td>\n",
       "      <td>Read the following text and table, and then an...</td>\n",
       "    </tr>\n",
       "    <tr>\n",
       "      <th>3</th>\n",
       "      <td>what portion of the total noncancelable future...</td>\n",
       "      <td>0.24566</td>\n",
       "      <td>some operating leases require payment of prope...</td>\n",
       "      <td>in millions | operating leases | capital lease...</td>\n",
       "      <td>GIS/2018/page_110.pdf-2</td>\n",
       "      <td>ans = 137.4 / 559.3</td>\n",
       "      <td>[#Python\\noperating_leases_fiscal_2019 = 137.4...</td>\n",
       "      <td>0.246201</td>\n",
       "      <td>Read the following text and table, and then an...</td>\n",
       "    </tr>\n",
       "    <tr>\n",
       "      <th>4</th>\n",
       "      <td>was the five year total return of the 2019 pee...</td>\n",
       "      <td>no</td>\n",
       "      <td>2 0 1 9 a n n u a l r e p o r t1 6 performance...</td>\n",
       "      <td>- | 2014 | 2015 | 2016 | 2017 | 2018 | 2019\\nj...</td>\n",
       "      <td>JKHY/2019/page_18.pdf-3</td>\n",
       "      <td>ans = 281.09 &gt; 286.22</td>\n",
       "      <td>[#Python\\ntotal_return_2019_peer_group_2014 = ...</td>\n",
       "      <td>0.0</td>\n",
       "      <td>Read the following text and table, and then an...</td>\n",
       "    </tr>\n",
       "    <tr>\n",
       "      <th>...</th>\n",
       "      <td>...</td>\n",
       "      <td>...</td>\n",
       "      <td>...</td>\n",
       "      <td>...</td>\n",
       "      <td>...</td>\n",
       "      <td>...</td>\n",
       "      <td>...</td>\n",
       "      <td>...</td>\n",
       "      <td>...</td>\n",
       "    </tr>\n",
       "    <tr>\n",
       "      <th>440</th>\n",
       "      <td>based on the review of the reconciliation of u...</td>\n",
       "      <td>-530.0</td>\n",
       "      <td>comcast corporation changes in our net deferre...</td>\n",
       "      <td>( in millions ) | 2015 | 2014 | 2013\\nbalance ...</td>\n",
       "      <td>CMCSA/2015/page_112.pdf-3</td>\n",
       "      <td>ans = 1171 - 1701</td>\n",
       "      <td>[#Python\\nreductions_for_tax_positions_of_prio...</td>\n",
       "      <td>-79.0</td>\n",
       "      <td>Read the following text and table, and then an...</td>\n",
       "    </tr>\n",
       "    <tr>\n",
       "      <th>441</th>\n",
       "      <td>what is the growth rate in the weighted averag...</td>\n",
       "      <td>0.16498</td>\n",
       "      <td>and subsidiaries notes to consolidated financi...</td>\n",
       "      <td>- | 2005 | 2006 | 2007\\nrisk-free interest rat...</td>\n",
       "      <td>ABMD/2007/page_78.pdf-4</td>\n",
       "      <td>x0 = 8.05 - 6.91; ans = x0 / 6.91</td>\n",
       "      <td>[#Python\\nweighted_average_fair_value_2005 = 8...</td>\n",
       "      <td>-0.141615</td>\n",
       "      <td>Read the following text and table, and then an...</td>\n",
       "    </tr>\n",
       "    <tr>\n",
       "      <th>442</th>\n",
       "      <td>what portion of the total long-term borrowings...</td>\n",
       "      <td>0.4386</td>\n",
       "      <td>borrowings short-term borrowings the carrying ...</td>\n",
       "      <td>( dollar amounts in millions ) | maturity amou...</td>\n",
       "      <td>BLK/2012/page_145.pdf-3</td>\n",
       "      <td>x0 = 750 + 1000; x1 = x0 + 750; ans = x1 / 5700</td>\n",
       "      <td>[#Python\\ntotal_long_term_borrowings_due_in_ne...</td>\n",
       "      <td>0.439599</td>\n",
       "      <td>Read the following text and table, and then an...</td>\n",
       "    </tr>\n",
       "    <tr>\n",
       "      <th>443</th>\n",
       "      <td>what is the total expected contingent payments...</td>\n",
       "      <td>11.16667</td>\n",
       "      <td>and subsidiaries notes to consolidated financi...</td>\n",
       "      <td>balance at april 1 2007 | $ 224\\nreductions fo...</td>\n",
       "      <td>ABMD/2008/page_86.pdf-4</td>\n",
       "      <td>x0 = 5583333 + 5583333; ans = x0 / 1000000</td>\n",
       "      <td>[There is no specific information provided in ...</td>\n",
       "      <td>There is no specific information provided in t...</td>\n",
       "      <td>Read the following text and table, and then an...</td>\n",
       "    </tr>\n",
       "    <tr>\n",
       "      <th>444</th>\n",
       "      <td>how much more was spent on shares in nov 2010 ...</td>\n",
       "      <td>3462694.66</td>\n",
       "      <td>five-year performance comparison 2013 the foll...</td>\n",
       "      <td>period | total number ofsharespurchased [a] | ...</td>\n",
       "      <td>UNP/2010/page_21.pdf-4</td>\n",
       "      <td>x0 = 1205260 * 89.92; x1 = 1133106 * 92.59; an...</td>\n",
       "      <td>[#Python\\nshares_purchased_nov_2010 = 1205260\\...</td>\n",
       "      <td>6469327.64</td>\n",
       "      <td>Read the following text and table, and then an...</td>\n",
       "    </tr>\n",
       "  </tbody>\n",
       "</table>\n",
       "<p>445 rows × 9 columns</p>\n",
       "</div>"
      ],
      "text/plain": [
       "                                              question      answer  \\\n",
       "0    what is the percentage change in cash flow hed...     0.09864   \n",
       "1    what was the percentage change in total rental...     0.06757   \n",
       "2                   did altria outperform the s&p 500?         yes   \n",
       "3    what portion of the total noncancelable future...     0.24566   \n",
       "4    was the five year total return of the 2019 pee...          no   \n",
       "..                                                 ...         ...   \n",
       "440  based on the review of the reconciliation of u...      -530.0   \n",
       "441  what is the growth rate in the weighted averag...     0.16498   \n",
       "442  what portion of the total long-term borrowings...      0.4386   \n",
       "443  what is the total expected contingent payments...    11.16667   \n",
       "444  how much more was spent on shares in nov 2010 ...  3462694.66   \n",
       "\n",
       "                                                  text  \\\n",
       "0    undesignated hedges was $ 41.2 million and $ 4...   \n",
       "1    total debt total debt at july 1 , 2006 was $ 1...   \n",
       "2    2011 2012 2013 2014 2015 2016 comparison of fi...   \n",
       "3    some operating leases require payment of prope...   \n",
       "4    2 0 1 9 a n n u a l r e p o r t1 6 performance...   \n",
       "..                                                 ...   \n",
       "440  comcast corporation changes in our net deferre...   \n",
       "441  and subsidiaries notes to consolidated financi...   \n",
       "442  borrowings short-term borrowings the carrying ...   \n",
       "443  and subsidiaries notes to consolidated financi...   \n",
       "444  five-year performance comparison 2013 the foll...   \n",
       "\n",
       "                                                 table  \\\n",
       "0    statement of income classification | statement...   \n",
       "1    - | amount\\n2007 | $ 56499000\\n2008 | 46899000...   \n",
       "2    date | altria group inc . | altria group inc ....   \n",
       "3    in millions | operating leases | capital lease...   \n",
       "4    - | 2014 | 2015 | 2016 | 2017 | 2018 | 2019\\nj...   \n",
       "..                                                 ...   \n",
       "440  ( in millions ) | 2015 | 2014 | 2013\\nbalance ...   \n",
       "441  - | 2005 | 2006 | 2007\\nrisk-free interest rat...   \n",
       "442  ( dollar amounts in millions ) | maturity amou...   \n",
       "443  balance at april 1 2007 | $ 224\\nreductions fo...   \n",
       "444  period | total number ofsharespurchased [a] | ...   \n",
       "\n",
       "                            id  \\\n",
       "0       ADI/2011/page_61.pdf-2   \n",
       "1       SYY/2006/page_71.pdf-1   \n",
       "2        MO/2016/page_19.pdf-1   \n",
       "3      GIS/2018/page_110.pdf-2   \n",
       "4      JKHY/2019/page_18.pdf-3   \n",
       "..                         ...   \n",
       "440  CMCSA/2015/page_112.pdf-3   \n",
       "441    ABMD/2007/page_78.pdf-4   \n",
       "442    BLK/2012/page_145.pdf-3   \n",
       "443    ABMD/2008/page_86.pdf-4   \n",
       "444     UNP/2010/page_21.pdf-4   \n",
       "\n",
       "                                               program  \\\n",
       "0                 x0 = 153.7 - 139.9; ans = x0 / 139.9   \n",
       "1        x0 = 92710000 - 86842000; ans = x0 / 86842000   \n",
       "2                                ans = 286.61 > 198.09   \n",
       "3                                  ans = 137.4 / 559.3   \n",
       "4                                ans = 281.09 > 286.22   \n",
       "..                                                 ...   \n",
       "440                                  ans = 1171 - 1701   \n",
       "441                  x0 = 8.05 - 6.91; ans = x0 / 6.91   \n",
       "442    x0 = 750 + 1000; x1 = x0 + 750; ans = x1 / 5700   \n",
       "443         x0 = 5583333 + 5583333; ans = x0 / 1000000   \n",
       "444  x0 = 1205260 * 89.92; x1 = 1133106 * 92.59; an...   \n",
       "\n",
       "                                             generated  \\\n",
       "0    [There is no information provided in the text ...   \n",
       "1    [#Python\\nrental_expense_operating_leases_july...   \n",
       "2    [#Python\\naltria_group_inc_return_2011 = 100\\n...   \n",
       "3    [#Python\\noperating_leases_fiscal_2019 = 137.4...   \n",
       "4    [#Python\\ntotal_return_2019_peer_group_2014 = ...   \n",
       "..                                                 ...   \n",
       "440  [#Python\\nreductions_for_tax_positions_of_prio...   \n",
       "441  [#Python\\nweighted_average_fair_value_2005 = 8...   \n",
       "442  [#Python\\ntotal_long_term_borrowings_due_in_ne...   \n",
       "443  [There is no specific information provided in ...   \n",
       "444  [#Python\\nshares_purchased_nov_2010 = 1205260\\...   \n",
       "\n",
       "                                              executed  \\\n",
       "0    There is no information provided in the text a...   \n",
       "1                                             0.159462   \n",
       "2                                                  1.0   \n",
       "3                                             0.246201   \n",
       "4                                                  0.0   \n",
       "..                                                 ...   \n",
       "440                                              -79.0   \n",
       "441                                          -0.141615   \n",
       "442                                           0.439599   \n",
       "443  There is no specific information provided in t...   \n",
       "444                                         6469327.64   \n",
       "\n",
       "                                                prompt  \n",
       "0    Read the following text and table, and then an...  \n",
       "1    Read the following text and table, and then an...  \n",
       "2    Read the following text and table, and then an...  \n",
       "3    Read the following text and table, and then an...  \n",
       "4    Read the following text and table, and then an...  \n",
       "..                                                 ...  \n",
       "440  Read the following text and table, and then an...  \n",
       "441  Read the following text and table, and then an...  \n",
       "442  Read the following text and table, and then an...  \n",
       "443  Read the following text and table, and then an...  \n",
       "444  Read the following text and table, and then an...  \n",
       "\n",
       "[445 rows x 9 columns]"
      ]
     },
     "execution_count": 17,
     "metadata": {},
     "output_type": "execute_result"
    }
   ],
   "source": [
    "incorrect"
   ]
  },
  {
   "cell_type": "code",
   "execution_count": 19,
   "id": "09f42077-c57a-4751-a776-a17a353a7649",
   "metadata": {
    "tags": []
   },
   "outputs": [
    {
     "name": "stdout",
     "output_type": "stream",
     "text": [
      "Read the following text and table, and then answer the last question in a series of questions:\n",
      "- | shares available for awards | shares subject to outstanding awards\n",
      "2009 global incentive plan | 2322450 | 2530454\n",
      "2004 stock incentive plan | - | 5923147\n",
      "Questions: how many shares are subject to outstanding awards is under the 2009 global incentive plan? what about under the 2004 stock incentive plan? how many total shares are subject to outstanding awards? what about under the 2004 stock incentive plan?\n",
      "Question: what proportion does this represent?\n",
      "#Python\n",
      "shares_subject_to_outstanding_awards_2009_global_incentive_plan = 2530454\n",
      "shares_subject_to_outstanding_awards_2004_stock_incentive_plan = 5923147\n",
      "total_shares_subject_to_outstanding_awards = shares_subject_to_outstanding_awards_2009_global_incentive_plan + shares_subject_to_outstanding_awards_2004_stock_incentive_plan\n",
      "proportion = shares_subject_to_outstanding_awards_2009_global_incentive_plan / total_shares_subject_to_outstanding_awards\n",
      "ans = proportion\n",
      "\n",
      "\n",
      "Read the following text and table, and then answer the last question in a series of questions:\n",
      "compensation expense the company recorded $ 43 million , $ 34 million , and $ 44 million of expense related to stock awards for the years ended december 31 , 2015 , 2014 , and 2013 , respectively . \n",
      "Questions: what is the compensation expense the company recorded in 2015? what about in 2014? what is the total compensation expense the company recorded in 2015 and 2014? what is the total expenses including 2013?\n",
      "Question: what is the average for three years?\n",
      "#Python\n",
      "compensation_expense_2015 = 43\n",
      "compensation_expense_2014 = 34\n",
      "compensation_expense_2013 = 44\n",
      "total_compensation_expense = compensation_expense_2015 + compensation_expense_2014 + compensation_expense_2013\n",
      "average_for_three_years = total_compensation_expense / 3\n",
      "ans = average_for_three_years\n",
      "\n",
      "\n",
      "Read the following text and table, and then answer the last question in a series of questions:\n",
      "the net loss on disposal of those assets was $ 344000 for 2005 and $ 43000 for 2004 . \n",
      "Questions: what was the net loss on disposal of assets in 2005? what was the value in 2004? what was the change in value?\n",
      "Question: what was the percent change?\n",
      "#Python\n",
      "net_loss_on_disposal_of_assets_2005 = 344000\n",
      "net_loss_on_disposal_of_assets_2004 = 43000\n",
      "net_change_in_value = net_loss_on_disposal_of_assets_2005 - net_loss_on_disposal_of_assets_2004\n",
      "percent_change = net_change_in_value / net_loss_on_disposal_of_assets_2004\n",
      "ans = percent_change\n",
      "\n",
      "\n",
      "Read the following text and table, and then answer the last question in a series of questions:\n",
      "location | operations conducted | approximatesquare feet | leaseexpirationdates\n",
      "dublin ireland | global supply chain distribution and administration offices | 160000 | owned\n",
      "athlone ireland | commercial research and development manufacturing | 80000 | owned\n",
      "bogart georgia | commercial research and development manufacturing | 70000 | owned\n",
      "smithfield rhode island | commercial research and development manufacturing | 67000 | owned\n",
      "Questions: what is the square feet of the owned global supply chain distribution and administration offices? what is the square feet of the owned commercial research and development manufacturing? what is the sum of those values? what is the total sum including square feet of commercial research and development manufacturing in bogart, georgia? what is the total sum including square feet of commercial research and development manufacturing in smithfield, rhode island?\n",
      "Question: what is the total sum of square feet owned?\n",
      "#Python\n",
      "square_feet_owned = [160000, 80000, 70000, 67000]\n",
      "total_square_feet_owned = sum(square_feet_owned)\n",
      "ans = total_square_feet_owned\n",
      "\n",
      "\n",
      "Read the following text and table, and then write code to answer a question:\n",
      "total debt total debt at july 1 , 2006 was $ 1762692000 , of which approximately 75% ( 75 % ) was at fixed rates averaging 6.0% ( 6.0 % ) with an average life of 19 years , and the remainder was at floating rates averaging 5.2% ( 5.2 % ) . certain loan agreements contain typical debt covenants to protect noteholders , including provisions to maintain the company 2019s long-term debt to total capital ratio below a specified level . sysco was in compliance with all debt covenants at july 1 , 2006 . the fair value of sysco 2019s total long-term debt is estimated based on the quoted market prices for the same or similar issues or on the current rates offered to the company for debt of the same remaining maturities . the fair value of total long-term debt approximated $ 1669999000 at july 1 , 2006 and $ 1442721000 at july 2 , 2005 , respectively . as of july 1 , 2006 and july 2 , 2005 , letters of credit outstanding were $ 60000000 and $ 76817000 , respectively . leases although sysco normally purchases assets , it has obligations under capital and operating leases for certain distribution facilities , vehicles and computers . total rental expense under operating leases was $ 100690000 , $ 92710000 , and $ 86842000 in fiscal 2006 , 2005 and 2004 , respectively . contingent rentals , subleases and assets and obligations under capital leases are not significant . aggregate minimum lease payments by fiscal year under existing non-capitalized long-term leases are as follows: . 2007 ************************************************************************* $ 56499000 2008 ************************************************************************* 46899000 2009 ************************************************************************* 39904000 2010 ************************************************************************* 33329000 2011 ************************************************************************* 25666000 later years********************************************************************* 128981000 10 . employee benefit plans sysco has defined benefit and defined contribution retirement plans for its employees . also , the company contributes to various multi-employer plans under collective bargaining agreements and provides certain health care benefits to eligible retirees and their dependents . sysco maintains a qualified retirement plan ( retirement plan ) that pays benefits to employees at retirement , using formulas based on a participant 2019s years of service and compensation . the defined contribution 401 ( k ) plan provides that under certain circumstances the company may make matching contributions of up to 50% ( 50 % ) of the first 6% ( 6 % ) of a participant 2019s compensation . sysco 2019s contributions to this plan were $ 21898000 in 2006 , $ 28109000 in 2005 , and $ 27390000 in 2004 . in addition to receiving benefits upon retirement under the company 2019s defined benefit plan , participants in the management incentive plan ( see 2018 2018management incentive compensation 2019 2019 under 2018 2018stock based compensation plans 2019 2019 ) will receive benefits under a supplemental executive retirement plan ( serp ) . this plan is a nonqualified , unfunded supplementary retirement plan . in order to meet its obligations under the serp , sysco maintains life insurance policies on the lives of the participants with carrying values of $ 153659000 at july 1 , 2006 and $ 138931000 at july 2 , 2005 . these policies are not included as plan assets or in the funded status amounts in the table below . sysco is the sole owner and beneficiary of such policies . projected benefit obligations and accumulated benefit obligations for the serp were $ 327450000 and $ 238599000 , respectively , as of july 1 , 2006 and $ 375491000 and $ 264010000 , respectively , as of july 2 , 2005 . the company made cash contributions to its pension plans of $ 73764000 and $ 220361000 in fiscal years 2006 and 2005 , respectively , including $ 66000000 and $ 214000000 in voluntary contributions to the retirement plan in fiscal 2006 and 2005 , respectively . in fiscal 2006 , the company 2019s voluntary contribution to the retirement plan represented the maximum tax-deductible amount . in fiscal 2005 , the company made a voluntary contribution of $ 134000000 in the fourth quarter in addition to the $ 80000000 %%transmsg*** transmitting job : h39408 pcn : 049000000 *** %%pcmsg|47 |00011|yes|no|09/06/2006 17:22|0|1|page is valid , no graphics -- color : n| .\n",
      "- | amount\n",
      "2007 | $ 56499000\n",
      "2008 | 46899000\n",
      "2009 | 39904000\n",
      "2010 | 33329000\n",
      "2011 | 25666000\n",
      "later years | 128981000\n",
      "Question: what was the percentage change in total rental expense under operating leases from july 2 , 2005 to july 1 , 2006?\n",
      "\n"
     ]
    }
   ],
   "source": [
    "print(incorrect['prompt'][1])\n"
   ]
  },
  {
   "cell_type": "code",
   "execution_count": 148,
   "id": "6279397e-3166-462a-80ba-10a9b4af0bc7",
   "metadata": {
    "tags": []
   },
   "outputs": [
    {
     "name": "stdout",
     "output_type": "stream",
     "text": [
      "accumulated other comprehensive losses : pmi's accumulated other comprehensive losses , net of taxes , consisted of the following: . reclassifications from other comprehensive earnings the movements in accumulated other comprehensive losses and the related tax impact , for each of the components above , that are due to current period activity and reclassifications to the income statement are shown on the consolidated statements of comprehensive earnings for the years ended december 31 , 2015 , 2014 , and 2013 . the movement in currency translation adjustments for the year ended december 31 , 2013 , was also impacted by the purchase of the remaining shares of the mexican tobacco business . in addition , $ 1 million , $ 5 million and $ 12 million of net currency translation adjustment gains were transferred from other comprehensive earnings to marketing , administration and research costs in the consolidated statements of earnings for the years ended december 31 , 2015 , 2014 and 2013 , respectively , upon liquidation of subsidiaries . for additional information , see note 13 . benefit plans and note 15 . financial instruments for disclosures related to pmi's pension and other benefits and derivative financial instruments . colombian investment and cooperation agreement : on june 19 , 2009 , pmi announced that it had signed an agreement with the republic of colombia , together with the departments of colombia and the capital district of bogota , to promote investment and cooperation with respect to the colombian tobacco market and to fight counterfeit and contraband tobacco products . the investment and cooperation agreement provides $ 200 million in funding to the colombian governments over a 20-year period to address issues of mutual interest , such as combating the illegal cigarette trade , including the threat of counterfeit tobacco products , and increasing the quality and quantity of locally grown tobacco . as a result of the investment and cooperation agreement , pmi recorded a pre-tax charge of $ 135 million in the operating results of the latin america & canada segment during the second quarter of 2009 . at december 31 , 2015 and 2014 , pmi had $ 73 million and $ 71 million , respectively , of discounted liabilities associated with the colombian investment and cooperation agreement . these discounted liabilities are primarily reflected in other long-term liabilities on the consolidated balance sheets and are expected to be paid through 2028 . rbh legal settlement : on july 31 , 2008 , rothmans inc . ( \"rothmans\" ) announced the finalization of a cad 550 million settlement ( or approximately $ 540 million , based on the prevailing exchange rate at that time ) between itself and rothmans , benson & hedges inc . ( \"rbh\" ) , on the one hand , and the government of canada and all 10 provinces , on the other hand . the settlement resolved the royal canadian mounted police's investigation relating to products exported from canada by rbh during the 1989-1996 period . rothmans' sole holding was a 60% ( 60 % ) interest in rbh . the remaining 40% ( 40 % ) interest in rbh was owned by pmi. .\n",
      "['what is the net change in the value of total accumulated other comprehensive losses from 2013 or 2014?', 'what is the value in 2013?', 'what is the net change over the 2013 value?']\n",
      "--------\n",
      "#Python\n",
      "total_accumulated_losses_2015 = -9402\n",
      "total_accumulated_losses_2014 = -6826\n",
      "total_accumulated_losses_2013 = -4190\n",
      "net_change_2013_to_2014 = total_accumulated_losses_2014 - total_accumulated_losses_2013\n",
      "net_change_over_2013_value = total_accumulated_losses_2015 - total_accumulated_losses_2013\n",
      "ans = net_change_over_2013_value\n",
      "--------\n",
      "\n",
      "--------\n",
      "( losses ) earnings ( in millions ) | ( losses ) earnings 2015 | ( losses ) earnings 2014 | 2013\n",
      "total accumulated other comprehensive losses | $ -9402 ( 9402 ) | $ -6826 ( 6826 ) | $ -4190 ( 4190 )\n",
      "\n",
      "--------\n",
      "['ans = 6826 - 4190', 'ans = 4190', 'x0 = 6826 - 4190; ans = x0 / 4190']\n",
      "0.62912\n"
     ]
    }
   ],
   "source": [
    "i=100\n",
    "print(incorrect['text'][i])\n",
    "print(incorrect['questions'][i])\n",
    "print('--------')\n",
    "print(incorrect['generated'][i][0])\n",
    "print('--------')\n",
    "print(incorrect['golden_text'][i])\n",
    "print('--------')\n",
    "print(incorrect['golden_table'][i])\n",
    "print('--------')\n",
    "print(incorrect['programs'][i])\n",
    "print(incorrect['answer'][i])\n"
   ]
  },
  {
   "cell_type": "code",
   "execution_count": 154,
   "id": "2a532a73-3e4f-4889-9bda-9b935f48a065",
   "metadata": {
    "tags": []
   },
   "outputs": [
    {
     "data": {
      "text/plain": [
       "-2636"
      ]
     },
     "execution_count": 154,
     "metadata": {},
     "output_type": "execute_result"
    }
   ],
   "source": [
    "\n",
    "#Python\n",
    "accumulated_other_comprehensive_losses_2013 = -4190\n",
    "accumulated_other_comprehensive_losses_2014 = -6826\n",
    "net_change_in_value = accumulated_other_comprehensive_losses_2014 - accumulated_other_comprehensive_losses_2013\n",
    "ans = net_change_in_value\n",
    "ans"
   ]
  },
  {
   "cell_type": "code",
   "execution_count": 120,
   "id": "68dfae2c-895a-43b2-9c24-1f87b7789ca7",
   "metadata": {
    "tags": []
   },
   "outputs": [
    {
     "name": "stdout",
     "output_type": "stream",
     "text": [
      "total expense for repairs and maintenance incurred was $ 2.2 billion for 2011 , $ 2.0 billion for 2010 , and $ 1.9 billion for 2009 . \n"
     ]
    }
   ],
   "source": [
    "print(incorrect['golden_text'][3])"
   ]
  },
  {
   "cell_type": "code",
   "execution_count": 115,
   "id": "42bef193-3297-45f5-a5f5-405d97978d9f",
   "metadata": {
    "tags": []
   },
   "outputs": [
    {
     "name": "stdout",
     "output_type": "stream",
     "text": [
      "['ans = 2.2 * 1000', 'ans = 325', 'x0 = 2.2 * 1000; ans = 325 + x0']\n"
     ]
    }
   ],
   "source": [
    "print(incorrect['programs'][3])"
   ]
  },
  {
   "cell_type": "code",
   "execution_count": null,
   "id": "2827c277-eb55-40bf-b306-0a12e5acf379",
   "metadata": {},
   "outputs": [],
   "source": []
  }
 ],
 "metadata": {
  "kernelspec": {
   "display_name": "gradio",
   "language": "python",
   "name": "gradio"
  },
  "language_info": {
   "codemirror_mode": {
    "name": "ipython",
    "version": 3
   },
   "file_extension": ".py",
   "mimetype": "text/x-python",
   "name": "python",
   "nbconvert_exporter": "python",
   "pygments_lexer": "ipython3",
   "version": "3.10.9"
  }
 },
 "nbformat": 4,
 "nbformat_minor": 5
}
