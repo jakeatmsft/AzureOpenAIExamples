{
 "cells": [
  {
   "cell_type": "code",
   "execution_count": 15,
   "id": "28045ae4-aa02-4abd-9c0c-9f41125057cd",
   "metadata": {
    "tags": []
   },
   "outputs": [],
   "source": [
    "import json\n",
    "import argparse\n",
    "import glob\n",
    "import sys\n",
    "sys.path.append(\"../\")\n",
    "from tool import finqa_equal\n",
    "from typing import Dict, Any\n"
   ]
  },
  {
   "cell_type": "code",
   "execution_count": 65,
   "id": "87a90891-1207-445d-bb5c-d8675e69fe7a",
   "metadata": {
    "tags": []
   },
   "outputs": [],
   "source": [
    "name = 'convfinqa_direct_gpt-4_04_10_13_02.jsonl'"
   ]
  },
  {
   "cell_type": "code",
   "execution_count": 66,
   "id": "943897c8-dfc6-4106-8c04-163b3f99e7b2",
   "metadata": {
    "tags": []
   },
   "outputs": [
    {
     "name": "stdout",
     "output_type": "stream",
     "text": [
      "file name:  convfinqa_direct_gpt-4_04_10_13_02.jsonl\n",
      "num of examples:  421\n",
      "num of missing returns 0\n",
      "accuracy:  0.6318289786223278\n"
     ]
    }
   ],
   "source": [
    "exception = []\n",
    "correct, wrong, missing = 0, 0, 0\n",
    "with open(name) as f:\n",
    "    for i, line in enumerate(f):\n",
    "        data = json.loads(line)\n",
    "        if 'demonstration' in data or 'prompt' in data:\n",
    "            continue\n",
    "        else:\n",
    "            # Select the prediction field.\n",
    "            if 'executed' in data:\n",
    "                prediction = data['executed']\n",
    "            else:\n",
    "                prediction = data['prediction']\n",
    "                if False:\n",
    "                    # For multi-choise question, pick A option\n",
    "                    if prediction == 'None':\n",
    "                        prediction = 'A'\n",
    "            # Calculate the evaluation score\n",
    "            pred = finqa_equal(prediction, data['answer'], True, True)\n",
    "            if prediction is None:\n",
    "                missing += 1\n",
    "            elif pred:\n",
    "                correct += 1\n",
    "            else:\n",
    "                exception.append(data)\n",
    "                wrong += 1\n",
    "\n",
    "print('file name: ', name)\n",
    "print('num of examples: ', correct + wrong + missing)\n",
    "print('num of missing returns', missing)\n",
    "print('accuracy: ', correct / (correct + wrong + missing))"
   ]
  },
  {
   "cell_type": "code",
   "execution_count": 67,
   "id": "ba566a05-6518-4346-b13e-af60d010e7af",
   "metadata": {
    "tags": []
   },
   "outputs": [],
   "source": [
    "import pandas as pd"
   ]
  },
  {
   "cell_type": "code",
   "execution_count": 68,
   "id": "635ddac5-3a70-4415-b444-fc24cc5c6f77",
   "metadata": {
    "tags": []
   },
   "outputs": [],
   "source": [
    "incorrect = pd.DataFrame(exception)"
   ]
  },
  {
   "cell_type": "code",
   "execution_count": 69,
   "id": "b850775f-d13d-456c-ad17-a76bcd7edcdd",
   "metadata": {
    "tags": []
   },
   "outputs": [],
   "source": [
    "prompt_4shot = \"\"\"Read the following text and table, and then answer the last question in a series of questions:\n",
    "- | shares available for awards | shares subject to outstanding awards\n",
    "2009 global incentive plan | 2322450 | 2530454\n",
    "2004 stock incentive plan | - | 5923147\n",
    "Questions: how many shares are subject to outstanding awards is under the 2009 global incentive plan? what about under the 2004 stock incentive plan? how many total shares are subject to outstanding awards? what about under the 2004 stock incentive plan?\n",
    "Question: what proportion does this represent?\n",
    "#Python\n",
    "shares_subject_to_outstanding_awards_2009_global_incentive_plan = 2530454\n",
    "shares_subject_to_outstanding_awards_2004_stock_incentive_plan = 5923147\n",
    "total_shares_subject_to_outstanding_awards = shares_subject_to_outstanding_awards_2009_global_incentive_plan + shares_subject_to_outstanding_awards_2004_stock_incentive_plan\n",
    "proportion = shares_subject_to_outstanding_awards_2009_global_incentive_plan / total_shares_subject_to_outstanding_awards\n",
    "ans = proportion\n",
    "\n",
    "\n",
    "Read the following text and table, and then answer the last question in a series of questions:\n",
    "compensation expense the company recorded $ 43 million , $ 34 million , and $ 44 million of expense related to stock awards for the years ended december 31 , 2015 , 2014 , and 2013 , respectively . \n",
    "Questions: what is the compensation expense the company recorded in 2015? what about in 2014? what is the total compensation expense the company recorded in 2015 and 2014? what is the total expenses including 2013?\n",
    "Question: what is the average for three years?\n",
    "#Python\n",
    "compensation_expense_2015 = 43\n",
    "compensation_expense_2014 = 34\n",
    "compensation_expense_2013 = 44\n",
    "total_compensation_expense = compensation_expense_2015 + compensation_expense_2014 + compensation_expense_2013\n",
    "average_for_three_years = total_compensation_expense / 3\n",
    "ans = average_for_three_years\n",
    "\n",
    "\n",
    "Read the following text and table, and then answer the last question in a series of questions:\n",
    "the net loss on disposal of those assets was $ 344000 for 2005 and $ 43000 for 2004 . \n",
    "Questions: what was the net loss on disposal of assets in 2005? what was the value in 2004? what was the change in value?\n",
    "Question: what was the percent change?\n",
    "#Python\n",
    "net_loss_on_disposal_of_assets_2005 = 344000\n",
    "net_loss_on_disposal_of_assets_2004 = 43000\n",
    "net_change_in_value = net_loss_on_disposal_of_assets_2005 - net_loss_on_disposal_of_assets_2004\n",
    "percent_change = net_change_in_value / net_loss_on_disposal_of_assets_2004\n",
    "ans = percent_change\n",
    "\n",
    "\n",
    "Read the following text and table, and then answer the last question in a series of questions:\n",
    "location | operations conducted | approximatesquare feet | leaseexpirationdates\n",
    "dublin ireland | global supply chain distribution and administration offices | 160000 | owned\n",
    "athlone ireland | commercial research and development manufacturing | 80000 | owned\n",
    "bogart georgia | commercial research and development manufacturing | 70000 | owned\n",
    "smithfield rhode island | commercial research and development manufacturing | 67000 | owned\n",
    "Questions: what is the square feet of the owned global supply chain distribution and administration offices? what is the square feet of the owned commercial research and development manufacturing? what is the sum of those values? what is the total sum including square feet of commercial research and development manufacturing in bogart, georgia? what is the total sum including square feet of commercial research and development manufacturing in smithfield, rhode island?\n",
    "Question: what is the total sum of square feet owned?\n",
    "#Python\n",
    "square_feet_owned = [160000, 80000, 70000, 67000]\n",
    "total_square_feet_owned = sum(square_feet_owned)\n",
    "ans = total_square_feet_owned\n",
    "\"\"\""
   ]
  },
  {
   "cell_type": "code",
   "execution_count": 70,
   "id": "a766d950-7185-4e9d-9611-d887f95247fb",
   "metadata": {
    "tags": []
   },
   "outputs": [],
   "source": [
    "prompt_msg_4shot = [{\"role\":\"system\",\"content\":\"You are an AI assistant that helps people find information.\"},{\"role\":\"user\",\"content\":\"Read the following text and table, and then answer the last question in a series of questions:\\n- | shares available for awards | shares subject to outstanding awards\\n2009 global incentive plan | 2322450 | 2530454\\n2004 stock incentive plan | - | 5923147\\nQuestions: how many shares are subject to outstanding awards is under the 2009 global incentive plan? what about under the 2004 stock incentive plan? how many total shares are subject to outstanding awards? what about under the 2004 stock incentive plan?\\nQuestion: what proportion does this represent?\"},{\"role\":\"assistant\",\"content\":\"#Python\\nshares_subject_to_outstanding_awards_2009_global_incentive_plan = 2530454\\nshares_subject_to_outstanding_awards_2004_stock_incentive_plan = 5923147\\ntotal_shares_subject_to_outstanding_awards = shares_subject_to_outstanding_awards_2009_global_incentive_plan + shares_subject_to_outstanding_awards_2004_stock_incentive_plan\\nproportion = shares_subject_to_outstanding_awards_2009_global_incentive_plan / total_shares_subject_to_outstanding_awards\\nans = proportion\"},{\"role\":\"user\",\"content\":\"Read the following text and table, and then answer the last question in a series of questions:\\ncompensation expense the company recorded $ 43 million , $ 34 million , and $ 44 million of expense related to stock awards for the years ended december 31 , 2015 , 2014 , and 2013 , respectively . \\nQuestions: what is the compensation expense the company recorded in 2015? what about in 2014? what is the total compensation expense the company recorded in 2015 and 2014? what is the total expenses including 2013?\\nQuestion: what is the average for three years?\"},{\"role\":\"assistant\",\"content\":\"#Python\\ncompensation_expense_2015 = 43\\ncompensation_expense_2014 = 34\\ncompensation_expense_2013 = 44\\ntotal_compensation_expense = compensation_expense_2015 + compensation_expense_2014 + compensation_expense_2013\\naverage_for_three_years = total_compensation_expense / 3\\nans = average_for_three_years\\n\"},{\"role\":\"user\",\"content\":\"Read the following text and table, and then answer the last question in a series of questions:\\nthe net loss on disposal of those assets was $ 344000 for 2005 and $ 43000 for 2004 . \\nQuestions: what was the net loss on disposal of assets in 2005? what was the value in 2004? what was the change in value?\\nQuestion: what was the percent change?\"},{\"role\":\"assistant\",\"content\":\"#Python\\nnet_loss_on_disposal_of_assets_2005 = 344000\\nnet_loss_on_disposal_of_assets_2004 = 43000\\nnet_change_in_value = net_loss_on_disposal_of_assets_2005 - net_loss_on_disposal_of_assets_2004\\npercent_change = net_change_in_value / net_loss_on_disposal_of_assets_2004\\nans = percent_change\\n\"},{\"role\":\"user\",\"content\":\"Read the following text and table, and then answer the last question in a series of questions:\\nlocation | operations conducted | approximatesquare feet | leaseexpirationdates\\ndublin ireland | global supply chain distribution and administration offices | 160000 | owned\\nathlone ireland | commercial research and development manufacturing | 80000 | owned\\nbogart georgia | commercial research and development manufacturing | 70000 | owned\\nsmithfield rhode island | commercial research and development manufacturing | 67000 | owned\\nQuestions: what is the square feet of the owned global supply chain distribution and administration offices? what is the square feet of the owned commercial research and development manufacturing? what is the sum of those values? what is the total sum including square feet of commercial research and development manufacturing in bogart, georgia? what is the total sum including square feet of commercial research and development manufacturing in smithfield, rhode island?\\nQuestion: what is the total sum of square feet owned?\"},{\"role\":\"assistant\",\"content\":\"#Python\\nsquare_feet_owned = [160000, 80000, 70000, 67000]\\ntotal_square_feet_owned = sum(square_feet_owned)\\nans = total_square_feet_owned\"},{\"role\":\"user\",\"content\":\"Read the following text and table, and then answer the last question in a series of questions:  \\nentergy new orleans estimates that approximately 141000 electric customers and 93000 gas customers have returned since hurricane katrina and are taking service as of december 31 , 2008 , compared to approximately 132000 electric customers and 86000 gas customers as of december 31 , 2007 .  \\nQuestions: what was the number of gas customers in 2008? and what was it in 2007? what was, then, the change in that number over the year?  \\nQuestion: and how much does this change represent in relation to the 2007 number of customers, in percentage?\"},{\"role\":\"assistant\",\"content\":\"#Python\\ngas_customers_2008 = 93000\\ngas_customers_2007 = 86000\\nchange_in_gas_customers = gas_customers_2008 - gas_customers_2007\\npercent_change = (change_in_gas_customers / gas_customers_2007) / gas_customers_2007\\nans = percent_change\"}]"
   ]
  },
  {
   "cell_type": "code",
   "execution_count": 71,
   "id": "435dd3e4-c5bc-4bce-ae24-943adabd4916",
   "metadata": {
    "tags": []
   },
   "outputs": [],
   "source": [
    "def create_reader_request_processed(example: Dict[str, Any]):\n",
    "    prompt = 'Read the following text and table, and then answer the last question in a series of questions:\\n'\n",
    "    if example['golden_text']:\n",
    "        prompt += example['golden_text'].strip() + '\\n'\n",
    "    if example['golden_table']:\n",
    "        prompt += example['golden_table'].strip() + '\\n'\n",
    "    #prompt += '\\n'\n",
    "    prompt += 'Questions: '\n",
    "    prompt += \" \".join(example['questions'][:-1])\n",
    "    prompt += '\\n'\n",
    "    prompt += f'Question: {example[\"questions\"][-1]}'\n",
    "    prompt += '\\n'\n",
    "    prompt += 'Answer:'\n",
    "    return prompt"
   ]
  },
  {
   "cell_type": "code",
   "execution_count": 72,
   "id": "985f56f7-d4d1-4bd6-b1c0-631dbd10bfee",
   "metadata": {
    "tags": []
   },
   "outputs": [],
   "source": [
    "def create_reader_request_processed_chat(example: Dict[str, Any]):\n",
    "    prompt = 'Read the following text and table, and then answer the last question in a series of questions:\\n'\n",
    "    if example['golden_text']:\n",
    "        prompt += example['golden_text'].strip() + '\\n'\n",
    "    if example['golden_table']:\n",
    "        prompt += example['golden_table'].strip() + '\\n'\n",
    "    #prompt += '\\n'\n",
    "    prompt += 'Questions: '\n",
    "    prompt += \" \".join(example['questions'][:-1])\n",
    "    prompt += '\\n'\n",
    "    prompt += f'Question: {example[\"questions\"][-1]}'\n",
    "    return prompt"
   ]
  },
  {
   "cell_type": "code",
   "execution_count": 73,
   "id": "34274318-4007-4ecd-a785-2cce3873f479",
   "metadata": {
    "tags": []
   },
   "outputs": [],
   "source": [
    "full_prompt = prompt_4shot + \"\\n\\n\"+ create_reader_request_processed(incorrect.iloc[1,])"
   ]
  },
  {
   "cell_type": "code",
   "execution_count": 74,
   "id": "19c5f344-e6a4-41c6-af5f-ae006aaab4ce",
   "metadata": {
    "tags": []
   },
   "outputs": [],
   "source": [
    "incorrect['prompt'] = incorrect.apply(lambda x:  prompt_4shot + \"\\n\\n\"+ create_reader_request_processed(x), axis=1)\n",
    "incorrect['chatprompt'] = incorrect.apply(lambda x:  prompt_msg_4shot + [{\"role\":\"user\",\"content\":create_reader_request_processed_chat(x)}], axis=1)"
   ]
  },
  {
   "cell_type": "code",
   "execution_count": 77,
   "id": "6ce7115f-769a-4870-99c4-c71636e1da88",
   "metadata": {
    "tags": []
   },
   "outputs": [
    {
     "data": {
      "text/plain": [
       "Index(['questions', 'answer', 'text', 'table', 'golden_text', 'golden_table',\n",
       "       'id', 'programs', 'generated', 'executed', 'prompt', 'chatprompt'],\n",
       "      dtype='object')"
      ]
     },
     "execution_count": 77,
     "metadata": {},
     "output_type": "execute_result"
    }
   ],
   "source": [
    "incorrect.columns"
   ]
  },
  {
   "cell_type": "code",
   "execution_count": 79,
   "id": "2ef950b8-365d-445f-bec3-280ea94b89eb",
   "metadata": {
    "tags": []
   },
   "outputs": [
    {
     "data": {
      "text/html": [
       "<div>\n",
       "<style scoped>\n",
       "    .dataframe tbody tr th:only-of-type {\n",
       "        vertical-align: middle;\n",
       "    }\n",
       "\n",
       "    .dataframe tbody tr th {\n",
       "        vertical-align: top;\n",
       "    }\n",
       "\n",
       "    .dataframe thead th {\n",
       "        text-align: right;\n",
       "    }\n",
       "</style>\n",
       "<table border=\"1\" class=\"dataframe\">\n",
       "  <thead>\n",
       "    <tr style=\"text-align: right;\">\n",
       "      <th></th>\n",
       "      <th>answer</th>\n",
       "      <th>programs</th>\n",
       "      <th>generated</th>\n",
       "      <th>executed</th>\n",
       "    </tr>\n",
       "  </thead>\n",
       "  <tbody>\n",
       "    <tr>\n",
       "      <th>0</th>\n",
       "      <td>0.375</td>\n",
       "      <td>[ans = 15 - 19, x0 = 15 - 19; ans = x0 / 19, a...</td>\n",
       "      <td>[#Python\\nunamortized_debt_issuance_costs_seni...</td>\n",
       "      <td>142.402546</td>\n",
       "    </tr>\n",
       "    <tr>\n",
       "      <th>1</th>\n",
       "      <td>14.0</td>\n",
       "      <td>[ans = 12000000 / 3000000, ans = 37.8, ans = 2...</td>\n",
       "      <td>[#Python\\ngallons_hedged_2017 = 12000000\\ngall...</td>\n",
       "      <td>-9.708738</td>\n",
       "    </tr>\n",
       "    <tr>\n",
       "      <th>2</th>\n",
       "      <td>18770.0</td>\n",
       "      <td>[ans = 129.05 - 110.28, x0 = 129.05 - 110.28; ...</td>\n",
       "      <td>[#Python\\nprice_2015 = 110.28\\nprice_2016 = 10...</td>\n",
       "      <td>-740.0</td>\n",
       "    </tr>\n",
       "    <tr>\n",
       "      <th>3</th>\n",
       "      <td>2525.0</td>\n",
       "      <td>[ans = 2.2 * 1000, ans = 325, x0 = 2.2 * 1000;...</td>\n",
       "      <td>[#Python\\ntotal_expense_repairs_maintenance_20...</td>\n",
       "      <td>2525000000.0</td>\n",
       "    </tr>\n",
       "    <tr>\n",
       "      <th>4</th>\n",
       "      <td>1.25</td>\n",
       "      <td>[ans = 4.7 - .3, x0 = 4.7 - .3; ans = 4 - .7, ...</td>\n",
       "      <td>[#Python\\nforeign_exchange_products_variance_s...</td>\n",
       "      <td>2525000000.0</td>\n",
       "    </tr>\n",
       "    <tr>\n",
       "      <th>...</th>\n",
       "      <td>...</td>\n",
       "      <td>...</td>\n",
       "      <td>...</td>\n",
       "      <td>...</td>\n",
       "    </tr>\n",
       "    <tr>\n",
       "      <th>150</th>\n",
       "      <td>0.0</td>\n",
       "      <td>[ans = 2.6 - 2.6, x0 = 2.6 - 2.6; ans = x0 / 2.6]</td>\n",
       "      <td>[#Python\\nfreight_revenue_2013 = 2.6\\nfreight_...</td>\n",
       "      <td>86.5</td>\n",
       "    </tr>\n",
       "    <tr>\n",
       "      <th>151</th>\n",
       "      <td>0.07039</td>\n",
       "      <td>[ans = 822690, ans = 768588, ans = 822690 - 76...</td>\n",
       "      <td>[#Python\\nlong_term_debt_maturities_2018 = 822...</td>\n",
       "      <td>6.576232</td>\n",
       "    </tr>\n",
       "    <tr>\n",
       "      <th>152</th>\n",
       "      <td>0.17792</td>\n",
       "      <td>[ans = 5829, ans = 148527, ans = 5829 + 148527...</td>\n",
       "      <td>[#Python\\nliabilities_assumed = -5829\\npositiv...</td>\n",
       "      <td>0.164482</td>\n",
       "    </tr>\n",
       "    <tr>\n",
       "      <th>153</th>\n",
       "      <td>80.0</td>\n",
       "      <td>[ans = 36 / 45, x0 = 36 / 45; ans = x0 * 100]</td>\n",
       "      <td>[I apologize for the confusion in my previous ...</td>\n",
       "      <td>I apologize for the confusion in my previous r...</td>\n",
       "    </tr>\n",
       "    <tr>\n",
       "      <th>154</th>\n",
       "      <td>0.13793</td>\n",
       "      <td>[ans = 66 - 58, ans = 58, x0 = 66 - 58; ans = ...</td>\n",
       "      <td>[#Python\\nrent_after_five_years = 51\\nrent_aft...</td>\n",
       "      <td>0.137255</td>\n",
       "    </tr>\n",
       "  </tbody>\n",
       "</table>\n",
       "<p>155 rows × 4 columns</p>\n",
       "</div>"
      ],
      "text/plain": [
       "      answer                                           programs  \\\n",
       "0      0.375  [ans = 15 - 19, x0 = 15 - 19; ans = x0 / 19, a...   \n",
       "1       14.0  [ans = 12000000 / 3000000, ans = 37.8, ans = 2...   \n",
       "2    18770.0  [ans = 129.05 - 110.28, x0 = 129.05 - 110.28; ...   \n",
       "3     2525.0  [ans = 2.2 * 1000, ans = 325, x0 = 2.2 * 1000;...   \n",
       "4       1.25  [ans = 4.7 - .3, x0 = 4.7 - .3; ans = 4 - .7, ...   \n",
       "..       ...                                                ...   \n",
       "150      0.0  [ans = 2.6 - 2.6, x0 = 2.6 - 2.6; ans = x0 / 2.6]   \n",
       "151  0.07039  [ans = 822690, ans = 768588, ans = 822690 - 76...   \n",
       "152  0.17792  [ans = 5829, ans = 148527, ans = 5829 + 148527...   \n",
       "153     80.0      [ans = 36 / 45, x0 = 36 / 45; ans = x0 * 100]   \n",
       "154  0.13793  [ans = 66 - 58, ans = 58, x0 = 66 - 58; ans = ...   \n",
       "\n",
       "                                             generated  \\\n",
       "0    [#Python\\nunamortized_debt_issuance_costs_seni...   \n",
       "1    [#Python\\ngallons_hedged_2017 = 12000000\\ngall...   \n",
       "2    [#Python\\nprice_2015 = 110.28\\nprice_2016 = 10...   \n",
       "3    [#Python\\ntotal_expense_repairs_maintenance_20...   \n",
       "4    [#Python\\nforeign_exchange_products_variance_s...   \n",
       "..                                                 ...   \n",
       "150  [#Python\\nfreight_revenue_2013 = 2.6\\nfreight_...   \n",
       "151  [#Python\\nlong_term_debt_maturities_2018 = 822...   \n",
       "152  [#Python\\nliabilities_assumed = -5829\\npositiv...   \n",
       "153  [I apologize for the confusion in my previous ...   \n",
       "154  [#Python\\nrent_after_five_years = 51\\nrent_aft...   \n",
       "\n",
       "                                              executed  \n",
       "0                                           142.402546  \n",
       "1                                            -9.708738  \n",
       "2                                               -740.0  \n",
       "3                                         2525000000.0  \n",
       "4                                         2525000000.0  \n",
       "..                                                 ...  \n",
       "150                                               86.5  \n",
       "151                                           6.576232  \n",
       "152                                           0.164482  \n",
       "153  I apologize for the confusion in my previous r...  \n",
       "154                                           0.137255  \n",
       "\n",
       "[155 rows x 4 columns]"
      ]
     },
     "execution_count": 79,
     "metadata": {},
     "output_type": "execute_result"
    }
   ],
   "source": [
    "incorrect[['answer','programs','generated', 'executed']]"
   ]
  },
  {
   "cell_type": "code",
   "execution_count": 95,
   "id": "6279397e-3166-462a-80ba-10a9b4af0bc7",
   "metadata": {
    "tags": []
   },
   "outputs": [
    {
     "name": "stdout",
     "output_type": "stream",
     "text": [
      "#Python\n",
      "price_2015 = 110.28\n",
      "price_2016 = 109.54\n",
      "change_in_price = price_2016 - price_2015\n",
      "quotient = 100000 / 100\n",
      "product = change_in_price * quotient\n",
      "ans = product\n"
     ]
    }
   ],
   "source": [
    "print(incorrect['generated'][2][0])"
   ]
  },
  {
   "cell_type": "code",
   "execution_count": 97,
   "id": "2a532a73-3e4f-4889-9bda-9b935f48a065",
   "metadata": {
    "tags": []
   },
   "outputs": [],
   "source": [
    "price_2015 = 110.28\n",
    "price_2016 = 109.54\n",
    "change_in_price = price_2016 - price_2015\n",
    "quotient = 100000 / 100\n",
    "product = change_in_price * quotient\n",
    "ans = product"
   ]
  },
  {
   "cell_type": "code",
   "execution_count": 105,
   "id": "68dfae2c-895a-43b2-9c24-1f87b7789ca7",
   "metadata": {
    "tags": []
   },
   "outputs": [
    {
     "name": "stdout",
     "output_type": "stream",
     "text": [
      "- | 12/28/2013 | 1/3/2015 | 1/2/2016 | 12/31/2016 | 12/30/2017 | 12/29/2018\n",
      "s&p 500 | 100.00 | 110.28 | 109.54 | 129.05 | 157.22 | 150.33\n",
      "\n"
     ]
    }
   ],
   "source": [
    "print(incorrect['golden_table'][2])"
   ]
  },
  {
   "cell_type": "code",
   "execution_count": 99,
   "id": "42bef193-3297-45f5-a5f5-405d97978d9f",
   "metadata": {
    "tags": []
   },
   "outputs": [
    {
     "name": "stdout",
     "output_type": "stream",
     "text": [
      "['ans = 129.05 - 110.28', 'x0 = 129.05 - 110.28; ans = 100000 / 100', 'x0 = 129.05 - 110.28; x1 = 100000 / 100; ans = x1 * x0']\n"
     ]
    }
   ],
   "source": [
    "print(incorrect['programs'][2])"
   ]
  },
  {
   "cell_type": "code",
   "execution_count": null,
   "id": "2827c277-eb55-40bf-b306-0a12e5acf379",
   "metadata": {},
   "outputs": [],
   "source": []
  }
 ],
 "metadata": {
  "kernelspec": {
   "display_name": "gradio",
   "language": "python",
   "name": "gradio"
  },
  "language_info": {
   "codemirror_mode": {
    "name": "ipython",
    "version": 3
   },
   "file_extension": ".py",
   "mimetype": "text/x-python",
   "name": "python",
   "nbconvert_exporter": "python",
   "pygments_lexer": "ipython3",
   "version": "3.10.9"
  }
 },
 "nbformat": 4,
 "nbformat_minor": 5
}
