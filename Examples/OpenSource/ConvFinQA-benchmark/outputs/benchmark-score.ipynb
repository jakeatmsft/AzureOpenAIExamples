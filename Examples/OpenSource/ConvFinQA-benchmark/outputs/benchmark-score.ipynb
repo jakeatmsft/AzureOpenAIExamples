{
 "cells": [
  {
   "cell_type": "code",
   "execution_count": 5,
   "metadata": {
    "tags": []
   },
   "outputs": [],
   "source": [
    "import json\n",
    "import argparse\n",
    "import glob\n",
    "import sys\n",
    "sys.path.append(\"../\")\n",
    "from tool import finqa_equal\n",
    "from typing import Dict, Any\n"
   ]
  },
  {
   "cell_type": "code",
   "execution_count": 6,
   "metadata": {
    "tags": []
   },
   "outputs": [],
   "source": [
    "name = 'convfinqa_direct_gpt-35-turbo_04_10_12_30.jsonl'"
   ]
  },
  {
   "cell_type": "code",
   "execution_count": 7,
   "metadata": {
    "tags": []
   },
   "outputs": [
    {
     "name": "stdout",
     "output_type": "stream",
     "text": [
      "file name:  convfinqa_direct_gpt-35-turbo_04_10_12_30.jsonl\n",
      "num of examples:  421\n",
      "num of missing returns 0\n",
      "accuracy:  0.672209026128266\n"
     ]
    }
   ],
   "source": [
    "exception = []\n",
    "correct, wrong, missing = 0, 0, 0\n",
    "with open(name) as f:\n",
    "    for i, line in enumerate(f):\n",
    "        data = json.loads(line)\n",
    "        if 'demonstration' in data or 'prompt' in data:\n",
    "            continue\n",
    "        else:\n",
    "            # Select the prediction field.\n",
    "            if 'executed' in data:\n",
    "                prediction = data['executed']\n",
    "            else:\n",
    "                prediction = data['prediction']\n",
    "                if False:\n",
    "                    # For multi-choise question, pick A option\n",
    "                    if prediction == 'None':\n",
    "                        prediction = 'A'\n",
    "            # Calculate the evaluation score\n",
    "            pred = finqa_equal(prediction, data['answer'], True, True)\n",
    "            if prediction is None:\n",
    "                missing += 1\n",
    "            elif pred:\n",
    "                correct += 1\n",
    "            else:\n",
    "                exception.append(data)\n",
    "                wrong += 1\n",
    "\n",
    "print('file name: ', name)\n",
    "print('num of examples: ', correct + wrong + missing)\n",
    "print('num of missing returns', missing)\n",
    "print('accuracy: ', correct / (correct + wrong + missing))"
   ]
  },
  {
   "cell_type": "code",
   "execution_count": 8,
   "metadata": {
    "tags": []
   },
   "outputs": [],
   "source": [
    "import pandas as pd"
   ]
  },
  {
   "cell_type": "code",
   "execution_count": 9,
   "metadata": {
    "tags": []
   },
   "outputs": [],
   "source": [
    "incorrect = pd.DataFrame(exception)"
   ]
  },
  {
   "cell_type": "code",
   "execution_count": 10,
   "metadata": {
    "tags": []
   },
   "outputs": [],
   "source": [
    "prompt_msg_4shot = [{\"role\":\"system\",\"content\":\"You are an AI assistant that helps people find information.\"},{\"role\":\"user\",\"content\":\"Read the following text and table, and then answer the last question in a series of questions:\\n- | shares available for awards | shares subject to outstanding awards\\n2009 global incentive plan | 2322450 | 2530454\\n2004 stock incentive plan | - | 5923147\\nQuestions: how many shares are subject to outstanding awards is under the 2009 global incentive plan? what about under the 2004 stock incentive plan? how many total shares are subject to outstanding awards? what about under the 2004 stock incentive plan?\\nQuestion: what proportion does this represent?\"},{\"role\":\"assistant\",\"content\":\"#Python\\nshares_subject_to_outstanding_awards_2009_global_incentive_plan = 2530454\\nshares_subject_to_outstanding_awards_2004_stock_incentive_plan = 5923147\\ntotal_shares_subject_to_outstanding_awards = shares_subject_to_outstanding_awards_2009_global_incentive_plan + shares_subject_to_outstanding_awards_2004_stock_incentive_plan\\nproportion = shares_subject_to_outstanding_awards_2009_global_incentive_plan / total_shares_subject_to_outstanding_awards\\nans = proportion\"},{\"role\":\"user\",\"content\":\"Read the following text and table, and then answer the last question in a series of questions:\\ncompensation expense the company recorded $ 43 million , $ 34 million , and $ 44 million of expense related to stock awards for the years ended december 31 , 2015 , 2014 , and 2013 , respectively . \\nQuestions: what is the compensation expense the company recorded in 2015? what about in 2014? what is the total compensation expense the company recorded in 2015 and 2014? what is the total expenses including 2013?\\nQuestion: what is the average for three years?\"},{\"role\":\"assistant\",\"content\":\"#Python\\ncompensation_expense_2015 = 43\\ncompensation_expense_2014 = 34\\ncompensation_expense_2013 = 44\\ntotal_compensation_expense = compensation_expense_2015 + compensation_expense_2014 + compensation_expense_2013\\naverage_for_three_years = total_compensation_expense / 3\\nans = average_for_three_years\\n\"},{\"role\":\"user\",\"content\":\"Read the following text and table, and then answer the last question in a series of questions:\\nthe net loss on disposal of those assets was $ 344000 for 2005 and $ 43000 for 2004 . \\nQuestions: what was the net loss on disposal of assets in 2005? what was the value in 2004? what was the change in value?\\nQuestion: what was the percent change?\"},{\"role\":\"assistant\",\"content\":\"#Python\\nnet_loss_on_disposal_of_assets_2005 = 344000\\nnet_loss_on_disposal_of_assets_2004 = 43000\\nnet_change_in_value = net_loss_on_disposal_of_assets_2005 - net_loss_on_disposal_of_assets_2004\\npercent_change = net_change_in_value / net_loss_on_disposal_of_assets_2004\\nans = percent_change\\n\"},{\"role\":\"user\",\"content\":\"Read the following text and table, and then answer the last question in a series of questions:\\nlocation | operations conducted | approximatesquare feet | leaseexpirationdates\\ndublin ireland | global supply chain distribution and administration offices | 160000 | owned\\nathlone ireland | commercial research and development manufacturing | 80000 | owned\\nbogart georgia | commercial research and development manufacturing | 70000 | owned\\nsmithfield rhode island | commercial research and development manufacturing | 67000 | owned\\nQuestions: what is the square feet of the owned global supply chain distribution and administration offices? what is the square feet of the owned commercial research and development manufacturing? what is the sum of those values? what is the total sum including square feet of commercial research and development manufacturing in bogart, georgia? what is the total sum including square feet of commercial research and development manufacturing in smithfield, rhode island?\\nQuestion: what is the total sum of square feet owned?\"},{\"role\":\"assistant\",\"content\":\"#Python\\nsquare_feet_owned = [160000, 80000, 70000, 67000]\\ntotal_square_feet_owned = sum(square_feet_owned)\\nans = total_square_feet_owned\"},{\"role\":\"user\",\"content\":\"Read the following text and table, and then answer the last question in a series of questions:  \\nentergy new orleans estimates that approximately 141000 electric customers and 93000 gas customers have returned since hurricane katrina and are taking service as of december 31 , 2008 , compared to approximately 132000 electric customers and 86000 gas customers as of december 31 , 2007 .  \\nQuestions: what was the number of gas customers in 2008? and what was it in 2007? what was, then, the change in that number over the year?  \\nQuestion: and how much does this change represent in relation to the 2007 number of customers, in percentage?\"},{\"role\":\"assistant\",\"content\":\"#Python\\ngas_customers_2008 = 93000\\ngas_customers_2007 = 86000\\nchange_in_gas_customers = gas_customers_2008 - gas_customers_2007\\npercent_change = (change_in_gas_customers / gas_customers_2007) / gas_customers_2007\\nans = percent_change\"}]"
   ]
  },
  {
   "cell_type": "code",
   "execution_count": 11,
   "metadata": {
    "tags": []
   },
   "outputs": [],
   "source": [
    "def create_reader_request_processed(example: Dict[str, Any]):\n",
    "    prompt = 'Read the following text and table, and then answer the last question in a series of questions:\\n'\n",
    "    if example['golden_text']:\n",
    "        prompt += example['golden_text'].strip() + '\\n'\n",
    "    if example['golden_table']:\n",
    "        prompt += example['golden_table'].strip() + '\\n'\n",
    "    #prompt += '\\n'\n",
    "    prompt += 'Questions: '\n",
    "    prompt += \" \".join(example['questions'][:-1])\n",
    "    prompt += '\\n'\n",
    "    prompt += f'Question: {example[\"questions\"][-1]}'\n",
    "    prompt += '\\n'\n",
    "    prompt += 'Answer:'\n",
    "    return prompt"
   ]
  },
  {
   "cell_type": "code",
   "execution_count": 12,
   "metadata": {
    "tags": []
   },
   "outputs": [],
   "source": [
    "def create_reader_request_processed_chat(example: Dict[str, Any]):\n",
    "    prompt = 'Read the following text and table, and then answer the last question in a series of questions:\\n'\n",
    "    if example['golden_text']:\n",
    "        prompt += example['golden_text'].strip() + '\\n'\n",
    "    if example['golden_table']:\n",
    "        prompt += example['golden_table'].strip() + '\\n'\n",
    "    #prompt += '\\n'\n",
    "    prompt += 'Questions: '\n",
    "    prompt += \" \".join(example['questions'][:-1])\n",
    "    prompt += '\\n'\n",
    "    prompt += f'Question: {example[\"questions\"][-1]}'\n",
    "    return prompt"
   ]
  },
  {
   "cell_type": "code",
   "execution_count": 14,
   "metadata": {
    "tags": []
   },
   "outputs": [],
   "source": [
    "incorrect['chatprompt'] = incorrect.apply(lambda x:  prompt_msg_4shot + [{\"role\":\"user\",\"content\":create_reader_request_processed_chat(x)}], axis=1)"
   ]
  },
  {
   "cell_type": "code",
   "execution_count": 15,
   "metadata": {
    "tags": []
   },
   "outputs": [
    {
     "data": {
      "text/plain": [
       "Index(['questions', 'answer', 'text', 'table', 'golden_text', 'golden_table',\n",
       "       'id', 'programs', 'generated', 'executed', 'chatprompt'],\n",
       "      dtype='object')"
      ]
     },
     "execution_count": 15,
     "metadata": {},
     "output_type": "execute_result"
    }
   ],
   "source": [
    "incorrect.columns"
   ]
  },
  {
   "cell_type": "code",
   "execution_count": 16,
   "metadata": {
    "tags": []
   },
   "outputs": [
    {
     "data": {
      "text/html": [
       "<div>\n",
       "<style scoped>\n",
       "    .dataframe tbody tr th:only-of-type {\n",
       "        vertical-align: middle;\n",
       "    }\n",
       "\n",
       "    .dataframe tbody tr th {\n",
       "        vertical-align: top;\n",
       "    }\n",
       "\n",
       "    .dataframe thead th {\n",
       "        text-align: right;\n",
       "    }\n",
       "</style>\n",
       "<table border=\"1\" class=\"dataframe\">\n",
       "  <thead>\n",
       "    <tr style=\"text-align: right;\">\n",
       "      <th></th>\n",
       "      <th>questions</th>\n",
       "      <th>answer</th>\n",
       "      <th>text</th>\n",
       "      <th>table</th>\n",
       "      <th>golden_text</th>\n",
       "      <th>golden_table</th>\n",
       "      <th>id</th>\n",
       "      <th>programs</th>\n",
       "      <th>generated</th>\n",
       "      <th>executed</th>\n",
       "      <th>chatprompt</th>\n",
       "    </tr>\n",
       "  </thead>\n",
       "  <tbody>\n",
       "    <tr>\n",
       "      <th>0</th>\n",
       "      <td>[what was the change in the unamortized debt i...</td>\n",
       "      <td>0.375</td>\n",
       "      <td>as of december 31 , 2017 , the company had gro...</td>\n",
       "      <td>( $ in millions ) | december 31 2017 | decembe...</td>\n",
       "      <td>the company had unamortized debt issuance cost...</td>\n",
       "      <td>( $ in millions ) | december 31 2017 | decembe...</td>\n",
       "      <td>Double_HII/2017/page_104.pdf</td>\n",
       "      <td>[ans = 15 - 19, x0 = 15 - 19; ans = x0 / 19, a...</td>\n",
       "      <td>[#Python\\nunamortized_debt_issuance_costs_seni...</td>\n",
       "      <td>142.402546</td>\n",
       "      <td>[{'role': 'system', 'content': 'You are an AI ...</td>\n",
       "    </tr>\n",
       "    <tr>\n",
       "      <th>1</th>\n",
       "      <td>[how much did the gallons hedged in 2018 repre...</td>\n",
       "      <td>14.0</td>\n",
       "      <td>republic services , inc . notes to consolidate...</td>\n",
       "      <td>year | gallons hedged | weighted average contr...</td>\n",
       "      <td>the aggregate fair values of our outstanding f...</td>\n",
       "      <td>year | gallons hedged | weighted average contr...</td>\n",
       "      <td>Double_RSG/2016/page_144.pdf</td>\n",
       "      <td>[ans = 12000000 / 3000000, ans = 37.8, ans = 2...</td>\n",
       "      <td>[#Python\\ngallons_hedged_2017 = 12000000\\ngall...</td>\n",
       "      <td>-92.857143</td>\n",
       "      <td>[{'role': 'system', 'content': 'You are an AI ...</td>\n",
       "    </tr>\n",
       "    <tr>\n",
       "      <th>2</th>\n",
       "      <td>[what is the amount of oil and gas mmboe from ...</td>\n",
       "      <td>24.69136</td>\n",
       "      <td>the acquisition date is on or after the beginn...</td>\n",
       "      <td>- | oil ( mmbbls ) | gas ( bcf ) | ngls ( mmbb...</td>\n",
       "      <td>oil gas ngls total ( mmbbls ) ( bcf ) ( mmbbls...</td>\n",
       "      <td>- | oil ( mmbbls ) | gas ( bcf ) | ngls ( mmbb...</td>\n",
       "      <td>Single_DVN/2007/page_58.pdf-3</td>\n",
       "      <td>[ans = 60 / 243, x0 = 60 / 243; ans = x0 * 100]</td>\n",
       "      <td>[#Python\\noil_mmboe_canada = 23\\ngas_mmboe_can...</td>\n",
       "      <td>90.946502</td>\n",
       "      <td>[{'role': 'system', 'content': 'You are an AI ...</td>\n",
       "    </tr>\n",
       "    <tr>\n",
       "      <th>3</th>\n",
       "      <td>[what was, in millions, the operating income i...</td>\n",
       "      <td>6.95522</td>\n",
       "      <td>net revenues include $ 3.8 billion in 2017 and...</td>\n",
       "      <td>( in millions ) | for the years ended december...</td>\n",
       "      <td>net earnings attributable to pmi of $ 6.0 bill...</td>\n",
       "      <td>( in millions ) | for the years ended december...</td>\n",
       "      <td>Double_PM/2017/page_38.pdf</td>\n",
       "      <td>[ans = 11503, ans = 10815, ans = 11503 - 10815...</td>\n",
       "      <td>[#Python\\noperating_income_2017 = 11503\\nopera...</td>\n",
       "      <td>#Python\\noperating_income_2017 = 11503\\noperat...</td>\n",
       "      <td>[{'role': 'system', 'content': 'You are an AI ...</td>\n",
       "    </tr>\n",
       "    <tr>\n",
       "      <th>4</th>\n",
       "      <td>[what was the total expense for repairs and ma...</td>\n",
       "      <td>2525.0</td>\n",
       "      <td>are allocated using appropriate statistical ba...</td>\n",
       "      <td>millions | dec . 31 2011 | dec . 31 2010\\nacco...</td>\n",
       "      <td>total expense for repairs and maintenance incu...</td>\n",
       "      <td>millions | dec . 31 2011 | dec . 31 2010\\nacco...</td>\n",
       "      <td>Single_UNP/2011/page_76.pdf-1</td>\n",
       "      <td>[ans = 2.2 * 1000, ans = 325, x0 = 2.2 * 1000;...</td>\n",
       "      <td>[#Python\\ntotal_expense_repairs_maintenance_20...</td>\n",
       "      <td>327.2</td>\n",
       "      <td>[{'role': 'system', 'content': 'You are an AI ...</td>\n",
       "    </tr>\n",
       "    <tr>\n",
       "      <th>...</th>\n",
       "      <td>...</td>\n",
       "      <td>...</td>\n",
       "      <td>...</td>\n",
       "      <td>...</td>\n",
       "      <td>...</td>\n",
       "      <td>...</td>\n",
       "      <td>...</td>\n",
       "      <td>...</td>\n",
       "      <td>...</td>\n",
       "      <td>...</td>\n",
       "      <td>...</td>\n",
       "    </tr>\n",
       "    <tr>\n",
       "      <th>133</th>\n",
       "      <td>[what was the high sales price in the second q...</td>\n",
       "      <td>0.12524</td>\n",
       "      <td>part ii item 5 . market for registrant 2019s c...</td>\n",
       "      <td>quarter | 2016 high | 2016 low | 2016 dividend...</td>\n",
       "      <td>the following table sets forth , for the perio...</td>\n",
       "      <td>quarter | 2016 high | 2016 low | 2016 dividend...</td>\n",
       "      <td>Single_HWM/2016/page_40.pdf-2</td>\n",
       "      <td>[ans = 34.50, ans = 30.66, ans = 34.50 / 30.66...</td>\n",
       "      <td>[#Python\\nhigh_sales_price_2Q2016 = 42.87\\nhig...</td>\n",
       "      <td>-0.164327</td>\n",
       "      <td>[{'role': 'system', 'content': 'You are an AI ...</td>\n",
       "    </tr>\n",
       "    <tr>\n",
       "      <th>134</th>\n",
       "      <td>[what is the highest stock price in the second...</td>\n",
       "      <td>25.205</td>\n",
       "      <td>part ii item 5 . market for registrant 2019s c...</td>\n",
       "      <td>quarter | 2017 high | 2017 low | 2017 dividend...</td>\n",
       "      <td>the following table sets forth , for the perio...</td>\n",
       "      <td>quarter | 2017 high | 2017 low | 2017 dividend...</td>\n",
       "      <td>Single_HWM/2017/page_41.pdf-2</td>\n",
       "      <td>[ans = 28.65, ans = 21.76, ans = 28.65 + 21.76...</td>\n",
       "      <td>[#Python\\nhighest_stock_price_2017_Q2 = 34.50\\...</td>\n",
       "      <td>30.42</td>\n",
       "      <td>[{'role': 'system', 'content': 'You are an AI ...</td>\n",
       "    </tr>\n",
       "    <tr>\n",
       "      <th>135</th>\n",
       "      <td>[what was the amount of long-term debt maturit...</td>\n",
       "      <td>0.07039</td>\n",
       "      <td>entergy corporation and subsidiaries notes to ...</td>\n",
       "      <td>- | amount ( in thousands )\\n2016 | $ 204079\\n...</td>\n",
       "      <td>entergy arkansas is the only entergy company t...</td>\n",
       "      <td>- | amount ( in thousands )\\n2018 | $ 822690\\n...</td>\n",
       "      <td>Single_ETR/2015/page_131.pdf-3</td>\n",
       "      <td>[ans = 822690, ans = 768588, ans = 822690 - 76...</td>\n",
       "      <td>[#Python\\nlong_term_debt_maturities_2018 = 822...</td>\n",
       "      <td>-6.576232</td>\n",
       "      <td>[{'role': 'system', 'content': 'You are an AI ...</td>\n",
       "    </tr>\n",
       "    <tr>\n",
       "      <th>136</th>\n",
       "      <td>[between the years of 2017 and 2018, what was ...</td>\n",
       "      <td>0.0</td>\n",
       "      <td>table of contents adobe inc . notes to consoli...</td>\n",
       "      <td>- | 2018 | 2017\\nbeginning balance | $ 172945 ...</td>\n",
       "      <td>to the extent that the foreign earnings previo...</td>\n",
       "      <td>- | 2018 | 2017\\nending balance | $ 196152 | $...</td>\n",
       "      <td>Double_ADBE/2018/page_86.pdf</td>\n",
       "      <td>[ans = 196152 - 172945, ans = 172945, x0 = 196...</td>\n",
       "      <td>[#Python\\ntotal_gross_amount_of_unrecognized_t...</td>\n",
       "      <td>192.45283</td>\n",
       "      <td>[{'role': 'system', 'content': 'You are an AI ...</td>\n",
       "    </tr>\n",
       "    <tr>\n",
       "      <th>137</th>\n",
       "      <td>[what was the difference in rent payment after...</td>\n",
       "      <td>0.13793</td>\n",
       "      <td>used to refinance certain indebtedness which m...</td>\n",
       "      <td>year | amount\\n2018 | 141\\n2019 | 132\\n2020 | ...</td>\n",
       "      <td>the lease requires annual base rental payments...</td>\n",
       "      <td></td>\n",
       "      <td>Single_BLK/2017/page_122.pdf-3</td>\n",
       "      <td>[ans = 66 - 58, ans = 58, x0 = 66 - 58; ans = ...</td>\n",
       "      <td>[#Python\\nrent_payment_after_5_years = 5100000...</td>\n",
       "      <td>0.026057</td>\n",
       "      <td>[{'role': 'system', 'content': 'You are an AI ...</td>\n",
       "    </tr>\n",
       "  </tbody>\n",
       "</table>\n",
       "<p>138 rows × 11 columns</p>\n",
       "</div>"
      ],
      "text/plain": [
       "                                             questions    answer  \\\n",
       "0    [what was the change in the unamortized debt i...     0.375   \n",
       "1    [how much did the gallons hedged in 2018 repre...      14.0   \n",
       "2    [what is the amount of oil and gas mmboe from ...  24.69136   \n",
       "3    [what was, in millions, the operating income i...   6.95522   \n",
       "4    [what was the total expense for repairs and ma...    2525.0   \n",
       "..                                                 ...       ...   \n",
       "133  [what was the high sales price in the second q...   0.12524   \n",
       "134  [what is the highest stock price in the second...    25.205   \n",
       "135  [what was the amount of long-term debt maturit...   0.07039   \n",
       "136  [between the years of 2017 and 2018, what was ...       0.0   \n",
       "137  [what was the difference in rent payment after...   0.13793   \n",
       "\n",
       "                                                  text  \\\n",
       "0    as of december 31 , 2017 , the company had gro...   \n",
       "1    republic services , inc . notes to consolidate...   \n",
       "2    the acquisition date is on or after the beginn...   \n",
       "3    net revenues include $ 3.8 billion in 2017 and...   \n",
       "4    are allocated using appropriate statistical ba...   \n",
       "..                                                 ...   \n",
       "133  part ii item 5 . market for registrant 2019s c...   \n",
       "134  part ii item 5 . market for registrant 2019s c...   \n",
       "135  entergy corporation and subsidiaries notes to ...   \n",
       "136  table of contents adobe inc . notes to consoli...   \n",
       "137  used to refinance certain indebtedness which m...   \n",
       "\n",
       "                                                 table  \\\n",
       "0    ( $ in millions ) | december 31 2017 | decembe...   \n",
       "1    year | gallons hedged | weighted average contr...   \n",
       "2    - | oil ( mmbbls ) | gas ( bcf ) | ngls ( mmbb...   \n",
       "3    ( in millions ) | for the years ended december...   \n",
       "4    millions | dec . 31 2011 | dec . 31 2010\\nacco...   \n",
       "..                                                 ...   \n",
       "133  quarter | 2016 high | 2016 low | 2016 dividend...   \n",
       "134  quarter | 2017 high | 2017 low | 2017 dividend...   \n",
       "135  - | amount ( in thousands )\\n2016 | $ 204079\\n...   \n",
       "136  - | 2018 | 2017\\nbeginning balance | $ 172945 ...   \n",
       "137  year | amount\\n2018 | 141\\n2019 | 132\\n2020 | ...   \n",
       "\n",
       "                                           golden_text  \\\n",
       "0    the company had unamortized debt issuance cost...   \n",
       "1    the aggregate fair values of our outstanding f...   \n",
       "2    oil gas ngls total ( mmbbls ) ( bcf ) ( mmbbls...   \n",
       "3    net earnings attributable to pmi of $ 6.0 bill...   \n",
       "4    total expense for repairs and maintenance incu...   \n",
       "..                                                 ...   \n",
       "133  the following table sets forth , for the perio...   \n",
       "134  the following table sets forth , for the perio...   \n",
       "135  entergy arkansas is the only entergy company t...   \n",
       "136  to the extent that the foreign earnings previo...   \n",
       "137  the lease requires annual base rental payments...   \n",
       "\n",
       "                                          golden_table  \\\n",
       "0    ( $ in millions ) | december 31 2017 | decembe...   \n",
       "1    year | gallons hedged | weighted average contr...   \n",
       "2    - | oil ( mmbbls ) | gas ( bcf ) | ngls ( mmbb...   \n",
       "3    ( in millions ) | for the years ended december...   \n",
       "4    millions | dec . 31 2011 | dec . 31 2010\\nacco...   \n",
       "..                                                 ...   \n",
       "133  quarter | 2016 high | 2016 low | 2016 dividend...   \n",
       "134  quarter | 2017 high | 2017 low | 2017 dividend...   \n",
       "135  - | amount ( in thousands )\\n2018 | $ 822690\\n...   \n",
       "136  - | 2018 | 2017\\nending balance | $ 196152 | $...   \n",
       "137                                                      \n",
       "\n",
       "                                 id  \\\n",
       "0      Double_HII/2017/page_104.pdf   \n",
       "1      Double_RSG/2016/page_144.pdf   \n",
       "2     Single_DVN/2007/page_58.pdf-3   \n",
       "3        Double_PM/2017/page_38.pdf   \n",
       "4     Single_UNP/2011/page_76.pdf-1   \n",
       "..                              ...   \n",
       "133   Single_HWM/2016/page_40.pdf-2   \n",
       "134   Single_HWM/2017/page_41.pdf-2   \n",
       "135  Single_ETR/2015/page_131.pdf-3   \n",
       "136    Double_ADBE/2018/page_86.pdf   \n",
       "137  Single_BLK/2017/page_122.pdf-3   \n",
       "\n",
       "                                              programs  \\\n",
       "0    [ans = 15 - 19, x0 = 15 - 19; ans = x0 / 19, a...   \n",
       "1    [ans = 12000000 / 3000000, ans = 37.8, ans = 2...   \n",
       "2      [ans = 60 / 243, x0 = 60 / 243; ans = x0 * 100]   \n",
       "3    [ans = 11503, ans = 10815, ans = 11503 - 10815...   \n",
       "4    [ans = 2.2 * 1000, ans = 325, x0 = 2.2 * 1000;...   \n",
       "..                                                 ...   \n",
       "133  [ans = 34.50, ans = 30.66, ans = 34.50 / 30.66...   \n",
       "134  [ans = 28.65, ans = 21.76, ans = 28.65 + 21.76...   \n",
       "135  [ans = 822690, ans = 768588, ans = 822690 - 76...   \n",
       "136  [ans = 196152 - 172945, ans = 172945, x0 = 196...   \n",
       "137  [ans = 66 - 58, ans = 58, x0 = 66 - 58; ans = ...   \n",
       "\n",
       "                                             generated  \\\n",
       "0    [#Python\\nunamortized_debt_issuance_costs_seni...   \n",
       "1    [#Python\\ngallons_hedged_2017 = 12000000\\ngall...   \n",
       "2    [#Python\\noil_mmboe_canada = 23\\ngas_mmboe_can...   \n",
       "3    [#Python\\noperating_income_2017 = 11503\\nopera...   \n",
       "4    [#Python\\ntotal_expense_repairs_maintenance_20...   \n",
       "..                                                 ...   \n",
       "133  [#Python\\nhigh_sales_price_2Q2016 = 42.87\\nhig...   \n",
       "134  [#Python\\nhighest_stock_price_2017_Q2 = 34.50\\...   \n",
       "135  [#Python\\nlong_term_debt_maturities_2018 = 822...   \n",
       "136  [#Python\\ntotal_gross_amount_of_unrecognized_t...   \n",
       "137  [#Python\\nrent_payment_after_5_years = 5100000...   \n",
       "\n",
       "                                              executed  \\\n",
       "0                                           142.402546   \n",
       "1                                           -92.857143   \n",
       "2                                            90.946502   \n",
       "3    #Python\\noperating_income_2017 = 11503\\noperat...   \n",
       "4                                                327.2   \n",
       "..                                                 ...   \n",
       "133                                          -0.164327   \n",
       "134                                              30.42   \n",
       "135                                          -6.576232   \n",
       "136                                          192.45283   \n",
       "137                                           0.026057   \n",
       "\n",
       "                                            chatprompt  \n",
       "0    [{'role': 'system', 'content': 'You are an AI ...  \n",
       "1    [{'role': 'system', 'content': 'You are an AI ...  \n",
       "2    [{'role': 'system', 'content': 'You are an AI ...  \n",
       "3    [{'role': 'system', 'content': 'You are an AI ...  \n",
       "4    [{'role': 'system', 'content': 'You are an AI ...  \n",
       "..                                                 ...  \n",
       "133  [{'role': 'system', 'content': 'You are an AI ...  \n",
       "134  [{'role': 'system', 'content': 'You are an AI ...  \n",
       "135  [{'role': 'system', 'content': 'You are an AI ...  \n",
       "136  [{'role': 'system', 'content': 'You are an AI ...  \n",
       "137  [{'role': 'system', 'content': 'You are an AI ...  \n",
       "\n",
       "[138 rows x 11 columns]"
      ]
     },
     "execution_count": 16,
     "metadata": {},
     "output_type": "execute_result"
    }
   ],
   "source": [
    "incorrect"
   ]
  },
  {
   "cell_type": "code",
   "execution_count": 149,
   "metadata": {
    "tags": []
   },
   "outputs": [
    {
     "name": "stdout",
     "output_type": "stream",
     "text": [
      "[{'role': 'system', 'content': 'You are an AI assistant that helps people find information.'}, {'role': 'user', 'content': 'Read the following text and table, and then answer the last question in a series of questions:\\n- | shares available for awards | shares subject to outstanding awards\\n2009 global incentive plan | 2322450 | 2530454\\n2004 stock incentive plan | - | 5923147\\nQuestions: how many shares are subject to outstanding awards is under the 2009 global incentive plan? what about under the 2004 stock incentive plan? how many total shares are subject to outstanding awards? what about under the 2004 stock incentive plan?\\nQuestion: what proportion does this represent?'}, {'role': 'assistant', 'content': '#Python\\nshares_subject_to_outstanding_awards_2009_global_incentive_plan = 2530454\\nshares_subject_to_outstanding_awards_2004_stock_incentive_plan = 5923147\\ntotal_shares_subject_to_outstanding_awards = shares_subject_to_outstanding_awards_2009_global_incentive_plan + shares_subject_to_outstanding_awards_2004_stock_incentive_plan\\nproportion = shares_subject_to_outstanding_awards_2009_global_incentive_plan / total_shares_subject_to_outstanding_awards\\nans = proportion'}, {'role': 'user', 'content': 'Read the following text and table, and then answer the last question in a series of questions:\\ncompensation expense the company recorded $ 43 million , $ 34 million , and $ 44 million of expense related to stock awards for the years ended december 31 , 2015 , 2014 , and 2013 , respectively . \\nQuestions: what is the compensation expense the company recorded in 2015? what about in 2014? what is the total compensation expense the company recorded in 2015 and 2014? what is the total expenses including 2013?\\nQuestion: what is the average for three years?'}, {'role': 'assistant', 'content': '#Python\\ncompensation_expense_2015 = 43\\ncompensation_expense_2014 = 34\\ncompensation_expense_2013 = 44\\ntotal_compensation_expense = compensation_expense_2015 + compensation_expense_2014 + compensation_expense_2013\\naverage_for_three_years = total_compensation_expense / 3\\nans = average_for_three_years\\n'}, {'role': 'user', 'content': 'Read the following text and table, and then answer the last question in a series of questions:\\nthe net loss on disposal of those assets was $ 344000 for 2005 and $ 43000 for 2004 . \\nQuestions: what was the net loss on disposal of assets in 2005? what was the value in 2004? what was the change in value?\\nQuestion: what was the percent change?'}, {'role': 'assistant', 'content': '#Python\\nnet_loss_on_disposal_of_assets_2005 = 344000\\nnet_loss_on_disposal_of_assets_2004 = 43000\\nnet_change_in_value = net_loss_on_disposal_of_assets_2005 - net_loss_on_disposal_of_assets_2004\\npercent_change = net_change_in_value / net_loss_on_disposal_of_assets_2004\\nans = percent_change\\n'}, {'role': 'user', 'content': 'Read the following text and table, and then answer the last question in a series of questions:\\nlocation | operations conducted | approximatesquare feet | leaseexpirationdates\\ndublin ireland | global supply chain distribution and administration offices | 160000 | owned\\nathlone ireland | commercial research and development manufacturing | 80000 | owned\\nbogart georgia | commercial research and development manufacturing | 70000 | owned\\nsmithfield rhode island | commercial research and development manufacturing | 67000 | owned\\nQuestions: what is the square feet of the owned global supply chain distribution and administration offices? what is the square feet of the owned commercial research and development manufacturing? what is the sum of those values? what is the total sum including square feet of commercial research and development manufacturing in bogart, georgia? what is the total sum including square feet of commercial research and development manufacturing in smithfield, rhode island?\\nQuestion: what is the total sum of square feet owned?'}, {'role': 'assistant', 'content': '#Python\\nsquare_feet_owned = [160000, 80000, 70000, 67000]\\ntotal_square_feet_owned = sum(square_feet_owned)\\nans = total_square_feet_owned'}, {'role': 'user', 'content': 'Read the following text and table, and then answer the last question in a series of questions:  \\nentergy new orleans estimates that approximately 141000 electric customers and 93000 gas customers have returned since hurricane katrina and are taking service as of december 31 , 2008 , compared to approximately 132000 electric customers and 86000 gas customers as of december 31 , 2007 .  \\nQuestions: what was the number of gas customers in 2008? and what was it in 2007? what was, then, the change in that number over the year?  \\nQuestion: and how much does this change represent in relation to the 2007 number of customers, in percentage?'}, {'role': 'assistant', 'content': '#Python\\ngas_customers_2008 = 93000\\ngas_customers_2007 = 86000\\nchange_in_gas_customers = gas_customers_2008 - gas_customers_2007\\npercent_change = (change_in_gas_customers / gas_customers_2007) / gas_customers_2007\\nans = percent_change'}, {'role': 'user', 'content': 'Read the following text and table, and then answer the last question in a series of questions:\\n( losses ) earnings ( in millions ) | ( losses ) earnings 2015 | ( losses ) earnings 2014 | 2013\\ntotal accumulated other comprehensive losses | $ -9402 ( 9402 ) | $ -6826 ( 6826 ) | $ -4190 ( 4190 )\\nQuestions: what is the net change in the value of total accumulated other comprehensive losses from 2013 or 2014? what is the value in 2013?\\nQuestion: what is the net change over the 2013 value?'}]\n"
     ]
    }
   ],
   "source": [
    "print(incorrect['chatprompt'][100])\n"
   ]
  },
  {
   "cell_type": "code",
   "execution_count": 148,
   "metadata": {
    "tags": []
   },
   "outputs": [
    {
     "name": "stdout",
     "output_type": "stream",
     "text": [
      "accumulated other comprehensive losses : pmi's accumulated other comprehensive losses , net of taxes , consisted of the following: . reclassifications from other comprehensive earnings the movements in accumulated other comprehensive losses and the related tax impact , for each of the components above , that are due to current period activity and reclassifications to the income statement are shown on the consolidated statements of comprehensive earnings for the years ended december 31 , 2015 , 2014 , and 2013 . the movement in currency translation adjustments for the year ended december 31 , 2013 , was also impacted by the purchase of the remaining shares of the mexican tobacco business . in addition , $ 1 million , $ 5 million and $ 12 million of net currency translation adjustment gains were transferred from other comprehensive earnings to marketing , administration and research costs in the consolidated statements of earnings for the years ended december 31 , 2015 , 2014 and 2013 , respectively , upon liquidation of subsidiaries . for additional information , see note 13 . benefit plans and note 15 . financial instruments for disclosures related to pmi's pension and other benefits and derivative financial instruments . colombian investment and cooperation agreement : on june 19 , 2009 , pmi announced that it had signed an agreement with the republic of colombia , together with the departments of colombia and the capital district of bogota , to promote investment and cooperation with respect to the colombian tobacco market and to fight counterfeit and contraband tobacco products . the investment and cooperation agreement provides $ 200 million in funding to the colombian governments over a 20-year period to address issues of mutual interest , such as combating the illegal cigarette trade , including the threat of counterfeit tobacco products , and increasing the quality and quantity of locally grown tobacco . as a result of the investment and cooperation agreement , pmi recorded a pre-tax charge of $ 135 million in the operating results of the latin america & canada segment during the second quarter of 2009 . at december 31 , 2015 and 2014 , pmi had $ 73 million and $ 71 million , respectively , of discounted liabilities associated with the colombian investment and cooperation agreement . these discounted liabilities are primarily reflected in other long-term liabilities on the consolidated balance sheets and are expected to be paid through 2028 . rbh legal settlement : on july 31 , 2008 , rothmans inc . ( \"rothmans\" ) announced the finalization of a cad 550 million settlement ( or approximately $ 540 million , based on the prevailing exchange rate at that time ) between itself and rothmans , benson & hedges inc . ( \"rbh\" ) , on the one hand , and the government of canada and all 10 provinces , on the other hand . the settlement resolved the royal canadian mounted police's investigation relating to products exported from canada by rbh during the 1989-1996 period . rothmans' sole holding was a 60% ( 60 % ) interest in rbh . the remaining 40% ( 40 % ) interest in rbh was owned by pmi. .\n",
      "['what is the net change in the value of total accumulated other comprehensive losses from 2013 or 2014?', 'what is the value in 2013?', 'what is the net change over the 2013 value?']\n",
      "--------\n",
      "#Python\n",
      "total_accumulated_losses_2015 = -9402\n",
      "total_accumulated_losses_2014 = -6826\n",
      "total_accumulated_losses_2013 = -4190\n",
      "net_change_2013_to_2014 = total_accumulated_losses_2014 - total_accumulated_losses_2013\n",
      "net_change_over_2013_value = total_accumulated_losses_2015 - total_accumulated_losses_2013\n",
      "ans = net_change_over_2013_value\n",
      "--------\n",
      "\n",
      "--------\n",
      "( losses ) earnings ( in millions ) | ( losses ) earnings 2015 | ( losses ) earnings 2014 | 2013\n",
      "total accumulated other comprehensive losses | $ -9402 ( 9402 ) | $ -6826 ( 6826 ) | $ -4190 ( 4190 )\n",
      "\n",
      "--------\n",
      "['ans = 6826 - 4190', 'ans = 4190', 'x0 = 6826 - 4190; ans = x0 / 4190']\n",
      "0.62912\n"
     ]
    }
   ],
   "source": [
    "i=100\n",
    "print(incorrect['text'][i])\n",
    "print(incorrect['questions'][i])\n",
    "print('--------')\n",
    "print(incorrect['generated'][i][0])\n",
    "print('--------')\n",
    "print(incorrect['golden_text'][i])\n",
    "print('--------')\n",
    "print(incorrect['golden_table'][i])\n",
    "print('--------')\n",
    "print(incorrect['programs'][i])\n",
    "print(incorrect['answer'][i])\n"
   ]
  },
  {
   "cell_type": "code",
   "execution_count": null,
   "metadata": {},
   "outputs": [],
   "source": []
  }
 ],
 "metadata": {
  "kernelspec": {
   "display_name": "gradio",
   "language": "python",
   "name": "gradio"
  },
  "language_info": {
   "codemirror_mode": {
    "name": "ipython",
    "version": 3
   },
   "file_extension": ".py",
   "mimetype": "text/x-python",
   "name": "python",
   "nbconvert_exporter": "python",
   "pygments_lexer": "ipython3",
   "version": "3.10.9"
  }
 },
 "nbformat": 4,
 "nbformat_minor": 5
}
