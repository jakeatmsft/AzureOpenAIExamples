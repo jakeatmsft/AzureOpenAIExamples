{
 "cells": [
  {
   "cell_type": "code",
   "execution_count": 3,
   "id": "30829697-ea9d-4e11-a530-2776b6c0e752",
   "metadata": {},
   "outputs": [],
   "source": [
    "import json\n",
    "import io\n",
    "from configparser import ConfigParser"
   ]
  },
  {
   "cell_type": "code",
   "execution_count": 4,
   "id": "e98c08a4-337c-4c84-b030-a94ce50e60a2",
   "metadata": {},
   "outputs": [],
   "source": [
    "form_json = ''\n",
    "# Form Recognizer results generated and saved to json \n",
    "with open('./Life_application_example.png.json', 'r') as form_file:\n",
    "    form_json = json.loads(form_file.read())"
   ]
  },
  {
   "cell_type": "code",
   "execution_count": 5,
   "id": "71f0fdfc-4858-411c-adac-22719dab96d2",
   "metadata": {},
   "outputs": [],
   "source": [
    "form_kvp = []\n",
    "for kvp in form_json['analyzeResult']['keyValuePairs']:\n",
    "    if(kvp.get('key') is not None and kvp.get('value') is not None ):\n",
    "        form_kvp.append((kvp['key']['content'],kvp['value']['content']))\n",
    "        #print(\"{} - {}\".format(kvp['key']['content'],kvp['value']['content']))\n",
    "\n",
    "    "
   ]
  },
  {
   "cell_type": "markdown",
   "id": "c628663f-1ee2-41d0-86f7-8fcf0a22b80a",
   "metadata": {},
   "source": [
    "# Validate Form Recognizer Outputs with OpenAI"
   ]
  },
  {
   "cell_type": "code",
   "execution_count": 6,
   "id": "7fef45bb-045a-473a-b7f8-5bca7b870a2c",
   "metadata": {},
   "outputs": [],
   "source": [
    "import os\n",
    "import openai\n",
    "from configparser import ConfigParser\n",
    "\n",
    "parser=ConfigParser()\n",
    "_=parser.read('../config.cfg')\n",
    "openai.api_type = \"azure\"\n",
    "openai.api_base = parser.get('openai_api','api_ep')\n",
    "openai.api_version = \"2022-06-01-preview\"\n",
    "openai.api_key = parser.get('openai_api','api_key')\n",
    "model =  parser.get('openai_api','api_model')"
   ]
  },
  {
   "cell_type": "code",
   "execution_count": 7,
   "id": "cdcb3062-9e23-40db-9a31-7a818143731d",
   "metadata": {},
   "outputs": [
    {
     "name": "stdout",
     "output_type": "stream",
     "text": [
      "Name (First, MI, Last) - Mark B. Cuban: True\n",
      "S.SN / T - 444-82-6666: True\n",
      "Address - 91 Richmond St.: True\n",
      "City - Dallas: False\n",
      "Zip Code - 75201: True\n",
      "Former Name - Michael Jackson: False\n",
      "M - :selected:: False\n",
      "OF - :unselected:: False\n",
      "Date of Birth (mm/dd/yyyy) - 1/1/70: True\n",
      "State of Birth - TX: True\n"
     ]
    }
   ],
   "source": [
    "for e in form_kvp[:10]:\n",
    "    #print(e)\n",
    "    prompt = \"Validate following text is type of {} with True or False:\\n'''{}'''\\n\".format(e[0], e[1])\n",
    "    response = openai.Completion.create( engine=model,  prompt=prompt, temperature=.5,  max_tokens=400,  top_p=0.5,  frequency_penalty=0,  presence_penalty=0,  stop=None)\n",
    "    #print('Response:')\n",
    "    print(\"{} - {}: {}\".format(e[0],e[1],response['choices'][0]['text'].strip()))"
   ]
  },
  {
   "cell_type": "markdown",
   "id": "f7f1fb1e-1f56-429c-8116-be4844e097ff",
   "metadata": {},
   "source": [
    "# Correct Form Recognizer Results with OpenAI"
   ]
  },
  {
   "cell_type": "code",
   "execution_count": 8,
   "id": "dc4a6d7a-84cc-49c1-881c-d14f28e9d772",
   "metadata": {},
   "outputs": [],
   "source": [
    "import os\n",
    "import openai\n",
    "from configparser import ConfigParser\n",
    "\n",
    "parser=ConfigParser()\n",
    "_=parser.read('../config.cfg')\n",
    "openai.api_type = \"azure\"\n",
    "openai.api_base = parser.get('openai_api','api_ep')\n",
    "openai.api_version = \"2022-06-01-preview\"\n",
    "openai.api_key = parser.get('openai_api','api_key')\n",
    "model =  parser.get('openai_api','api_model')"
   ]
  },
  {
   "cell_type": "code",
   "execution_count": 9,
   "id": "8d45ce48-64df-45ae-8d85-fdb2bfd0c326",
   "metadata": {},
   "outputs": [
    {
     "name": "stdout",
     "output_type": "stream",
     "text": [
      "Name (First, MI, Last) - Mark B. Cuban: Mark Cuban\n",
      "S.SN / T - 444-82-6666: S.SN: 444-82-6666\n",
      "Address - 91 Richmond St.: 91 Richmond Street\n",
      "City - Dallas: Dallas\n",
      "Zip Code - 75201: 75201\n",
      "Former Name - Michael Jackson: Michael Jackson\n",
      "M - :selected:: :selected:\n",
      "OF - :unselected:: :unselected:\n",
      "Date of Birth (mm/dd/yyyy) - 1/1/70: 01/01/1970\n",
      "State of Birth - TX: Texas\n"
     ]
    }
   ],
   "source": [
    "# Corrects the first 10 form key value pairs\n",
    "for e in form_kvp[:10]:\n",
    "    #print(e)\n",
    "    prompt = \"Reformat following text to type of {}:\\n'''{}'''\\n\".format(e[0], e[1])\n",
    "    response = openai.Completion.create( engine=model,  prompt=prompt, temperature=.5,  max_tokens=400,  top_p=0.5,  frequency_penalty=0,  presence_penalty=0,  stop=None)\n",
    "    #print('Response:')\n",
    "    print(\"{} - {}: {}\".format(e[0],e[1],response['choices'][0]['text'].strip()))"
   ]
  },
  {
   "cell_type": "code",
   "execution_count": null,
   "id": "d9eded5e-6701-449f-b855-58a588c9dfaa",
   "metadata": {},
   "outputs": [],
   "source": []
  }
 ],
 "metadata": {
  "kernelspec": {
   "display_name": "py38",
   "language": "python",
   "name": "py38"
  },
  "language_info": {
   "codemirror_mode": {
    "name": "ipython",
    "version": 3
   },
   "file_extension": ".py",
   "mimetype": "text/x-python",
   "name": "python",
   "nbconvert_exporter": "python",
   "pygments_lexer": "ipython3",
   "version": "3.8.10"
  }
 },
 "nbformat": 4,
 "nbformat_minor": 5
}
