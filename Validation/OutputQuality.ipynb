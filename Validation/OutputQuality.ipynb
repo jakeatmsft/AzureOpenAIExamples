{
 "cells": [
  {
   "cell_type": "code",
   "execution_count": 1,
   "id": "18d3a840",
   "metadata": {},
   "outputs": [],
   "source": [
    "import os\n",
    "import openai\n",
    "from configparser import ConfigParser\n",
    "\n",
    "parser=ConfigParser()\n",
    "_=parser.read('../Examples/config.cfg')\n",
    "openai.api_type = \"azure\"\n",
    "openai.api_base = parser.get('openai_api','api_ep')\n",
    "openai.api_version = \"2022-06-01-preview\"\n",
    "openai.api_key = parser.get('openai_api','api_key')\n",
    "model =  parser.get('openai_api','api_model')"
   ]
  },
  {
   "cell_type": "code",
   "execution_count": 2,
   "id": "43817644",
   "metadata": {},
   "outputs": [],
   "source": [
    "prompt= '''Provide conversation summary points of the following text:\n",
    "\n",
    "Text:\n",
    "###\n",
    "{'displayName': 'Conversation Task Example', 'analysisInput': {'conversations': [{'conversationItems': [{'text': 'Hi, thank you for calling Contoso pharmacy. Who am I speaking with today?', 'id': 1, 'role': 'Agent', 'participantId': 'Agent_1'}, {'text': \"Good afternoon. My name is Mary. I'm calling about a refill for my prescribed medications. I have been trying to get ahold of someone for weeks and was told that I would get a call back regarding my situation, but it's been weeks and no one's contacted me, so I thought I'd call.\", 'id': 2, 'role': 'Customer', 'participantId': 'Customer_2'}, {'text': \"I understand your frustration, Mary. Umm, can you tell me what exactly you're trying to accomplish?\", 'id': 3, 'role': 'Agent', 'participantId': 'Agent_1'}, {'text': \"Yes, I'm trying to get a refill of my prescription drugs that the my doctor prescribed to me for cholesterol.\", 'id': 4, 'role': 'Customer', 'participantId': 'Customer_2'}, {'text': 'I see here that you were on a generic form of Lipitor, is that right?', 'id': 5, 'role': 'Agent', 'participantId': 'Agent_1'}, {'text': 'Uh, yes, I was taking the generic form of Lipitor.', 'id': 6, 'role': 'Customer', 'participantId': 'Customer_2'}, {'text': 'OK, uh, so I see that your doctor stopped prescribing these drugs in 2021, actually.', 'id': 7, 'role': 'Agent', 'participantId': 'Agent_1'}, {'text': \"Oh really? That doesn't sound right. I don't remember him cancelling my prescription.\", 'id': 8, 'role': 'Customer', 'participantId': 'Customer_2'}, {'text': \"OK, uh, yeah, I'd be happy to check that for you. Uh, because sometimes there's a gap in the system and it just doesn't get reported. So let me take a look here.\", 'id': 9, 'role': 'Agent', 'participantId': 'Agent_1'}, {'text': 'Just a moment.', 'id': 10, 'role': 'Customer', 'participantId': 'Customer_2'}, {'text': \"So I'm seeing here that your doctor had these drugs prescribed to you from 2012 through 2021.\", 'id': 11, 'role': 'Agent', 'participantId': 'Agent_1'}, {'text': \"Ohh huh, I mean, I'm definitely supposed to be taking something else. Uh, would you check please?\", 'id': 12, 'role': 'Customer', 'participantId': 'Customer_2'}, {'text': \"OK. Uh, yeah. According to the latest records, uh, provided by doctor's office, you're now on a different drug, metformin. Would you like us to go ahead and fill that prescription for you for pick up a bit of form in 500 milligrams?\", 'id': 13, 'role': 'Agent', 'participantId': 'Agent_1'}, {'text': \"Yeah, yeah. Thank you so much. I'm almost out, so that'd be perfect.\", 'id': 14, 'role': 'Customer', 'participantId': 'Customer_2'}, {'text': \"Uh, you're very welcome, Mary. Please let us know if there's anything else we can do for you today.\", 'id': 15, 'role': 'Agent', 'participantId': 'Agent_1'}, {'text': 'OK. Thank you.', 'id': 16, 'role': 'Customer', 'participantId': 'Customer_2'}], 'modality': 'text', 'id': 'conversation1', 'language': 'en'}]}, 'tasks': [{'taskName': 'analyze 1', 'kind': 'ConversationalSummarizationTask', 'parameters': {'summaryAspects': ['chaptertitle', 'issue', 'resolution', 'narrative']}}]}\n",
    "###\n",
    "\n",
    "Result:\n",
    "-'''"
   ]
  },
  {
   "cell_type": "code",
   "execution_count": 3,
   "id": "9e6ff21c",
   "metadata": {},
   "outputs": [
    {
     "name": "stdout",
     "output_type": "stream",
     "text": [
      "Response:\n",
      "- The customer is trying to refill a prescription for cholesterol medication, but the doctor stopped prescribing the medication in 2021.\n",
      "- The agent checks the records and finds that the customer is now on a different medication, metformin.\n",
      "- The agent offers to fill the prescription for the customer.\n",
      "- The customer thanks the agent and ends the call.\n"
     ]
    }
   ],
   "source": [
    "response = openai.Completion.create( engine='davinci2',  prompt=prompt, temperature=.5,  max_tokens=400,  top_p=0.5,  frequency_penalty=0,  presence_penalty=0,  stop=None)\n",
    "\n",
    "print('Response:')\n",
    "a = '-'+response['choices'][0]['text']\n",
    "print(a)"
   ]
  },
  {
   "cell_type": "code",
   "execution_count": 4,
   "id": "a735c904",
   "metadata": {},
   "outputs": [
    {
     "name": "stdout",
     "output_type": "stream",
     "text": [
      "Response:\n",
      "-The caller, Mary, is trying to get a refill for her prescribed medications that the her doctor prescribed to her for cholesterol.\n",
      "-According to the latest records, she is now on a different drug, metformin.\n",
      "-The agent can check to see if there is a gap in the system that may have prevented her from being contacted about her prescription.\n"
     ]
    }
   ],
   "source": [
    "response = openai.Completion.create( engine='text-curie-001',  prompt=prompt, temperature=.5,  max_tokens=400,  top_p=0.5,  frequency_penalty=0,  presence_penalty=0,  stop=None)\n",
    "\n",
    "print('Response:')\n",
    "b = '-'+response['choices'][0]['text']\n",
    "print(b)"
   ]
  },
  {
   "cell_type": "code",
   "execution_count": 5,
   "id": "75328576",
   "metadata": {},
   "outputs": [
    {
     "name": "stdout",
     "output_type": "stream",
     "text": [
      "{'num_sentences': 4, 'num_words': 60, 'num_syllables': 94}\n",
      "{'readability': 59.07, 'grade': '11th Grade'}\n"
     ]
    }
   ],
   "source": [
    "import fkscore\n",
    "\n",
    "f = fkscore.fkscore(a)\n",
    "print(f.stats)\n",
    "print(f.score)"
   ]
  },
  {
   "cell_type": "code",
   "execution_count": 6,
   "id": "6c9f0240",
   "metadata": {},
   "outputs": [
    {
     "name": "stdout",
     "output_type": "stream",
     "text": [
      "{'num_sentences': 3, 'num_words': 60, 'num_syllables': 91}\n",
      "{'readability': 58.225, 'grade': '11th Grade'}\n"
     ]
    }
   ],
   "source": [
    "import fkscore\n",
    "\n",
    "f = fkscore.fkscore(b)\n",
    "print(f.stats)\n",
    "print(f.score)"
   ]
  },
  {
   "cell_type": "code",
   "execution_count": 7,
   "id": "bb811da9",
   "metadata": {},
   "outputs": [
    {
     "name": "stdout",
     "output_type": "stream",
     "text": [
      "['- The customer is trying to refill a prescription for cholesterol medication, but the doctor stopped prescribing the medication in 2021.\\n- The agent checks the records and finds that the customer is now on a different medication, metformin.\\n- The agent offers to fill the prescription for the customer.\\n- The customer thanks the agent and ends the call.']\n"
     ]
    }
   ],
   "source": [
    "print([a])"
   ]
  },
  {
   "cell_type": "code",
   "execution_count": 8,
   "id": "5b109deb",
   "metadata": {},
   "outputs": [],
   "source": [
    "a_notes = (a.replace('-','').split('\\n'))"
   ]
  },
  {
   "cell_type": "code",
   "execution_count": 9,
   "id": "faef7659",
   "metadata": {},
   "outputs": [],
   "source": [
    "b_notes = (b.replace('-','').split('\\n'))"
   ]
  },
  {
   "cell_type": "code",
   "execution_count": 10,
   "id": "884efdaa",
   "metadata": {},
   "outputs": [
    {
     "data": {
      "text/plain": [
       "(4, 384)"
      ]
     },
     "execution_count": 10,
     "metadata": {},
     "output_type": "execute_result"
    }
   ],
   "source": [
    "sen = a_notes\n",
    "\n",
    "from sentence_transformers import SentenceTransformer\n",
    "model = SentenceTransformer('sentence-transformers/all-MiniLM-L6-v2')\n",
    "#Encoding:\n",
    "sen_embeddings = model.encode(sen)\n",
    "sen_embeddings.shape"
   ]
  },
  {
   "cell_type": "code",
   "execution_count": 11,
   "id": "83b083ec",
   "metadata": {},
   "outputs": [
    {
     "data": {
      "text/plain": [
       "array([[0.40374172, 0.4934861 , 0.25284168]], dtype=float32)"
      ]
     },
     "execution_count": 11,
     "metadata": {},
     "output_type": "execute_result"
    }
   ],
   "source": [
    "from sklearn.metrics.pairwise import cosine_similarity\n",
    "#let's calculate cosine similarity for sentence 0:\n",
    "cosine_similarity(\n",
    "    [sen_embeddings[0]],\n",
    "    sen_embeddings[1:]\n",
    ")"
   ]
  },
  {
   "cell_type": "code",
   "execution_count": 12,
   "id": "a47f17c7",
   "metadata": {},
   "outputs": [
    {
     "data": {
      "text/plain": [
       "[' The customer is trying to refill a prescription for cholesterol medication, but the doctor stopped prescribing the medication in 2021.',\n",
       " ' The agent checks the records and finds that the customer is now on a different medication, metformin.',\n",
       " ' The agent offers to fill the prescription for the customer.',\n",
       " ' The customer thanks the agent and ends the call.']"
      ]
     },
     "execution_count": 12,
     "metadata": {},
     "output_type": "execute_result"
    }
   ],
   "source": [
    "a_notes"
   ]
  },
  {
   "cell_type": "code",
   "execution_count": 13,
   "id": "0a533ed4",
   "metadata": {},
   "outputs": [
    {
     "data": {
      "text/plain": [
       "(3, 384)"
      ]
     },
     "execution_count": 13,
     "metadata": {},
     "output_type": "execute_result"
    }
   ],
   "source": [
    "a_embeddings = model.encode(a_notes)\n",
    "a_embeddings.shape\n",
    "\n",
    "b_embeddings = model.encode(b_notes)\n",
    "b_embeddings.shape"
   ]
  },
  {
   "cell_type": "code",
   "execution_count": 56,
   "id": "a6c08988",
   "metadata": {},
   "outputs": [
    {
     "name": "stdout",
     "output_type": "stream",
     "text": [
      "<class 'numpy.ndarray'>\n"
     ]
    }
   ],
   "source": [
    "similarity_matrix = cosine_similarity(\n",
    "    a_embeddings, b_embeddings\n",
    ")\n",
    "print(type(similarity_matrix))"
   ]
  },
  {
   "cell_type": "code",
   "execution_count": 57,
   "id": "f049c40a",
   "metadata": {},
   "outputs": [
    {
     "data": {
      "text/plain": [
       "[' The customer is trying to refill a prescription for cholesterol medication, but the doctor stopped prescribing the medication in 2021.',\n",
       " ' The agent checks the records and finds that the customer is now on a different medication, metformin.',\n",
       " ' The agent offers to fill the prescription for the customer.',\n",
       " ' The customer thanks the agent and ends the call.']"
      ]
     },
     "execution_count": 57,
     "metadata": {},
     "output_type": "execute_result"
    }
   ],
   "source": [
    "a_notes"
   ]
  },
  {
   "cell_type": "code",
   "execution_count": 58,
   "id": "de264461",
   "metadata": {},
   "outputs": [
    {
     "data": {
      "text/plain": [
       "['The caller, Mary, is trying to get a refill for her prescribed medications that the her doctor prescribed to her for cholesterol.',\n",
       " 'According to the latest records, she is now on a different drug, metformin.',\n",
       " 'The agent can check to see if there is a gap in the system that may have prevented her from being contacted about her prescription.']"
      ]
     },
     "execution_count": 58,
     "metadata": {},
     "output_type": "execute_result"
    }
   ],
   "source": [
    "b_notes"
   ]
  },
  {
   "cell_type": "code",
   "execution_count": 59,
   "id": "86eee1bb",
   "metadata": {},
   "outputs": [
    {
     "data": {
      "text/plain": [
       "array([[ 0.68625665,  0.29286778,  0.46407583],\n",
       "       [ 0.42803872,  0.54409283,  0.6305856 ],\n",
       "       [ 0.50612473,  0.20715195,  0.64771795],\n",
       "       [ 0.341794  , -0.00269258,  0.41527697]], dtype=float32)"
      ]
     },
     "execution_count": 59,
     "metadata": {},
     "output_type": "execute_result"
    }
   ],
   "source": [
    "import numpy as np\n",
    "similarity_matrix"
   ]
  },
  {
   "cell_type": "code",
   "execution_count": 60,
   "id": "29957c4e-cb77-4707-8d06-0d5c41159e76",
   "metadata": {},
   "outputs": [
    {
     "data": {
      "text/plain": [
       "array([0.68625665, 0.6305856 , 0.64771795, 0.41527697], dtype=float32)"
      ]
     },
     "execution_count": 60,
     "metadata": {},
     "output_type": "execute_result"
    }
   ],
   "source": [
    "np.amax(similarity_matrix, axis=1)"
   ]
  },
  {
   "cell_type": "code",
   "execution_count": 61,
   "id": "36dacb62",
   "metadata": {},
   "outputs": [
    {
     "data": {
      "text/plain": [
       "0.5949593"
      ]
     },
     "execution_count": 61,
     "metadata": {},
     "output_type": "execute_result"
    }
   ],
   "source": [
    "np.mean(np.amax(similarity_matrix, axis=1))"
   ]
  },
  {
   "cell_type": "code",
   "execution_count": 51,
   "id": "0312caa7-332c-4077-ab97-e295cba2fb4b",
   "metadata": {},
   "outputs": [
    {
     "data": {
      "text/plain": [
       "0.10568072"
      ]
     },
     "execution_count": 51,
     "metadata": {},
     "output_type": "execute_result"
    }
   ],
   "source": [
    "np.std(np.amax(sim_mat, axis=1))"
   ]
  },
  {
   "cell_type": "code",
   "execution_count": 52,
   "id": "9b2ccb50-7eca-4caa-91d0-9a8f7d7bab88",
   "metadata": {},
   "outputs": [
    {
     "data": {
      "text/plain": [
       "0.011168414"
      ]
     },
     "execution_count": 52,
     "metadata": {},
     "output_type": "execute_result"
    }
   ],
   "source": [
    "np.var(np.amax(sim_mat, axis=1))"
   ]
  },
  {
   "cell_type": "code",
   "execution_count": 50,
   "id": "9dabe196",
   "metadata": {},
   "outputs": [
    {
     "data": {
      "text/plain": [
       "0.6260225"
      ]
     },
     "execution_count": 50,
     "metadata": {},
     "output_type": "execute_result"
    }
   ],
   "source": [
    "np.mean(np.amax(sim_mat, axis=0))"
   ]
  },
  {
   "cell_type": "code",
   "execution_count": 27,
   "id": "e69dd715",
   "metadata": {},
   "outputs": [
    {
     "data": {
      "text/plain": [
       "0.011168414"
      ]
     },
     "execution_count": 27,
     "metadata": {},
     "output_type": "execute_result"
    }
   ],
   "source": [
    "np.var(np.amax(sim_mat, axis=1))"
   ]
  },
  {
   "cell_type": "code",
   "execution_count": 28,
   "id": "44ac206d-7cab-439e-a2a7-1d78def8e37e",
   "metadata": {},
   "outputs": [
    {
     "data": {
      "text/plain": [
       "0.003603772"
      ]
     },
     "execution_count": 28,
     "metadata": {},
     "output_type": "execute_result"
    }
   ],
   "source": [
    "np.var(np.amax(sim_mat, axis=0))"
   ]
  },
  {
   "cell_type": "code",
   "execution_count": 29,
   "id": "38221175-99a8-4275-b0c4-c2aacff9f7bb",
   "metadata": {},
   "outputs": [
    {
     "data": {
      "text/plain": [
       "0.5949593"
      ]
     },
     "execution_count": 29,
     "metadata": {},
     "output_type": "execute_result"
    }
   ],
   "source": [
    "a_notes_sim"
   ]
  },
  {
   "cell_type": "code",
   "execution_count": 54,
   "id": "8c202779-62d3-42b1-8cae-3ff07f6fc742",
   "metadata": {},
   "outputs": [
    {
     "data": {
      "text/plain": [
       "0.25"
      ]
     },
     "execution_count": 54,
     "metadata": {},
     "output_type": "execute_result"
    }
   ],
   "source": [
    "np.count_nonzero(np.amax(sim_mat, axis=1) < .5)/ len(a_notes)"
   ]
  },
  {
   "cell_type": "code",
   "execution_count": 55,
   "id": "b41853cd-fa37-4ca9-8e51-4cf4d4739cb8",
   "metadata": {},
   "outputs": [
    {
     "data": {
      "text/plain": [
       "0.0"
      ]
     },
     "execution_count": 55,
     "metadata": {},
     "output_type": "execute_result"
    }
   ],
   "source": [
    "np.count_nonzero(np.amax(sim_mat, axis=0) < .5)/ len(b_notes)"
   ]
  },
  {
   "cell_type": "code",
   "execution_count": 43,
   "id": "7e4ddfab-f1a1-4321-9d14-9f7b76765151",
   "metadata": {},
   "outputs": [
    {
     "data": {
      "text/plain": [
       "1"
      ]
     },
     "execution_count": 43,
     "metadata": {},
     "output_type": "execute_result"
    }
   ],
   "source": [
    "np.count_nonzero(np.amax(sim_mat, axis=0) <  np.mean(np.amax(sim_mat, axis=0))-np.std(np.amax(sim_mat, axis=0)))"
   ]
  },
  {
   "cell_type": "code",
   "execution_count": null,
   "id": "32cada68-203e-46ff-abc3-a482957b39b5",
   "metadata": {},
   "outputs": [],
   "source": []
  }
 ],
 "metadata": {
  "kernelspec": {
   "display_name": "py38",
   "language": "python",
   "name": "py38"
  },
  "language_info": {
   "codemirror_mode": {
    "name": "ipython",
    "version": 3
   },
   "file_extension": ".py",
   "mimetype": "text/x-python",
   "name": "python",
   "nbconvert_exporter": "python",
   "pygments_lexer": "ipython3",
   "version": "3.8.10"
  }
 },
 "nbformat": 4,
 "nbformat_minor": 5
}
